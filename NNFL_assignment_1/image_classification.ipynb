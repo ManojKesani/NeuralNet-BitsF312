{
 "cells": [
  {
   "cell_type": "markdown",
   "metadata": {},
   "source": [
    "### PreProcessing\n"
   ]
  },
  {
   "cell_type": "code",
   "execution_count": null,
   "metadata": {
    "_cell_guid": "b1076dfc-b9ad-4769-8c92-a6c4dae69d19",
    "_uuid": "8f2839f25d086af736a60e9eeb907d3b93b6e0e5"
   },
   "outputs": [],
   "source": [
    "import numpy as np\n",
    "import matplotlib.pyplot as plt\n",
    "\n",
    "import warnings\n",
    "warnings.filterwarnings('ignore')\n",
    "import cv2\n",
    "import pandas as pd\n",
    "\n",
    "from keras.datasets import mnist\n",
    "from keras.utils import np_utils\n",
    "from keras.models import Sequential\n",
    "from keras.layers import Conv2D, MaxPool2D, Flatten, Dense, Dropout"
   ]
  },
  {
   "cell_type": "code",
   "execution_count": null,
   "metadata": {},
   "outputs": [],
   "source": [
    "!ls ../input/nnfl-assignment-i"
   ]
  },
  {
   "cell_type": "markdown",
   "metadata": {},
   "source": [
    "### Reading Images\n"
   ]
  },
  {
   "cell_type": "code",
   "execution_count": null,
   "metadata": {
    "_cell_guid": "79c7e3d0-c299-4dcb-8224-4455121ee9b0",
    "_uuid": "d629ff2d2480ee46fbb7e2d37f6b5fab8052498a"
   },
   "outputs": [],
   "source": [
    "data=pd.read_csv(\"../input/nnfl-assignment-i/train_mappings_final.csv\")\n",
    "import os\n",
    "# path =os.path.abspath('.\\\\nnfl-assignment-i\\\\final_train\\final_train')\n",
    "images={}\n",
    "for file in os.listdir(\"../input/nnfl-assignment-i/final_train/final_train/\"):\n",
    "    if file.endswith(\"jpg\"):\n",
    "        images[(int)(file.split('.')[0])] = cv2.resize(cv2.imread(os.path.join(\"../input/nnfl-assignment-i/final_train/final_train/\", file)),(64,64))\n"
   ]
  },
  {
   "cell_type": "code",
   "execution_count": null,
   "metadata": {},
   "outputs": [],
   "source": [
    "x_train=[]\n",
    "for i in range(2,16577):\n",
    "    x_train.append(images[i])\n",
    "del images\n",
    "x_train=np.array(x_train)"
   ]
  },
  {
   "cell_type": "code",
   "execution_count": null,
   "metadata": {},
   "outputs": [],
   "source": [
    "y_train=[]\n",
    "for i in data.ix[1:,0]:\n",
    "    y_train.append(int(i))"
   ]
  },
  {
   "cell_type": "code",
   "execution_count": null,
   "metadata": {},
   "outputs": [],
   "source": [
    "x_train=x_train.astype('float32')/255"
   ]
  },
  {
   "cell_type": "markdown",
   "metadata": {},
   "source": [
    "### Creating Model\n"
   ]
  },
  {
   "cell_type": "code",
   "execution_count": null,
   "metadata": {},
   "outputs": [],
   "source": [
    "model = Sequential()\n",
    "\n",
    "model.add(Conv2D(64, (6, 6), input_shape=(64, 64, 3), activation='relu'))\n",
    "model.add(Conv2D(32, (5, 5), activation='relu'))\n",
    "model.add(MaxPool2D(pool_size=(2, 2)))\n",
    "model.add(Conv2D(16, (5, 5), activation='relu'))\n",
    "model.add(Dropout(0.05))\n",
    "model.add(Flatten())\n",
    "model.add(Dense(1024, activation='relu'))\n",
    "model.add(Dropout(0.050))\n",
    "model.add(Dense(512, activation='relu'))\n",
    "model.add(Dropout(0.050))\n",
    "model.add(Dense(256, activation='relu'))\n",
    "model.add(Dropout(0.050))\n",
    "model.add(Dense(128, activation='relu'))\n",
    "model.add(Dense(1, activation='sigmoid'))\n",
    "\n",
    "model.compile(loss='binary_crossentropy', optimizer='adam', metrics=['accuracy'])\n",
    "# model.fit(x_train,y_train, nb_epoch=10,batch_size=16,validation_split=.01,class_weight = {0:1,1: 3.})\n",
    "\n",
    "\n",
    "# y_predict=predict_generator(x_test)\n"
   ]
  },
  {
   "cell_type": "code",
   "execution_count": null,
   "metadata": {},
   "outputs": [],
   "source": [
    "model.fit(x_train,y_train, nb_epoch=5,batch_size=8,validation_split=.01)"
   ]
  },
  {
   "cell_type": "code",
   "execution_count": null,
   "metadata": {},
   "outputs": [],
   "source": [
    "from keras.utils import plot_model\n",
    "plot_model(model, to_file='./model.png')"
   ]
  },
  {
   "cell_type": "code",
   "execution_count": null,
   "metadata": {},
   "outputs": [],
   "source": [
    "import os\n",
    "# path =os.path.abspath('.\\\\nnfl-assignment-i\\\\final_test\\\\final_test')\n",
    "images2={}\n",
    "for file in os.listdir(\"../input/nnfl-assignment-i/final_test/final_test/\"):\n",
    "    if file.endswith(\"jpg\"):\n",
    "        images2[(int)(file.split('.')[0])] = cv2.resize(cv2.imread(os.path.join(\"../input/nnfl-assignment-i/final_test/final_test\", file)),(64,64))\n",
    "x_test=[]\n",
    "for i in range(2,len(images2)+2):\n",
    "    x_test.append(images2[i])\n",
    "x_test=np.array(x_test)\n",
    "x_test"
   ]
  },
  {
   "cell_type": "code",
   "execution_count": null,
   "metadata": {},
   "outputs": [],
   "source": [
    "x_test.shape"
   ]
  },
  {
   "cell_type": "code",
   "execution_count": null,
   "metadata": {},
   "outputs": [],
   "source": [
    "y_test=model.predict(x_test)"
   ]
  },
  {
   "cell_type": "code",
   "execution_count": null,
   "metadata": {},
   "outputs": [],
   "source": [
    "y_test=y_test.reshape(-1)"
   ]
  },
  {
   "cell_type": "markdown",
   "metadata": {},
   "source": [
    "### Creating Submission file\n"
   ]
  },
  {
   "cell_type": "code",
   "execution_count": null,
   "metadata": {},
   "outputs": [],
   "source": [
    "y_test=y_test.astype('int')\n",
    "y_test.reshape(5125)\n",
    "import csv\n",
    "sub=open(\"sub1.csv\",\"w\")\n",
    "writer=csv.writer(sub)\n",
    "writer.writerow([\"id\",\"Category\"])\n",
    "for i in range(0,5125):\n",
    "    writer.writerow([i+2,y_test[i]])\n",
    "sub.close()\n"
   ]
  },
  {
   "cell_type": "markdown",
   "metadata": {},
   "source": [
    "<a href=\"sub1.csv\">download</a>"
   ]
  }
 ],
 "metadata": {
  "kernelspec": {
   "display_name": "Python 3",
   "language": "python",
   "name": "python3"
  },
  "language_info": {
   "codemirror_mode": {
    "name": "ipython",
    "version": 3
   },
   "file_extension": ".py",
   "mimetype": "text/x-python",
   "name": "python",
   "nbconvert_exporter": "python",
   "pygments_lexer": "ipython3",
   "version": "3.7.3"
  }
 },
 "nbformat": 4,
 "nbformat_minor": 1
}
