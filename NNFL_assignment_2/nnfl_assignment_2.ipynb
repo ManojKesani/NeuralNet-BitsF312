{
 "cells": [
  {
   "cell_type": "markdown",
   "metadata": {
    "colab": {},
    "colab_type": "code",
    "id": "J6c1i6ZHvFSJ"
   },
   "source": [
    "### PreProcessing\n"
   ]
  },
  {
   "cell_type": "code",
   "execution_count": null,
   "metadata": {
    "_cell_guid": "b1076dfc-b9ad-4769-8c92-a6c4dae69d19",
    "_uuid": "8f2839f25d086af736a60e9eeb907d3b93b6e0e5",
    "colab": {
     "base_uri": "https://localhost:8080/",
     "height": 70
    },
    "colab_type": "code",
    "id": "bxhkoo1goMNv",
    "outputId": "160d247a-e58d-4d34-87e3-91b5fd3e9048"
   },
   "outputs": [],
   "source": [
    "\n",
    "!unzip drive/'My Drive'/nnfl-assignment-2.zip"
   ]
  },
  {
   "cell_type": "code",
   "execution_count": null,
   "metadata": {
    "_cell_guid": "79c7e3d0-c299-4dcb-8224-4455121ee9b0",
    "_uuid": "d629ff2d2480ee46fbb7e2d37f6b5fab8052498a",
    "colab": {
     "base_uri": "https://localhost:8080/",
     "height": 34
    },
    "colab_type": "code",
    "id": "9FPZERRcoMN-",
    "outputId": "ed9e6f39-416d-45f7-9232-772ce0bfb67d"
   },
   "outputs": [],
   "source": [
    "import numpy as np\n",
    "\n",
    "import warnings\n",
    "warnings.filterwarnings('ignore')\n",
    "\n",
    "import pandas as pd\n",
    "from keras.layers import  Flatten, Dense, Dropout\n"
   ]
  },
  {
   "cell_type": "code",
   "execution_count": null,
   "metadata": {
    "colab": {
     "base_uri": "https://localhost:8080/",
     "height": 34
    },
    "colab_type": "code",
    "id": "IEOh4DZboMOX",
    "outputId": "ed9f837a-8f81-41b7-97fe-d4d68101f679"
   },
   "outputs": [],
   "source": [
    "!ls "
   ]
  },
  {
   "cell_type": "code",
   "execution_count": null,
   "metadata": {
    "colab": {
     "base_uri": "https://localhost:8080/",
     "height": 123
    },
    "colab_type": "code",
    "id": "sRTtD2oMoMOm",
    "outputId": "f78d7c44-795b-47c8-a2b7-4dafbeec8d63"
   },
   "outputs": [],
   "source": [
    "test=pd.read_csv(\"./final_test.csv\")\n",
    "train=pd.read_csv(\"./final_train.csv\")\n",
    "print(train.head(5))"
   ]
  },
  {
   "cell_type": "code",
   "execution_count": null,
   "metadata": {
    "colab": {
     "base_uri": "https://localhost:8080/",
     "height": 1000
    },
    "colab_type": "code",
    "id": "RUzVnbKDoMO-",
    "outputId": "36e6d5cd-0ef7-4ff7-e125-0330917c3385"
   },
   "outputs": [],
   "source": [
    "x_train=train.drop(['rating'],axis=1)\n",
    "x_class=[]\n",
    "temp=np.array(train[['class']]).reshape(-1)\n",
    "for i in temp:\n",
    "#     print(i)\n",
    "    a=np.zeros(836)\n",
    "    a[i]=1\n",
    "    x_class.append(a)\n",
    "# print(min(np.array(train['class'])),max(np.array(train['class'])))\n",
    "print(np.array(x_class).shape)\n",
    "x_class=np.array(x_class)\n",
    "\n",
    "y_train=train[['rating']]\n",
    "train.info\n"
   ]
  },
  {
   "cell_type": "code",
   "execution_count": null,
   "metadata": {
    "colab": {
     "base_uri": "https://localhost:8080/",
     "height": 34
    },
    "colab_type": "code",
    "id": "SLdgqtHAoMPL",
    "outputId": "1e04a061-0d3e-46c0-e774-ba6ccedecbf9"
   },
   "outputs": [],
   "source": [
    "x_test=test\n",
    "y_train=np.array(y_train).reshape((-1))\n",
    "print(y_train)\n",
    "y_train=np.array(y_train)"
   ]
  },
  {
   "cell_type": "code",
   "execution_count": null,
   "metadata": {
    "colab": {
     "base_uri": "https://localhost:8080/",
     "height": 34
    },
    "colab_type": "code",
    "id": "vTUyDo0NoMPe",
    "outputId": "3fc42849-da55-4497-cb9f-071a057dab79"
   },
   "outputs": [],
   "source": [
    "print(y_train/10)\n",
    "y_train=y_train/10"
   ]
  },
  {
   "cell_type": "code",
   "execution_count": null,
   "metadata": {
    "colab": {},
    "colab_type": "code",
    "id": "tB-zuc0yoMPn"
   },
   "outputs": [],
   "source": [
    "import numpy as np \n",
    "import pandas as pd \n",
    "import os\n",
    "\n",
    "from sklearn.feature_extraction.text import CountVectorizer\n",
    "from keras.preprocessing.text import Tokenizer\n",
    "from keras.preprocessing.sequence import pad_sequences\n",
    "from keras.models import Model\n",
    "from keras.layers import Dense, Embedding, LSTM, Input\n",
    "from sklearn.model_selection import train_test_split\n",
    "from keras.utils.np_utils import to_categorical\n",
    "import re"
   ]
  },
  {
   "cell_type": "code",
   "execution_count": null,
   "metadata": {
    "colab": {
     "base_uri": "https://localhost:8080/",
     "height": 72
    },
    "colab_type": "code",
    "id": "nXpo6ROxoMPx",
    "outputId": "7dc5e4d6-aed8-4d06-b941-25faf9badd10"
   },
   "outputs": [],
   "source": [
    "num_words = 100000\n",
    "tokenizer = Tokenizer(num_words=num_words, filters='!\"#$%&()*+,-./:;<=>?@[\\\\]^_`{|}~\\t\\n',lower=True,split=' ')\n",
    "tokenizer.fit_on_texts(x_train['desc'].values)\n",
    "X = tokenizer.texts_to_sequences(x_train['desc'].values)\n",
    "word_index = tokenizer.word_index\n",
    "print('Found %s unique tokens.' % len(word_index))\n",
    "\n",
    "max_length_of_text = 200\n",
    "X = pad_sequences(X, maxlen=max_length_of_text)\n",
    "\n",
    "print(word_index)\n"
   ]
  },
  {
   "cell_type": "code",
   "execution_count": null,
   "metadata": {
    "colab": {
     "base_uri": "https://localhost:8080/",
     "height": 34
    },
    "colab_type": "code",
    "id": "Abxk3PfzoMP7",
    "outputId": "e1bc842c-56d4-4f60-b729-5ac1ab678e18"
   },
   "outputs": [],
   "source": [
    "x_class.shape"
   ]
  },
  {
   "cell_type": "code",
   "execution_count": null,
   "metadata": {
    "colab": {},
    "colab_type": "code",
    "id": "NW74qDfNoMQE"
   },
   "outputs": [],
   "source": [
    "# X_train, X_test, y_train, y_test = train_test_split(X,y_train, test_size = 0.05, random_state = 42)\n",
    "# print(X_train.shape,y_train.shape)\n",
    "# X_train\n",
    "# print(X_test.shape,y_test.shape)"
   ]
  },
  {
   "cell_type": "markdown",
   "metadata": {},
   "source": [
    "### Creating Model"
   ]
  },
  {
   "cell_type": "code",
   "execution_count": null,
   "metadata": {
    "colab": {
     "base_uri": "https://localhost:8080/",
     "height": 801
    },
    "colab_type": "code",
    "id": "s1UXp31GoMQK",
    "outputId": "36eb334e-316b-46b8-aa53-765a61442909"
   },
   "outputs": [],
   "source": [
    "import keras\n",
    "embed_dim = 500 #Change to observe effects\n",
    "lstm_out = 256 #Change to observe effects\n",
    "batch_size = 32\n",
    "\n",
    "\n",
    "input1 = keras.layers.Input(shape=(200,))\n",
    "\n",
    "input2 = keras.layers.Input(shape=(836,))\n",
    "# xb = keras.layers.Dense(8, activation='relu')(input2)\n",
    "# print(inputs.shape)\n",
    "x = Embedding(num_words, embed_dim)(input1)    # More info on Embeddings here - https://machinelearningmastery.com/use-word-embedding-layers-deep-learning-keras/\n",
    "# # And here : https://www.kaggle.com/rajmehra03/a-detailed-explanation-of-keras-embedding-layer\n",
    "x = LSTM(lstm_out)(x) # The LSTM transforms the vector sequence into a single vector of size lstm_out, containing information about the entire sequence\n",
    "# print(classes.shape)\n",
    "xb=Dense(512,activation='relu', kernel_initializer='normal')(input2)\n",
    "\n",
    "x = Dense(512,activation='relu', kernel_initializer='normal')(x)\n",
    "added = keras.layers.Concatenate(axis=-1)([x,xb])\n",
    "c=Dropout(0.2)(added)\n",
    "c = Dense(512,activation='relu', kernel_initializer='normal')(c)\n",
    "c=Dropout(0.2)(c)\n",
    "# print(added.shape)\n",
    "c = Dense(256,activation='relu', kernel_initializer='normal')(c)\n",
    "c=Dropout(0.2)(added)\n",
    "c = Dense(128,activation='relu', kernel_initializer='normal')(c)\n",
    "c=Dropout(0.2)(added)\n",
    "c = Dense(64,activation='relu', kernel_initializer='normal')(c)\n",
    "\n",
    "c = Dense(1,activation='relu', kernel_initializer='normal')(c)\n",
    "# X=keras.layers.Input(X)\n",
    "# x_class=keras.layers.Input(x_class)\n",
    "model = Model(inputs=[input1, input2], outputs=c)\n",
    "print(model.summary())\n",
    "import keras\n",
    "\n",
    "# input1 = keras.layers.Input(shape=(16,))\n",
    "# x1 = keras.layers.Dense(8, activation='relu')(input1)\n",
    "# input2 = keras.layers.Input(shape=(32,))\n",
    "# x2 = keras.layers.Dense(8, activation='relu')(input2)\n",
    "# # equivalent to added = keras.layers.add([x1, x2])\n",
    "# added = keras.layers.Add()([x1, x2])\n",
    "\n",
    "# out = keras.layers.Dense(4)(added)\n",
    "# model = keras.models.Model(inputs=[input1, input2], outputs=out)\n"
   ]
  },
  {
   "cell_type": "code",
   "execution_count": null,
   "metadata": {
    "colab": {
     "base_uri": "https://localhost:8080/",
     "height": 72
    },
    "colab_type": "code",
    "id": "Fa8eOJR8oMQY",
    "outputId": "6b2f0aa7-6888-401c-e4f7-ef3a8d5b9220"
   },
   "outputs": [],
   "source": [
    "import keras\n",
    "\n",
    "# OPTIM=keras.optimizers.Adam(learning_rate=0.1, beta_1=0.999, beta_2=0.9999, amsgrad=False)\n",
    "model.compile(loss = 'mean_squared_error', optimizer='adam',metrics = ['accuracy'])\n"
   ]
  },
  {
   "cell_type": "code",
   "execution_count": null,
   "metadata": {
    "colab": {
     "base_uri": "https://localhost:8080/",
     "height": 1000
    },
    "colab_type": "code",
    "id": "9dDz8-D3oMQn",
    "outputId": "ca67240e-db85-4a60-f18f-c2938461baec"
   },
   "outputs": [],
   "source": [
    "from keras.callbacks import ModelCheckpoint\n",
    "\n",
    "filepath=\"weights-improvement.hdf5\"\n",
    "\n",
    "checkpoint = ModelCheckpoint(filepath, monitor='accuracy', verbose=1, save_best_only=True, mode='max')\n",
    "callbacks_list = [checkpoint]\n",
    "model.fit(x=[X,x_class], y=y_train, batch_size=1024, epochs=30,callbacks=callbacks_list, verbose=1)"
   ]
  },
  {
   "cell_type": "code",
   "execution_count": null,
   "metadata": {
    "colab": {
     "base_uri": "https://localhost:8080/",
     "height": 125
    },
    "colab_type": "code",
    "id": "7bWN2DNfrrIS",
    "outputId": "8f15693b-2d3f-4ecb-cff5-41897fc7a6bc"
   },
   "outputs": [],
   "source": [
    "from google.colab import drive\n",
    "drive.mount('/content/drive')"
   ]
  },
  {
   "cell_type": "code",
   "execution_count": null,
   "metadata": {
    "colab": {},
    "colab_type": "code",
    "id": "tFJIHyusoMQ6"
   },
   "outputs": [],
   "source": [
    "Y=tokenizer.texts_to_sequences(test['desc'].values)\n",
    "testing_input = pad_sequences(Y, maxlen=max_length_of_text)\n",
    "testing_classes=[]\n",
    "temp=np.array(test[['class']])\n",
    "for i in temp:\n",
    "    a=np.zeros(836)\n",
    "    a[i]=1\n",
    "    testing_classes.append(a)\n",
    "testing_classes=np.array(testing_classes)"
   ]
  },
  {
   "cell_type": "code",
   "execution_count": null,
   "metadata": {
    "colab": {},
    "colab_type": "code",
    "id": "3G47twn-oMRA",
    "outputId": "d397fbda-0c64-4abe-edec-7ea12e0d9ef2"
   },
   "outputs": [],
   "source": [
    "testing_classes.shape"
   ]
  },
  {
   "cell_type": "code",
   "execution_count": null,
   "metadata": {
    "colab": {},
    "colab_type": "code",
    "id": "s1lkvoYsoMRM",
    "outputId": "4f609ccb-1e73-4d15-eeea-b0075e056147"
   },
   "outputs": [],
   "source": [
    "filepath"
   ]
  },
  {
   "cell_type": "code",
   "execution_count": null,
   "metadata": {
    "colab": {},
    "colab_type": "code",
    "id": "sycVZv4DoMRX"
   },
   "outputs": [],
   "source": [
    "model.load_weights(\"weights-improvement.hdf5\")"
   ]
  },
  {
   "cell_type": "code",
   "execution_count": null,
   "metadata": {
    "colab": {},
    "colab_type": "code",
    "id": "dv-H9DrDoMRo"
   },
   "outputs": [],
   "source": [
    "predict=model.predict([testing_input,testing_classes])"
   ]
  },
  {
   "cell_type": "code",
   "execution_count": null,
   "metadata": {
    "colab": {},
    "colab_type": "code",
    "id": "1GSRsT_doMR2",
    "outputId": "91bd6284-d8ec-4b95-ce13-7d536ef4453e"
   },
   "outputs": [],
   "source": [
    "print(predict[0:50])"
   ]
  },
  {
   "cell_type": "markdown",
   "metadata": {},
   "source": [
    "### Post Processing of 3 types And creating submission file"
   ]
  },
  {
   "cell_type": "code",
   "execution_count": null,
   "metadata": {
    "colab": {},
    "colab_type": "code",
    "id": "1ppHU96AoMR_"
   },
   "outputs": [],
   "source": [
    "predictA=predict.reshape(-1)\n",
    "predictB=predict.reshape(-1)\n",
    "\n",
    "predictC=predict.reshape(-1)\n",
    "predictD=predict.reshape(-1)\n"
   ]
  },
  {
   "cell_type": "code",
   "execution_count": null,
   "metadata": {
    "colab": {},
    "colab_type": "code",
    "id": "oAWGi7tGoMSF"
   },
   "outputs": [],
   "source": [
    "predictA=predictA/np.max(predictA)\n",
    "predictA*=10\n",
    "for i in range(53175):\n",
    "    if predictA[i]>10:\n",
    "        predictA[i]=10.0\n",
    "    elif predictA[i]<1:\n",
    "        predictA[i]=1.0\n",
    "    else:\n",
    "        pass\n",
    "y_test=np.ceil(predictA)\n",
    "y_test.reshape(53175)\n",
    "import csv\n",
    "sub=open(\"sub1.csv\",\"w\")\n",
    "writer=csv.writer(sub)\n",
    "writer.writerow([\"Id\",\"rating\"])\n",
    "for i in range(0,53175):\n",
    "    writer.writerow([i,y_test[i]])\n",
    "sub.close()\n"
   ]
  },
  {
   "cell_type": "markdown",
   "metadata": {
    "colab_type": "text",
    "id": "VdfM-U9IoMSN"
   },
   "source": [
    "<a href=\"sub1.csv\">subA</a>"
   ]
  },
  {
   "cell_type": "markdown",
   "metadata": {
    "colab_type": "text",
    "id": "5YpzLQnGoMSP"
   },
   "source": [
    "* <a href=\"weights-improvement.hdf5\">download</a>"
   ]
  },
  {
   "cell_type": "code",
   "execution_count": null,
   "metadata": {
    "colab": {},
    "colab_type": "code",
    "id": "3ItEvXB0oMSR"
   },
   "outputs": [],
   "source": [
    "# predictB=predictB\n",
    "predictB*=10\n",
    "for i in range(53175):\n",
    "    if predictB[i]>10:\n",
    "        predictB[i]=10.0\n",
    "    elif predictB[i]<1:\n",
    "        predictB[i]=1.0\n",
    "    else:\n",
    "        pass\n",
    "y_test=np.ceil(predictB)\n",
    "y_test.reshape(53175)\n",
    "import csv\n",
    "sub=open(\"sub2.csv\",\"w\")\n",
    "writer=csv.writer(sub)\n",
    "writer.writerow([\"Id\",\"rating\"])\n",
    "for i in range(0,53175):\n",
    "    writer.writerow([i,y_test[i]])\n",
    "sub.close()\n"
   ]
  },
  {
   "cell_type": "markdown",
   "metadata": {
    "colab_type": "text",
    "id": "-mBvKKhvoMSX"
   },
   "source": [
    "<a href=\"sub2.csv\">subB</a>"
   ]
  },
  {
   "cell_type": "code",
   "execution_count": null,
   "metadata": {
    "colab": {},
    "colab_type": "code",
    "id": "Iide_RqvoMSZ"
   },
   "outputs": [],
   "source": [
    "predictC=predictC/np.max(predictC)\n",
    "predictC*=10\n",
    "predictC=np.floor(predictC)\n",
    "for i in range(53175):\n",
    "    if predictC[i]>10:\n",
    "        predictC[i]=10.0\n",
    "    elif predictC[i]<1:\n",
    "        predictC[i]=1.0\n",
    "    else:\n",
    "        pass\n",
    "# y_test=np.ceil(predictB)\n",
    "y_test=y_test.reshape(-1)\n",
    "import csv\n",
    "sub=open(\"sub3.csv\",\"w\")\n",
    "writer=csv.writer(sub)\n",
    "writer.writerow([\"Id\",\"rating\"])\n",
    "for i in range(0,53175):\n",
    "    writer.writerow([i,y_test[i]])\n",
    "sub.close()\n"
   ]
  },
  {
   "cell_type": "markdown",
   "metadata": {
    "colab_type": "text",
    "id": "d3uhb5TnoMSl"
   },
   "source": [
    "<a href=\"sub3.csv\">subC</a>"
   ]
  },
  {
   "cell_type": "code",
   "execution_count": null,
   "metadata": {
    "colab": {},
    "colab_type": "code",
    "id": "VRhw-TZZoMSo",
    "outputId": "c706c805-7887-419e-cc06-ccde3b88b3f6"
   },
   "outputs": [],
   "source": [
    "print('done')"
   ]
  },
  {
   "cell_type": "code",
   "execution_count": null,
   "metadata": {
    "colab": {},
    "colab_type": "code",
    "id": "wNSRe214oMSx"
   },
   "outputs": [],
   "source": []
  }
 ],
 "metadata": {
  "accelerator": "GPU",
  "colab": {
   "name": "kernel2cc69000333c.ipynb",
   "provenance": []
  },
  "kernelspec": {
   "display_name": "Python 3",
   "language": "python",
   "name": "python3"
  },
  "language_info": {
   "codemirror_mode": {
    "name": "ipython",
    "version": 3
   },
   "file_extension": ".py",
   "mimetype": "text/x-python",
   "name": "python",
   "nbconvert_exporter": "python",
   "pygments_lexer": "ipython3",
   "version": "3.7.3"
  }
 },
 "nbformat": 4,
 "nbformat_minor": 1
}
