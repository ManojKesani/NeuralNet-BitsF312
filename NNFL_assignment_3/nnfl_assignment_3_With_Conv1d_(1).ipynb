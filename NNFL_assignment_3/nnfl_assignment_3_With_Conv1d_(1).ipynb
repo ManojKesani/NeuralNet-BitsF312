{
 "cells": [
  {
   "cell_type": "markdown",
   "metadata": {},
   "source": [
    "### Loading Word2Vec Data"
   ]
  },
  {
   "cell_type": "code",
   "execution_count": 1,
   "metadata": {
    "_cell_guid": "b1076dfc-b9ad-4769-8c92-a6c4dae69d19",
    "_uuid": "8f2839f25d086af736a60e9eeb907d3b93b6e0e5",
    "colab": {
     "base_uri": "https://localhost:8080/",
     "height": 364
    },
    "colab_type": "code",
    "id": "DXGjwg509P-M",
    "outputId": "4f7ddcbd-1ecb-4267-852a-87cc46bed49a"
   },
   "outputs": [
    {
     "name": "stdout",
     "output_type": "stream",
     "text": [
      "--2019-11-17 18:29:54--  http://nlp.stanford.edu/data/glove.6B.zip\n",
      "Resolving nlp.stanford.edu (nlp.stanford.edu)... 171.64.67.140\n",
      "Connecting to nlp.stanford.edu (nlp.stanford.edu)|171.64.67.140|:80... connected.\n",
      "HTTP request sent, awaiting response... 302 Found\n",
      "Location: https://nlp.stanford.edu/data/glove.6B.zip [following]\n",
      "--2019-11-17 18:29:54--  https://nlp.stanford.edu/data/glove.6B.zip\n",
      "Connecting to nlp.stanford.edu (nlp.stanford.edu)|171.64.67.140|:443... connected.\n",
      "HTTP request sent, awaiting response... 301 Moved Permanently\n",
      "Location: http://downloads.cs.stanford.edu/nlp/data/glove.6B.zip [following]\n",
      "--2019-11-17 18:29:55--  http://downloads.cs.stanford.edu/nlp/data/glove.6B.zip\n",
      "Resolving downloads.cs.stanford.edu (downloads.cs.stanford.edu)... 171.64.64.22\n",
      "Connecting to downloads.cs.stanford.edu (downloads.cs.stanford.edu)|171.64.64.22|:80... connected.\n",
      "HTTP request sent, awaiting response... 200 OK\n",
      "Length: 862182613 (822M) [application/zip]\n",
      "Saving to: ‘glove.6B.zip’\n",
      "\n",
      "glove.6B.zip        100%[===================>] 822.24M  1.73MB/s    in 6m 42s  \n",
      "\n",
      "2019-11-17 18:36:38 (2.04 MB/s) - ‘glove.6B.zip’ saved [862182613/862182613]\n",
      "\n"
     ]
    }
   ],
   "source": [
    "!wget http://nlp.stanford.edu/data/glove.6B.zip"
   ]
  },
  {
   "cell_type": "code",
   "execution_count": 2,
   "metadata": {
    "colab": {
     "base_uri": "https://localhost:8080/",
     "height": 104
    },
    "colab_type": "code",
    "id": "3NDwwNLIetVh",
    "outputId": "e17cb10a-6467-4ef4-de95-c7dd7eb36035"
   },
   "outputs": [
    {
     "name": "stdout",
     "output_type": "stream",
     "text": [
      "Archive:  glove.6B.zip\n",
      "  inflating: glove.6B.50d.txt        \n",
      "  inflating: glove.6B.100d.txt       \n",
      "  inflating: glove.6B.200d.txt       \n",
      "  inflating: glove.6B.300d.txt       \n"
     ]
    }
   ],
   "source": [
    "!unzip glove.6B.zip\n"
   ]
  },
  {
   "cell_type": "code",
   "execution_count": 0,
   "metadata": {
    "colab": {},
    "colab_type": "code",
    "id": "GJ8U-kpS9rwf"
   },
   "outputs": [],
   "source": []
  },
  {
   "cell_type": "code",
   "execution_count": 3,
   "metadata": {
    "colab": {
     "base_uri": "https://localhost:8080/",
     "height": 34
    },
    "colab_type": "code",
    "id": "rEoOQQ_2h_S0",
    "outputId": "b102c4d8-2565-43ff-fc15-4529eff349af"
   },
   "outputs": [
    {
     "name": "stdout",
     "output_type": "stream",
     "text": [
      "Found 400000 word vectors.\n"
     ]
    }
   ],
   "source": [
    "import numpy as np\n",
    "embeddings_index = {}\n",
    "f = open( 'glove.6B.200d.txt')\n",
    "for line in f:\n",
    "    values = line.split()\n",
    "    word = values[0]\n",
    "    coefs = np.asarray(values[1:], dtype='float32')\n",
    "    embeddings_index[word] = coefs\n",
    "f.close()\n",
    "\n",
    "print('Found %s word vectors.' % len(embeddings_index))"
   ]
  },
  {
   "cell_type": "markdown",
   "metadata": {},
   "source": [
    "### PreProcessing"
   ]
  },
  {
   "cell_type": "code",
   "execution_count": 4,
   "metadata": {
    "_cell_guid": "79c7e3d0-c299-4dcb-8224-4455121ee9b0",
    "_uuid": "d629ff2d2480ee46fbb7e2d37f6b5fab8052498a",
    "colab": {
     "base_uri": "https://localhost:8080/",
     "height": 81
    },
    "colab_type": "code",
    "id": "rCZGkK2J9P-W",
    "outputId": "2af7dfa3-d53a-4267-dcea-24c575fa6b59"
   },
   "outputs": [
    {
     "name": "stderr",
     "output_type": "stream",
     "text": [
      "Using TensorFlow backend.\n"
     ]
    },
    {
     "data": {
      "text/html": [
       "<p style=\"color: red;\">\n",
       "The default version of TensorFlow in Colab will soon switch to TensorFlow 2.x.<br>\n",
       "We recommend you <a href=\"https://www.tensorflow.org/guide/migrate\" target=\"_blank\">upgrade</a> now \n",
       "or ensure your notebook will continue to use TensorFlow 1.x via the <code>%tensorflow_version 1.x</code> magic:\n",
       "<a href=\"https://colab.research.google.com/notebooks/tensorflow_version.ipynb\" target=\"_blank\">more info</a>.</p>\n"
      ],
      "text/plain": [
       "<IPython.core.display.HTML object>"
      ]
     },
     "metadata": {
      "tags": []
     },
     "output_type": "display_data"
    }
   ],
   "source": [
    "import numpy as np\n",
    "\n",
    "import warnings\n",
    "warnings.filterwarnings('ignore')\n",
    "\n",
    "import pandas as pd\n",
    "from keras.layers import  Flatten, Dense, Dropout\n"
   ]
  },
  {
   "cell_type": "code",
   "execution_count": 20,
   "metadata": {
    "colab": {
     "base_uri": "https://localhost:8080/",
     "height": 121
    },
    "colab_type": "code",
    "id": "a1MOGJXf9P-m",
    "outputId": "bdd917fe-ecef-4e55-9415-6100f43c8ed2"
   },
   "outputs": [
    {
     "name": "stdout",
     "output_type": "stream",
     "text": [
      "     ID                                               Text  Class\n",
      "0  7303  \"Please enable removing language code from the...      1\n",
      "1  5258  \"Note: in your .csproj file, there is a Suppor...      0\n",
      "2  6218  \"Wich means the new version not fully replaced...      0\n",
      "3  3076  \"Some of my users will still receive the old x...      0\n",
      "4  6508  \"The store randomly gives the old xap or the n...      0\n"
     ]
    }
   ],
   "source": [
    "test=pd.read_csv(\"./test.csv\")\n",
    "train=pd.read_csv(\"./train.csv\")\n",
    "print(train.head(5))\n"
   ]
  },
  {
   "cell_type": "code",
   "execution_count": 21,
   "metadata": {
    "colab": {
     "base_uri": "https://localhost:8080/",
     "height": 260
    },
    "colab_type": "code",
    "id": "-Vjyw-Rm9P-s",
    "outputId": "d66edd8e-04b8-43e9-9fd7-0341f73612dd"
   },
   "outputs": [
    {
     "data": {
      "text/plain": [
       "<bound method DataFrame.info of         ID                                               Text  Class\n",
       "0     7303  \"Please enable removing language code from the...      1\n",
       "1     5258  \"Note: in your .csproj file, there is a Suppor...      0\n",
       "2     6218  \"Wich means the new version not fully replaced...      0\n",
       "3     3076  \"Some of my users will still receive the old x...      0\n",
       "4     6508  \"The store randomly gives the old xap or the n...      0\n",
       "...    ...                                                ...    ...\n",
       "8495  5149  The following will reliably throw some flavor ...      0\n",
       "8496  3794  This will reliably result in a BSOD if zero by...      0\n",
       "8497  5384  As of now it's only possible to set the Calend...      0\n",
       "8498   859  It's not possible to set the Hijri adjustment ...      0\n",
       "8499  6659  The Windows 10 Calender app show cases this fe...      0\n",
       "\n",
       "[8500 rows x 3 columns]>"
      ]
     },
     "execution_count": 21,
     "metadata": {
      "tags": []
     },
     "output_type": "execute_result"
    }
   ],
   "source": [
    "x_train=train['Text']\n",
    "y_train=train[['Class']]\n",
    "train.info\n"
   ]
  },
  {
   "cell_type": "code",
   "execution_count": 22,
   "metadata": {
    "colab": {
     "base_uri": "https://localhost:8080/",
     "height": 260
    },
    "colab_type": "code",
    "id": "nKRN8JzJQjxc",
    "outputId": "de33a3be-8cc0-4aea-f84c-bf5bd6e231cf"
   },
   "outputs": [
    {
     "data": {
      "text/plain": [
       "<bound method DataFrame.info of         ID                                               Text\n",
       "0     9348         This would enable live traffic aware apps.\n",
       "1     9393  Please try other formatting like bold italics ...\n",
       "2     8557  Since computers were invented to save time I s...\n",
       "3     9288  Allow rearranging if the user wants to change ...\n",
       "4     9231  Add SIMD instructions for better use of ARM NE...\n",
       "...    ...                                                ...\n",
       "1420  8583  we should have small tiles instead of a long l...\n",
       "1421  9409  An app should be able to publish a service tha...\n",
       "1422  8733  For example, if I have an app that can process...\n",
       "1423  9697  I would like access to a stream for music play...\n",
       "1424  9798  i wish the functionality to access and synchro...\n",
       "\n",
       "[1425 rows x 2 columns]>"
      ]
     },
     "execution_count": 22,
     "metadata": {
      "tags": []
     },
     "output_type": "execute_result"
    }
   ],
   "source": [
    "test.info"
   ]
  },
  {
   "cell_type": "code",
   "execution_count": 23,
   "metadata": {
    "colab": {
     "base_uri": "https://localhost:8080/",
     "height": 34
    },
    "colab_type": "code",
    "id": "p2UeVvLT9P-y",
    "outputId": "8f55b5f9-5ef4-4687-e048-e41893c62126"
   },
   "outputs": [
    {
     "name": "stdout",
     "output_type": "stream",
     "text": [
      "[1 0 0 ... 0 0 0]\n"
     ]
    }
   ],
   "source": [
    "\n",
    "y_train=np.array(y_train).reshape((-1))\n",
    "print(y_train)"
   ]
  },
  {
   "cell_type": "code",
   "execution_count": 24,
   "metadata": {
    "colab": {
     "base_uri": "https://localhost:8080/",
     "height": 34
    },
    "colab_type": "code",
    "id": "clGWv90H9P-3",
    "outputId": "48b0dfea-f5bd-41d0-c031-d045710658f6"
   },
   "outputs": [
    {
     "data": {
      "text/plain": [
       "0.24529411764705883"
      ]
     },
     "execution_count": 24,
     "metadata": {
      "tags": []
     },
     "output_type": "execute_result"
    }
   ],
   "source": [
    "np.average(y_train)"
   ]
  },
  {
   "cell_type": "code",
   "execution_count": 0,
   "metadata": {
    "colab": {},
    "colab_type": "code",
    "id": "nGxgkwZd9P-9"
   },
   "outputs": [],
   "source": [
    "import numpy as np \n",
    "import pandas as pd \n",
    "import os\n",
    "\n",
    "from sklearn.feature_extraction.text import CountVectorizer\n",
    "from keras.preprocessing.text import Tokenizer\n",
    "from keras.preprocessing.sequence import pad_sequences\n",
    "from keras.models import Model\n",
    "from keras.layers import Dense, Embedding, LSTM, Input\n",
    "from sklearn.model_selection import train_test_split\n",
    "from keras.utils.np_utils import to_categorical\n",
    "import re"
   ]
  },
  {
   "cell_type": "code",
   "execution_count": 26,
   "metadata": {
    "colab": {
     "base_uri": "https://localhost:8080/",
     "height": 176
    },
    "colab_type": "code",
    "id": "1ae4KVFdSHKe",
    "outputId": "490f9d2d-9d57-44b1-ef3e-62bc1ef441d0"
   },
   "outputs": [
    {
     "data": {
      "text/plain": [
       "array(['\"Please enable removing language code from the Dev Center \"language history\" For example if you ever selected \"ru\" and \"ru-ru\" laguages and you published this xap to the Store then it causes Tile localization to show the en-us(default) tile localization which is bad.\"',\n",
       "       '\"Note: in your .csproj file, there is a SupportedCultures entry like this: <SupportedCultures>de-DE;ru;ru-RU </SupportedCultures> When I removed the \"ru\" language code and published my new xap version, the old xap version still remains in the Store with \"Replaced and unpublished\".\"',\n",
       "       '\"Wich means the new version not fully replaced the old version and this causes me very serious problems: 1.\"',\n",
       "       ...,\n",
       "       \"As of now it's only possible to set the CalenderIdentifier property to tell the control which calender to use.\",\n",
       "       \"It's not possible to set the Hijri adjustment for the month of Ramadan/Shaban though which can vary per region/user (some users like to use the adjustment of a different country).\",\n",
       "       'The Windows 10 Calender app show cases this feature with their calender when you set the alternative calender to Hijri a new setting shows up which is Hijri adjustment and it works nice.'],\n",
       "      dtype=object)"
      ]
     },
     "execution_count": 26,
     "metadata": {
      "tags": []
     },
     "output_type": "execute_result"
    }
   ],
   "source": [
    "x_train.values"
   ]
  },
  {
   "cell_type": "code",
   "execution_count": 27,
   "metadata": {
    "colab": {
     "base_uri": "https://localhost:8080/",
     "height": 72
    },
    "colab_type": "code",
    "id": "aMk2GfIw9P_C",
    "outputId": "dcbdda7f-1eef-45e2-a678-2597fd7511c6"
   },
   "outputs": [
    {
     "name": "stdout",
     "output_type": "stream",
     "text": [
      "Found 10001 unique tokens.\n",
      "{'the': 1, 'to': 2, 'a': 3, 'and': 4, 'in': 5, 'is': 6, 'i': 7, 'it': 8, 'of': 9, 'for': 10, 'be': 11, 'that': 12, 'this': 13, 'app': 14, 'on': 15, 'with': 16, 'not': 17, 'have': 18, 'windows': 19, 'would': 20, 'you': 21, 'as': 22, 'an': 23, 'if': 24, 'or': 25, 'but': 26, 'can': 27, 'when': 28, 'my': 29, 'apps': 30, 'like': 31, 'are': 32, 'from': 33, 'phone': 34, 'we': 35, 'so': 36, 'more': 37, 'use': 38, '\\r': 39, 'there': 40, 'should': 41, 'all': 42, 'will': 43, 'user': 44, 'which': 45, 'by': 46, 'please': 47, 'add': 48, 'only': 49, 'store': 50, 'at': 51, 'could': 52, 'using': 53, 'one': 54, 'do': 55, 'microsoft': 56, 'no': 57, '1': 58, 'support': 59, 'some': 60, 'way': 61, 'new': 62, 'allow': 63, 'make': 64, 'com': 65, 'has': 66, 'able': 67, 'uwp': 68, 'also': 69, 'application': 70, 'currently': 71, 'just': 72, 'control': 73, 'feedly': 74, 'get': 75, 'want': 76, 'was': 77, 'then': 78, 'other': 79, 'api': 80, 'need': 81, 'time': 82, 'they': 83, '0': 84, 'any': 85, 'now': 86, 'developers': 87, 'see': 88, 'file': 89, 'create': 90, '10': 91, \"it's\": 92, 'your': 93, 'because': 94, 'code': 95, 'data': 96, 'same': 97, 'users': 98, 'work': 99, 'up': 100, '8': 101, 'developer': 102, 'access': 103, 'screen': 104, 'us': 105, 'very': 106, 'does': 107, 'page': 108, 'them': 109, 'example': 110, 'me': 111, 'possible': 112, 'option': 113, 'set': 114, 'into': 115, 'open': 116, 'great': 117, 'even': 118, 'what': 119, 'button': 120, 'after': 121, 'text': 122, 'http': 123, 'search': 124, 'device': 125, 'provide': 126, \"doesn't\": 127, 'desktop': 128, \"i'm\": 129, \"don't\": 130, 'their': 131, 'without': 132, 'right': 133, 'version': 134, 'where': 135, 'account': 136, 'etc': 137, 'problem': 138, 'buffering': 139, 'feature': 140, 'how': 141, 'xaml': 142, 'update': 143, 'these': 144, 'https': 145, 'video': 146, 'used': 147, 'than': 148, 'android': 149, 'many': 150, 'our': 151, 'such': 152, 'background': 153, 'really': 154, 'think': 155, 'google': 156, 'system': 157, 'files': 158, 'issue': 159, 'name': 160, 'available': 161, 'good': 162, 'list': 163, \"can't\": 164, '2': 165, 'back': 166, 'know': 167, 'am': 168, 'still': 169, 'change': 170, 'applications': 171, 'out': 172, 'its': 173, 'show': 174, 'through': 175, 'about': 176, 'having': 177, 'while': 178, 'nice': 179, 'content': 180, 'different': 181, 'something': 182, 'why': 183, 'lot': 184, 'call': 185, 'e': 186, 'however': 187, 'instead': 188, 'ability': 189, 'web': 190, 'find': 191, 'mobile': 192, 'dev': 193, 'devices': 194, 'since': 195, 'already': 196, 'read': 197, 'ui': 198, 'working': 199, 'cannot': 200, 'another': 201, 'every': 202, 'via': 203, 'much': 204, 'number': 205, 'each': 206, 'property': 207, 'current': 208, 'first': 209, 'better': 210, 'here': 211, 'image': 212, 'c': 213, 'useful': 214, 'works': 215, 'too': 216, 'well': 217, 'people': 218, 'being': 219, 'click': 220, '7': 221, 'build': 222, 'center': 223, 'browser': 224, 'wp8': 225, 'been': 226, 'own': 227, 'event': 228, 'run': 229, 'platform': 230, 'case': 231, 'message': 232, 'controls': 233, 'found': 234, 'service': 235, 'both': 236, 'send': 237, 'items': 238, 'function': 239, 'save': 240, 'start': 241, 'class': 242, 'view': 243, 'two': 244, 'similar': 245, 'download': 246, 'window': 247, \"i've\": 248, 'those': 249, 'x': 250, 'ios': 251, 'en': 252, 'default': 253, 'library': 254, 'most': 255, 'information': 256, 'over': 257, 'least': 258, 'native': 259, 'mode': 260, 'seems': 261, 'folder': 262, 'bug': 263, 'give': 264, '3': 265, 'music': 266, '5': 267, 'language': 268, 'error': 269, 'left': 270, 'email': 271, 'sdk': 272, 'notification': 273, 'settings': 274, 'between': 275, 'may': 276, 'full': 277, 'type': 278, 'take': 279, 'again': 280, 'top': 281, 'audio': 282, 'link': 283, 'universal': 284, 'idea': 285, 'let': 286, 'allows': 287, 'before': 288, 'needs': 289, 'net': 290, 'had': 291, 'wp7': 292, 'go': 293, 'always': 294, 'custom': 295, 'functionality': 296, 'adding': 297, 'running': 298, 'try': 299, 'process': 300, 'off': 301, 'project': 302, 'media': 303, 'emulator': 304, 'tile': 305, 'display': 306, 'os': 307, 'feed': 308, 'ms': 309, 'directly': 310, 'apis': 311, 'fix': 312, 'chrome': 313, 'images': 314, 'live': 315, 'based': 316, '4': 317, 'within': 318, 'experience': 319, 'features': 320, 'test': 321, 'remove': 322, 'play': 323, 'feeds': 324, 'contact': 325, 'wp': 326, 'server': 327, 'item': 328, 'g': 329, 'simple': 330, 'value': 331, 'method': 332, 'enable': 333, 'msdn': 334, 'size': 335, 'request': 336, 'built': 337, 'either': 338, 'makes': 339, 'reader': 340, 'things': 341, 'must': 342, 'xbox': 343, 'supported': 344, 'article': 345, 'implement': 346, 'were': 347, 'maybe': 348, 'down': 349, 'who': 350, 'bar': 351, 'network': 352, 'under': 353, 'menu': 354, 'times': 355, 'post': 356, 'install': 357, 'multiple': 358, 'help': 359, 'delete': 360, 'understand': 361, 'installed': 362, 'feedback': 363, 'means': 364, 'might': 365, 'rss': 366, 'input': 367, 'point': 368, 'winrt': 369, 'wpf': 370, 'options': 371, 'added': 372, 'easy': 373, 'listview': 374, 'select': 375, 'return': 376, 'keyboard': 377, 'map': 378, 'fine': 379, 'package': 380, 'ie': 381, 'automatically': 382, 'forums': 383, 'trying': 384, 'include': 385, 'part': 386, 'specific': 387, 'platforms': 388, \"i'd\": 389, 'software': 390, 'visual': 391, 'www': 392, 'few': 393, 'extension': 394, 'made': 395, 'party': 396, 'task': 397, 'following': 398, 'exception': 399, 'style': 400, 'binding': 401, 'keep': 402, 'develop': 403, 'wifi': 404, 'silverlight': 405, 'allowing': 406, 'existing': 407, 'videos': 408, 'setting': 409, 'rather': 410, 'inside': 411, 'local': 412, 'title': 413, 'standard': 414, 'next': 415, 'check': 416, 'events': 417, 'long': 418, 'tiles': 419, 'once': 420, 'player': 421, 'write': 422, 'say': 423, 'tried': 424, 'facebook': 425, 'certification': 426, 'versions': 427, 'lock': 428, 'touch': 429, 'html': 430, 'until': 431, 'articles': 432, 'lumia': 433, 'put': 434, 'reason': 435, 'actually': 436, 'done': 437, 'issues': 438, 'upload': 439, 'marketplace': 440, 'allowed': 441, 'client': 442, 'studio': 443, 'twitter': 444, 'reading': 445, 'uses': 446, 'several': 447, 'days': 448, 'release': 449, 'simply': 450, 'place': 451, 'especially': 452, 'reviews': 453, 'selected': 454, 'displayed': 455, 'connection': 456, 'url': 457, 'fixed': 458, 'looks': 459, 'icon': 460, 'making': 461, 'details': 462, 'results': 463, 'order': 464, 'old': 465, 'vs': 466, 'getting': 467, 'shows': 468, 'contacts': 469, 'integration': 470, 'end': 471, 'calendar': 472, 'site': 473, 'free': 474, 'password': 475, 'github': 476, 'tool': 477, 'takes': 478, 'limited': 479, 'best': 480, 'small': 481, 'path': 482, 'annoying': 483, 'real': 484, 'hub': 485, 'easily': 486, 'properties': 487, 'photo': 488, 'related': 489, 'thing': 490, 'services': 491, 'sense': 492, 'phones': 493, 'needed': 494, 'share': 495, 'side': 496, 'pro': 497, 'behavior': 498, 'bad': 499, 'wrong': 500, 'press': 501, 'location': 502, 'camera': 503, 'appears': 504, 'result': 505, 'close': 506, 'sure': 507, 'love': 508, 'pc': 509, 'shown': 510, 'instance': 511, 'hope': 512, \"isn't\": 513, 'ru': 514, 'sometimes': 515, 'color': 516, 'switch': 517, 'card': 518, 'notifications': 519, 'line': 520, 'later': 521, 'launch': 522, 'explorer': 523, 'capability': 524, 'id': 525, 'visible': 526, 'depth': 527, 'office': 528, 'bring': 529, 'missing': 530, \"there's\": 531, 'important': 532, 'hard': 533, 'auto': 534, 'word': 535, 'showing': 536, 'called': 537, 'connect': 538, 'updated': 539, 'review': 540, 'manage': 541, 'changes': 542, 'bridge': 543, 'v': 544, 'bing': 545, 'single': 546, 'connected': 547, 'going': 548, 'choose': 549, 'format': 550, 'storage': 551, 'look': 552, 'development': 553, 'mouse': 554, 'textbox': 555, 's': 556, 'manually': 557, 'cortana': 558, 'social': 559, 'internet': 560, 'usage': 561, 'object': 562, 'youtube': 563, 'additional': 564, 'source': 565, 'supports': 566, 'gets': 567, 'state': 568, 'though': 569, 'news': 570, 'area': 571, 'dialog': 572, \"that's\": 573, 'today': 574, 'developing': 575, 'last': 576, 'less': 577, 'interface': 578, 'group': 579, 'high': 580, 'date': 581, 'crash': 582, 'kind': 583, 'objects': 584, 'memory': 585, 'suggestion': 586, 'position': 587, '3d': 588, 'turn': 589, 'correct': 590, 'messages': 591, 'easier': 592, 'writing': 593, 'certain': 594, 'apple': 595, 'solution': 596, 'possibility': 597, 'above': 598, 'webview': 599, 'transfer': 600, 'created': 601, 'login': 602, 'problems': 603, 'receive': 604, 'disable': 605, 'screenshots': 606, 'bottom': 607, 'during': 608, 'given': 609, 'space': 610, 'design': 611, 'evernote': 612, 'published': 613, 'documentation': 614, 'aspx': 615, 'sms': 616, 'sd': 617, 'preview': 618, 'saved': 619, 'log': 620, 'key': 621, 'pages': 622, 'sample': 623, 'company': 624, 'info': 625, 'accounts': 626, 'hardware': 627, 'required': 628, 'edge': 629, 'description': 630, 'creators': 631, 'wait': 632, 'report': 633, 'load': 634, 'scroll': 635, 'original': 636, 'day': 637, 'never': 638, 'unfortunately': 639, 'picture': 640, 'third': 641, 'security': 642, 'machine': 643, 'per': 644, 'dashboard': 645, 'website': 646, 'impossible': 647, 'copy': 648, 'seem': 649, 'requires': 650, 'business': 651, 'remote': 652, 'performance': 653, 'pocket': 654, 'looking': 655, 'suggest': 656, 'element': 657, 'thanks': 658, 'command': 659, 'country': 660, 'moment': 661, 'others': 662, 'previous': 663, 'classes': 664, 'level': 665, 'types': 666, 'creating': 667, 'devs': 668, 'consider': 669, 'whole': 670, 'market': 671, 'nokia': 672, 'happens': 673, 'submit': 674, 'debug': 675, 'ratings': 676, 'large': 677, 'registration': 678, 'loading': 679, 'note': 680, 'submission': 681, 'did': 682, 'tools': 683, \"won't\": 684, 'buttons': 685, 'contains': 686, 'got': 687, 'tasks': 688, 'around': 689, 'usb': 690, 'latest': 691, 'tab': 692, 'helpful': 693, 'public': 694, 'focus': 695, 'win32': 696, 'enter': 697, 'forum': 698, 'tell': 699, 'appear': 700, 'fast': 701, 'swipe': 702, 'ad': 703, 'font': 704, 'world': 705, 'wants': 706, 'opened': 707, 'mail': 708, 'games': 709, 'iphone': 710, 'volume': 711, 'box': 712, 'vm': 713, 'scrolling': 714, 'uri': 715, 'handle': 716, 'changed': 717, 'headers': 718, 'power': 719, 'far': 720, 'noticed': 721, 'expected': 722, 'low': 723, 'string': 724, 'customers': 725, 'playing': 726, 'implementation': 727, 'limit': 728, 'icons': 729, '3rd': 730, 'big': 731, 'p': 732, 'form': 733, 'entire': 734, 'non': 735, 'downloads': 736, 'often': 737, 'navigation': 738, 'battery': 739, 'context': 740, 'disabled': 741, 'fully': 742, 'uservoice': 743, '6': 744, 'he': 745, 'quite': 746, 'names': 747, 'track': 748, 'links': 749, 'nothing': 750, 'win': 751, 'loaded': 752, 'driver': 753, 'doing': 754, 'second': 755, 'online': 756, 'bluetooth': 757, 'bind': 758, 'svg': 759, 'team': 760, 'tap': 761, 'push': 762, 'generated': 763, 'pictures': 764, 'game': 765, 'template': 766, 'whether': 767, 'lines': 768, 're': 769, 'future': 770, 'itself': 771, 'home': 772, 'someone': 773, 'specify': 774, 'reminder': 775, 'scenarios': 776, 'virtual': 777, 'address': 778, 'section': 779, 'languages': 780, 'causes': 781, 'windowsphone': 782, '100': 783, 'field': 784, 'payment': 785, 'thread': 786, 'generate': 787, 'suggestions': 788, 'drive': 789, 'program': 790, 'price': 791, 'bit': 792, 'buffer': 793, 'animations': 794, 'opening': 795, 'certificate': 796, 'provides': 797, 'target': 798, 'move': 799, 'height': 800, 'completely': 801, 'pdf': 802, 'rating': 803, 'anything': 804, 'main': 805, 'xap': 806, 'gives': 807, 'correctly': 808, 'minutes': 809, 'across': 810, 'slow': 811, 'enabled': 812, 'effect': 813, 'his': 814, 'believe': 815, 'everything': 816, 'framework': 817, 'appx': 818, 'improve': 819, 'else': 820, 'common': 821, 'downloaded': 822, 'hi': 823, 'reset': 824, 'including': 825, 'popular': 826, 'cloud': 827, 'ones': 828, 'environment': 829, 'yet': 830, 'useless': 831, 'addition': 832, 'amount': 833, 'exist': 834, '99': 835, '15': 836, 'due': 837, 'present': 838, 'probably': 839, 'become': 840, 'wish': 841, 'scenario': 842, 'category': 843, 'updates': 844, 'selection': 845, 'outside': 846, 'cases': 847, 'processing': 848, 'hyper': 849, 'toolkit': 850, 'fails': 851, 'unlock': 852, 'pay': 853, 'perhaps': 854, 'provided': 855, 'formats': 856, 'awesome': 857, 'theme': 858, 'stack': 859, 'normal': 860, 'goes': 861, 'returns': 862, 'implemented': 863, 'javascript': 864, 'saving': 865, 'hours': 866, 'gps': 867, 'runtime': 868, 'port': 869, 'zune': 870, 'hello': 871, 'lots': 872, 'blog': 873, 'animation': 874, 'history': 875, 'de': 876, 'removed': 877, 'calling': 878, 'three': 879, 'photos': 880, 'sync': 881, 'pivot': 882, 'status': 883, 'cant': 884, 'feel': 885, 'trial': 886, 'methods': 887, 'testing': 888, 'pass': 889, 'body': 890, 'paste': 891, 'sort': 892, 'included': 893, 'leave': 894, 'stop': 895, 'fall': 896, 'ask': 897, 'voice': 898, 'launcher': 899, 'convert': 900, 'packages': 901, 'surface': 902, 'insider': 903, 'ever': 904, 'according': 905, 'sent': 906, 'properly': 907, 'purchase': 908, 'failed': 909, 'actual': 910, 'external': 911, 'sharing': 912, 'mac': 913, 'header': 914, 'projects': 915, 'separate': 916, 'certificates': 917, 'docs': 918, 'functions': 919, 'official': 920, 'safari': 921, 'seconds': 922, 'stuff': 923, 'communication': 924, 'changing': 925, 'firefox': 926, 'pin': 927, 'buy': 928, 'below': 929, 'subscribe': 930, 'publish': 931, 'm': 932, 'extra': 933, 'longer': 934, 'building': 935, 'necessary': 936, 'values': 937, 'edit': 938, 'white': 939, 'developed': 940, 'quality': 941, 'require': 942, 'management': 943, 'opens': 944, 'short': 945, 'lost': 946, 'numbers': 947, 'extremely': 948, 'ways': 949, 'total': 950, 'difficult': 951, 'portal': 952, 'elements': 953, 'computer': 954, 'characters': 955, 'question': 956, 'plugin': 957, 'debugging': 958, 'beta': 959, 'midi': 960, 'starting': 961, 'years': 962, 'navigate': 963, 'collection': 964, 'messaging': 965, 'further': 966, 'row': 967, 'integrate': 968, 'tags': 969, 'folders': 970, 'recent': 971, 'frustrating': 972, 'sound': 973, 'song': 974, 'installing': 975, 'returned': 976, 'sending': 977, 'rendering': 978, 'force': 979, 'immediately': 980, 'mediaplayer': 981, 'manager': 982, 'action': 983, '11': 984, 'manifest': 985, 'internal': 986, 'cause': 987, 'enough': 988, '50': 989, 'away': 990, 'xamarin': 991, 'draw': 992, 'div': 993, \"app's\": 994, 'drop': 995, 'samples': 996, 'smil': 997, 'entry': 998, 'stored': 999, 'otherwise': 1000, 'quick': 1001, 'reply': 1002, 'almost': 1003, 'therefore': 1004, 'deal': 1005, 'black': 1006, 'components': 1007, \"api's\": 1008, 'grid': 1009, \"user's\": 1010, 'filter': 1011, 'enterprise': 1012, 'community': 1013, 'fields': 1014, 'alarm': 1015, 'emails': 1016, 'anyway': 1017, 'giving': 1018, 'attached': 1019, 'week': 1020, 'expand': 1021, 'unable': 1022, 'limitation': 1023, 'words': 1024, 'transport': 1025, 'listing': 1026, 'exe': 1027, 'drag': 1028, 'blogs': 1029, 'behind': 1030, 'markup': 1031, 'person': 1032, 'come': 1033, 'continue': 1034, 'onedrive': 1035, 'attribute': 1036, 'broken': 1037, 'points': 1038, 'countries': 1039, 'seen': 1040, 'cards': 1041, 'tag': 1042, 'publishing': 1043, 'comes': 1044, 'started': 1045, 'dont': 1046, 'written': 1047, 'maps': 1048, 'systems': 1049, 'extensions': 1050, 'safe': 1051, 'occurs': 1052, 'modify': 1053, 'im': 1054, 'screenshot': 1055, 'parameters': 1056, 'cool': 1057, 'mp3': 1058, 'quickly': 1059, 'podcast': 1060, 'mp4': 1061, 'embedded': 1062, 'shortcut': 1063, 'credentials': 1064, 'route': 1065, 'layer': 1066, 'register': 1067, 'powerful': 1068, 'org': 1069, \"you're\": 1070, 'forms': 1071, 'yes': 1072, 'tested': 1073, 'tree': 1074, 'tablet': 1075, 'builds': 1076, 'contentdialog': 1077, 'prevent': 1078, 'bytes': 1079, 'serious': 1080, 'situation': 1081, 'commands': 1082, 'reach': 1083, 'myself': 1084, 't': 1085, 'money': 1086, 'applicationmodel': 1087, 'permission': 1088, 'although': 1089, 'wpdev': 1090, 'moving': 1091, 'tracking': 1092, 'nfc': 1093, 'primary': 1094, 'capabilities': 1095, 'increase': 1096, 'fact': 1097, 'reports': 1098, 'visibility': 1099, 'stream': 1100, '9': 1101, 'reproduce': 1102, 'none': 1103, 'course': 1104, 'recently': 1105, 'thought': 1106, 'calls': 1107, 'clicking': 1108, 'dns': 1109, 'hear': 1110, 'errors': 1111, 'radio': 1112, 'happen': 1113, '30': 1114, 'creation': 1115, 'lets': 1116, 'closed': 1117, 'resource': 1118, 'progress': 1119, 'customer': 1120, 'output': 1121, 'said': 1122, 'base': 1123, 'guys': 1124, 'offer': 1125, 'zoom': 1126, 'effects': 1127, 'mapcontrol': 1128, 'tumblr': 1129, 'addresses': 1130, '16299': 1131, '2017': 1132, 'localization': 1133, 'english': 1134, 'bugs': 1135, '20': 1136, 'viewer': 1137, 'catch': 1138, 'generic': 1139, 'reference': 1140, 'soon': 1141, 'document': 1142, \"let's\": 1143, 'anymore': 1144, 'alternative': 1145, 'locked': 1146, 'emulators': 1147, 'installation': 1148, 'block': 1149, 'downloading': 1150, 'showasync': 1151, 'deploy': 1152, 'cross': 1153, 'reasons': 1154, 'corporate': 1155, 'expect': 1156, 'general': 1157, 'assume': 1158, 'starts': 1159, 'beyond': 1160, 'weeks': 1161, 'hand': 1162, 'vibrate': 1163, 'thank': 1164, 'hide': 1165, 'character': 1166, 'faster': 1167, 'core': 1168, 'life': 1169, 'script': 1170, 'treeview': 1171, 'queue': 1172, 'crashes': 1173, 'complex': 1174, 'websites': 1175, 'overlay': 1176, 'corner': 1177, 'disk': 1178, 'removing': 1179, 'little': 1180, 'picker': 1181, 'hold': 1182, 'vision': 1183, 'true': 1184, 'pretty': 1185, 'rate': 1186, 'upon': 1187, 'dark': 1188, 'light': 1189, 'thousands': 1190, 'resources': 1191, 'extend': 1192, 'larger': 1193, 'convenient': 1194, 'xml': 1195, 'basic': 1196, 'contents': 1197, 'panel': 1198, 'notice': 1199, \"didn't\": 1200, 'shared': 1201, 'listed': 1202, 'direction': 1203, 'ago': 1204, 'component': 1205, 'chain': 1206, 'clients': 1207, 'trigger': 1208, 'months': 1209, 'libraries': 1210, 'playback': 1211, 'displays': 1212, 'managed': 1213, 'unread': 1214, 'various': 1215, 'ensure': 1216, 'defined': 1217, 'stories': 1218, 'providing': 1219, 'invoke': 1220, 'fail': 1221, 'painful': 1222, 'throw': 1223, 'clipboard': 1224, 'classic': 1225, 'instapaper': 1226, 'dll': 1227, 'outlook': 1228, 'runs': 1229, 'futureaccesslist': 1230, 'empty': 1231, 'record': 1232, 'accessible': 1233, 'sites': 1234, 'readers': 1235, 'product': 1236, 'unless': 1237, 'incoming': 1238, 'absolutely': 1239, 'requirement': 1240, 'decide': 1241, 'datatemplate': 1242, 'width': 1243, 'configuration': 1244, 'region': 1245, 'mean': 1246, \"'\": 1247, 'restore': 1248, 'sign': 1249, 'private': 1250, 'drivers': 1251, 'sp': 1252, 'normally': 1253, 'restart': 1254, 'updating': 1255, 'complete': 1256, 'ideas': 1257, 'exactly': 1258, 'signal': 1259, 'star': 1260, 'mark': 1261, 'optional': 1262, 'reduce': 1263, 'near': 1264, 'socket': 1265, 'individual': 1266, 'hidden': 1267, 'smart': 1268, 'compile': 1269, 'protocol': 1270, 'specifically': 1271, 'wanted': 1272, 'learn': 1273, 'handler': 1274, 'friends': 1275, 'response': 1276, 'considering': 1277, 'older': 1278, 'ridiculous': 1279, 'flash': 1280, 'print': 1281, 'together': 1282, 'follow': 1283, 'programs': 1284, 'groups': 1285, 'maximum': 1286, 'prefer': 1287, 'scrollbar': 1288, 'tests': 1289, 'converted': 1290, 'friendly': 1291, 'x86': 1292, 'revenue': 1293, 'inputpane': 1294, 'splitview': 1295, 'resolution': 1296, 'writes': 1297, 'replace': 1298, 'workaround': 1299, 'upgrade': 1300, 'purchases': 1301, 'lockscreen': 1302, 'launched': 1303, '110705': 1304, 'logging': 1305, 'purchased': 1306, 'lists': 1307, 'coming': 1308, 'false': 1309, 'forced': 1310, 'submitted': 1311, 'secondary': 1312, \"aren't\": 1313, 'networks': 1314, 'marked': 1315, 'products': 1316, 'matter': 1317, 'places': 1318, 'searching': 1319, 'seeing': 1320, 'purpose': 1321, 'mvvm': 1322, 'difference': 1323, 'editing': 1324, \"what's\": 1325, 'recording': 1326, 'thus': 1327, 'ringer': 1328, 'sim': 1329, 'supporting': 1330, 'deleted': 1331, 'front': 1332, 'imagine': 1333, 'import': 1334, 'vote': 1335, 'resolve': 1336, 'azure': 1337, 'somewhere': 1338, 'pull': 1339, 'finger': 1340, 'says': 1341, 'offline': 1342, 'known': 1343, 'poor': 1344, 'taking': 1345, 'waiting': 1346, 'states': 1347, 'ads': 1348, 'typing': 1349, 'scale': 1350, 'answer': 1351, 'metadata': 1352, 'canvas': 1353, 'cancel': 1354, 'recognition': 1355, 'step': 1356, 'mango': 1357, 'book': 1358, 'programmatically': 1359, 'gmail': 1360, 'ok': 1361, 'descriptions': 1362, 'graphics': 1363, 'flv': 1364, 'editor': 1365, 'png': 1366, 'compared': 1367, 'nor': 1368, 'fm': 1369, 'raised': 1370, 'factor': 1371, 'designer': 1372, 'win10': 1373, 'analytics': 1374, 'combobox': 1375, 'altitude': 1376, 'iot': 1377, 'horizontal': 1378, 'ink': 1379, 'solve': 1380, 'posted': 1381, 'blank': 1382, 'received': 1383, 'lastname': 1384, 'define': 1385, 'happened': 1386, 'against': 1387, 'panorama': 1388, 'resume': 1389, 'house': 1390, 'rest': 1391, 'automatic': 1392, 'pick': 1393, 'suggestedstartlocation': 1394, 'keywords': 1395, 'nearly': 1396, 'fee': 1397, 'foreground': 1398, 'popup': 1399, 'happy': 1400, 'choice': 1401, 'proper': 1402, 'modern': 1403, 'signed': 1404, 'registered': 1405, 'helps': 1406, 'switching': 1407, 'regards': 1408, 'policy': 1409, 'interesting': 1410, 'ring': 1411, 'css': 1412, 'ideally': 1413, 'apply': 1414, 'policies': 1415, 'reboot': 1416, 'worked': 1417, 'publisher': 1418, 'invoice': 1419, 'smaller': 1420, 'strong': 1421, 'specified': 1422, 'y': 1423, 'scan': 1424, 'moved': 1425, 'questions': 1426, 'regular': 1427, 'asked': 1428, 'lack': 1429, 'watch': 1430, 'browsing': 1431, 'along': 1432, \"we're\": 1433, 'subject': 1434, 'paid': 1435, 'direct': 1436, 'accept': 1437, 'artist': 1438, 'effort': 1439, 'capture': 1440, 'authentication': 1441, 'becomes': 1442, 'converter': 1443, 'relevant': 1444, 'pressed': 1445, 'requirements': 1446, 'lose': 1447, 'entries': 1448, 'posts': 1449, 'exists': 1450, 'happening': 1451, 'microphone': 1452, 'handled': 1453, 'minute': 1454, 'regardless': 1455, 'linux': 1456, 'limits': 1457, 'kit': 1458, 'frame': 1459, 'directory': 1460, '2016': 1461, 'master': 1462, 'wordpress': 1463, 'streams': 1464, 'calendarview': 1465, 'isolation': 1466, 'reveal': 1467, 'compiled': 1468, 'commandbar': 1469, 'operation': 1470, 'validation': 1471, 'comment': 1472, 'refresh': 1473, 'clear': 1474, 'var': 1475, 'skydrive': 1476, 'ex': 1477, 'transparent': 1478, 'capable': 1479, 'styles': 1480, 'whatever': 1481, 'remember': 1482, 'matching': 1483, 'obviously': 1484, 'includes': 1485, 'stores': 1486, 'separately': 1487, 'credit': 1488, 'notify': 1489, 'mediaelement': 1490, 'length': 1491, 'mini': 1492, 'container': 1493, 'model': 1494, 'posting': 1495, 'half': 1496, 'sales': 1497, 'async': 1498, 'query': 1499, 'leaving': 1500, 'reporting': 1501, 'except': 1502, 'adds': 1503, 'mute': 1504, 'speed': 1505, 'selecting': 1506, 'zip': 1507, 'enhance': 1508, 'skype': 1509, 'secure': 1510, 'playlist': 1511, 'count': 1512, 'iaps': 1513, 'iap': 1514, 'went': 1515, 'submitting': 1516, 'active': 1517, 'triggered': 1518, 'appreciate': 1519, 'keyword': 1520, 'sensitive': 1521, 'anyone': 1522, 'una': 1523, 'htc': 1524, 'host': 1525, 'compatible': 1526, 'particular': 1527, 'accessing': 1528, 'xna': 1529, 'maintain': 1530, 'chinese': 1531, 'keeps': 1532, 'exact': 1533, 'excellent': 1534, 'detect': 1535, 'mechanism': 1536, 'toggle': 1537, 'everyone': 1538, 'tapping': 1539, 'w': 1540, 'limitations': 1541, 'int': 1542, 'opinion': 1543, 'wxga': 1544, 'anywhere': 1545, 'scrollviewer': 1546, 'io': 1547, 'colors': 1548, 'uploading': 1549, 'extended': 1550, 'impact': 1551, 'layout': 1552, 'displaying': 1553, 'align': 1554, 'isolated': 1555, 'converting': 1556, 'year': 1557, 'focused': 1558, 'breaks': 1559, 'b': 1560, 'ipad': 1561, 'æ\\xa0\\x95': 1562, \"microsoft's\": 1563, 'released': 1564, 'keys': 1565, 'assign': 1566, '2015': 1567, 'pane': 1568, 'machines': 1569, 'mdm': 1570, 'warning': 1571, 'gridview': 1572, 'min': 1573, '1803': 1574, 'remains': 1575, 'replaced': 1576, 'spend': 1577, 'alone': 1578, 'prevents': 1579, 'locally': 1580, 'cellular': 1581, 'bank': 1582, 'frameworks': 1583, 'contract': 1584, 'firstname': 1585, 'sources': 1586, 'duplicate': 1587, 'activity': 1588, 'behaviour': 1589, 'clock': 1590, 'await': 1591, 'null': 1592, 'interop': 1593, 'bars': 1594, 'templates': 1595, 'pause': 1596, 'interact': 1597, 'restrictions': 1598, 'overflow': 1599, 'exchange': 1600, 'consumers': 1601, 'totally': 1602, 'tv': 1603, 'border': 1604, 'wide': 1605, 'export': 1606, 'gone': 1607, 'usable': 1608, 'designed': 1609, 'u': 1610, 'particularly': 1611, 'soft': 1612, 'she': 1613, 'advance': 1614, 'preferred': 1615, 'manual': 1616, 'iso': 1617, 'entering': 1618, 'approach': 1619, 'double': 1620, 'improved': 1621, 'benefit': 1622, 'couple': 1623, 'operations': 1624, 'plays': 1625, \"shouldn't\": 1626, 'boot': 1627, 'timeout': 1628, 'parameter': 1629, 'sorting': 1630, 'sounds': 1631, \"couldn't\": 1632, 'throws': 1633, 'technology': 1634, 'creates': 1635, 'fullscreen': 1636, 'streaming': 1637, 'month': 1638, 'cursor': 1639, 'slower': 1640, 'graph': 1641, 'timer': 1642, 'infinite': 1643, 'basically': 1644, 'stackoverflow': 1645, 'listen': 1646, 'situations': 1647, 'plugged': 1648, 'steps': 1649, 'potentially': 1650, 'verify': 1651, 'html5': 1652, 'trust': 1653, 'lacking': 1654, 'stay': 1655, 'loop': 1656, '94': 1657, 'opacity': 1658, 'mapitemscontrol': 1659, 'trusted': 1660, 'dragging': 1661, 'brightness': 1662, 'conversion': 1663, 'personal': 1664, 'dynamically': 1665, 'tcp': 1666, 'forward': 1667, 'transition': 1668, 'votes': 1669, 'threads': 1670, 'o': 1671, 'searches': 1672, 'discovery': 1673, 'placed': 1674, 'passed': 1675, 'onto': 1676, 'dedicated': 1677, 'pain': 1678, 'automated': 1679, 'financial': 1680, 'asking': 1681, 'powershell': 1682, 'table': 1683, 'richeditbox': 1684, 'flyout': 1685, 'slider': 1686, 'automation': 1687, 'experiencing': 1688, 'hololens': 1689, 'startup': 1690, 'winappdriver': 1691, 'd3d11': 1692, 'dialogs': 1693, 'tm': 1694, 'hit': 1695, 'pre': 1696, 'calendars': 1697, 'past': 1698, 'attributes': 1699, 'rt': 1700, 'etw': 1701, 'tooling': 1702, 'albums': 1703, 'minimize': 1704, 'maximize': 1705, 'interaction': 1706, 'understanding': 1707, 'dynamic': 1708, 'argument': 1709, 'thereby': 1710, 'win8': 1711, 'rendered': 1712, 'completed': 1713, 'reality': 1714, \"they're\": 1715, 'took': 1716, 'taken': 1717, 'tracks': 1718, 'customize': 1719, 'implementing': 1720, 'wpdevelop': 1721, 'screens': 1722, 'browse': 1723, 'expose': 1724, 'grouped': 1725, 'itemtemplate': 1726, 'possibly': 1727, 'swiping': 1728, 'perform': 1729, 'companies': 1730, 'closing': 1731, 'backup': 1732, 'examples': 1733, 'bought': 1734, 'attach': 1735, 'direct2d': 1736, 'delay': 1737, 'amazing': 1738, 'n': 1739, 'fantastic': 1740, 'zero': 1741, 'profile': 1742, 'stopped': 1743, 'archive': 1744, 'songs': 1745, 'codes': 1746, 'boolean': 1747, 'gesture': 1748, 'transferred': 1749, 'skip': 1750, 'period': 1751, 'job': 1752, 'themselves': 1753, 'render': 1754, 'schedule': 1755, '00': 1756, 'determine': 1757, 'applicationbar': 1758, 'translate': 1759, 'introduce': 1760, \"it'll\": 1761, 'enabling': 1762, 'portion': 1763, 'deleting': 1764, 'introduced': 1765, 'essential': 1766, 'restriction': 1767, 'reserved': 1768, 'ssl': 1769, 'stuck': 1770, 'connections': 1771, 'huge': 1772, 'smartcard': 1773, 'pressing': 1774, 'answers': 1775, 'furthermore': 1776, 'lacks': 1777, 'highly': 1778, 'java': 1779, 'levels': 1780, 'unique': 1781, 'listbox': 1782, 'sizes': 1783, 'auth': 1784, 'cookies': 1785, 'leak': 1786, 'medialibrary': 1787, 'worse': 1788, '90': 1789, 'knowledge': 1790, 'saw': 1791, 'straight': 1792, 'advertising': 1793, \"we've\": 1794, 'reported': 1795, 'regarding': 1796, 'prompt': 1797, 'integrated': 1798, 'configurable': 1799, 'head': 1800, 'udp': 1801, '255': 1802, 'speech': 1803, 'guess': 1804, 'confusing': 1805, 'visualstudio': 1806, 'usually': 1807, 'loads': 1808, 'onenote': 1809, 'barcode': 1810, 'headset': 1811, 'token': 1812, 'multi': 1813, 'calender': 1814, 'strings': 1815, 'benefits': 1816, 'passwordbox': 1817, 'texture': 1818, 'animated': 1819, 'deployment': 1820, 'assets': 1821, 'uninstall': 1822, 'algorithm': 1823, 'compiler': 1824, 'advantage': 1825, 'references': 1826, 'taskbar': 1827, 'summary': 1828, 'complicated': 1829, 'eventually': 1830, 'everywhere': 1831, 'unit': 1832, 'programming': 1833, 'filesavepicker': 1834, 'q': 1835, 'previously': 1836, 'directx': 1837, 'overhead': 1838, 'dropbox': 1839, 'kindle': 1840, 'logs': 1841, 'nuget': 1842, 'choices': 1843, '1709': 1844, 'docker': 1845, 'finguerprint': 1846, 'randomly': 1847, '105': 1848, '920': 1849, 'learning': 1850, 'priority': 1851, 'appropriate': 1852, 'certainly': 1853, 'requests': 1854, 'namespace': 1855, 'strange': 1856, 'collect': 1857, 'trace': 1858, 'mapicon': 1859, 'causing': 1860, 'pubcenter': 1861, 'fill': 1862, 'cpu': 1863, 'rule': 1864, 'respond': 1865, 'paused': 1866, 'disabling': 1867, 'care': 1868, 'obvious': 1869, 'heard': 1870, 'launching': 1871, 'applies': 1872, 'splash': 1873, 'uris': 1874, 'groupstyle': 1875, 'textblock': 1876, 'chose': 1877, 'successfully': 1878, 'sets': 1879, 'gestures': 1880, 'requested': 1881, 'pattern': 1882, 'flow': 1883, 'clientcert': 1884, 'winjs': 1885, 'certquery': 1886, 'certs': 1887, 'storagefile': 1888, 'mentioned': 1889, 'operator': 1890, 'h': 1891, 'factory': 1892, 'contain': 1893, 'optionally': 1894, 'hey': 1895, 'messagedialog': 1896, \"phone's\": 1897, 'rich': 1898, 'dom': 1899, 'greatly': 1900, 'her': 1901, 'independent': 1902, 'documents': 1903, 'chance': 1904, 'miss': 1905, 'retrieve': 1906, 'pop': 1907, 'interval': 1908, 'timestamp': 1909, 'forcing': 1910, 'unnecessary': 1911, 'wireless': 1912, 'stars': 1913, 'favorites': 1914, 'potential': 1915, 'author': 1916, 'dropping': 1917, 'kept': 1918, 'wake': 1919, 'triggers': 1920, 'shot': 1921, 'ç\\x95': 1922, 'viewing': 1923, 'ship': 1924, '25': 1925, 'monitor': 1926, 'listening': 1927, 'transaction': 1928, 'suppose': 1929, 'letter': 1930, 'range': 1931, 'somehow': 1932, 'frequently': 1933, 'random': 1934, 'successful': 1935, 'exposed': 1936, 'networking': 1937, 'clicked': 1938, 'liked': 1939, 'produce': 1940, 'equivalent': 1941, 'navigating': 1942, 'rid': 1943, 'fit': 1944, 'beneficial': 1945, 'indicate': 1946, 'customization': 1947, 'subscribed': 1948, 'js': 1949, 'pen': 1950, 'computers': 1951, 'recommend': 1952, 'tweets': 1953, 'mappolyline': 1954, 'emulate': 1955, '64': 1956, 'risk': 1957, 'opt': 1958, 'marks': 1959, 'match': 1960, 'configure': 1961, 'talking': 1962, 'constantly': 1963, 'adjustment': 1964, 'alpha': 1965, 'tutorials': 1966, 'upnp': 1967, 'role': 1968, 'chat': 1969, 'generates': 1970, '2010': 1971, 'ideal': 1972, 'term': 1973, 'concept': 1974, 'truly': 1975, 'partial': 1976, 'toast': 1977, 'professional': 1978, 'serialization': 1979, 'whenever': 1980, 'prompted': 1981, 'menus': 1982, 'uploaded': 1983, 'checks': 1984, 'forces': 1985, 'ip': 1986, 'sql': 1987, 'inputscope': 1988, '07': 1989, 'vertical': 1990, 'passwords': 1991, 'compact': 1992, 'filtering': 1993, 'tie': 1994, 'ready': 1995, \"it'd\": 1996, 'scripts': 1997, '2014': 1998, 'pixels': 1999, 'chart': 2000, 'browsers': 2001, 'dlg': 2002, 'apparently': 2003, 'school': 2004, '500': 2005, 'pdfs': 2006, 'opml': 2007, \"feedly's\": 2008, 'packaged': 2009, 'receipt': 2010, 'initial': 2011, '2d': 2012, 'customized': 2013, 'execute': 2014, 'reads': 2015, 'propose': 2016, 'bindings': 2017, 'navigationview': 2018, 'ble': 2019, 'shader': 2020, 'raise': 2021, 'motion': 2022, 'menuflyoutpresenter': 2023, 'isupportincrementalloading': 2024, 'incorrect': 2025, 'placement': 2026, 'numericpin': 2027, 'catel': 2028, 'culture': 2029, '820': 2030, 'aspect': 2031, 'threshold': 2032, 'everytime': 2033, 'paypal': 2034, 'appointments': 2035, 'alongside': 2036, 'smooth': 2037, 'assembly': 2038, 'bigger': 2039, 'break': 2040, 'fileopenpicker': 2041, 'bundle': 2042, 'markets': 2043, 'worldwide': 2044, 'german': 2045, 'ringtone': 2046, 'logger': 2047, 'attention': 2048, 'cell': 2049, 'max': 2050, 'submissions': 2051, 'intended': 2052, 'smartphone': 2053, '61': 2054, 'forget': 2055, 'columns': 2056, 'failing': 2057, 'terrible': 2058, 'pair': 2059, 'improvements': 2060, 'teams': 2061, 'translator': 2062, 'dictionary': 2063, 'facing': 2064, 'restricted': 2065, 'arguments': 2066, 'spam': 2067, 'geolocator': 2068, 'ignore': 2069, 'undocumented': 2070, 'handlers': 2071, 'sorted': 2072, 'behave': 2073, 'jump': 2074, 'blocked': 2075, 'resized': 2076, 'uploads': 2077, 'que': 2078, 'la': 2079, 'germany': 2080, 'favorite': 2081, 'physical': 2082, 'mixing': 2083, 'filters': 2084, 'messy': 2085, 'excel': 2086, 'bookmark': 2087, 'bookmarks': 2088, 'podcasts': 2089, 'associated': 2090, 'configured': 2091, 'copied': 2092, 'pinning': 2093, 'greater': 2094, 'wizard': 2095, 'handles': 2096, 'interfaces': 2097, 'communicate': 2098, 'decided': 2099, 'consumer': 2100, '200': 2101, 'webbrowser': 2102, 'brings': 2103, 'thinking': 2104, 'slightly': 2105, 'cable': 2106, \"haven't\": 2107, 'roll': 2108, 'prior': 2109, 'knows': 2110, 'expression': 2111, 'street': 2112, '150': 2113, 'scaling': 2114, 'valid': 2115, '85': 2116, '91': 2117, 'd': 2118, 'engine': 2119, 'twice': 2120, 'lower': 2121, 'clicks': 2122, 'limiting': 2123, 'automate': 2124, 'sends': 2125, 'concerned': 2126, 'losing': 2127, 'tweet': 2128, 'deep': 2129, 'metro': 2130, 'experiences': 2131, 'optimized': 2132, 'hls': 2133, 'recommended': 2134, 'among': 2135, 'kvisoft': 2136, 'executed': 2137, 'upcoming': 2138, 'highlight': 2139, 'distribute': 2140, 'wcf': 2141, 'basis': 2142, 'adobe': 2143, 'servers': 2144, 'disappear': 2145, 'tutorial': 2146, 'generating': 2147, 'static': 2148, 'license': 2149, 'okay': 2150, 'advanced': 2151, 'cover': 2152, 'age': 2153, 'discover': 2154, 'applied': 2155, 'views': 2156, 'missed': 2157, 'fake': 2158, 'urls': 2159, 'bringing': 2160, 'subscriptions': 2161, 'achieved': 2162, 'subscription': 2163, 'database': 2164, '2008': 2165, 'workflow': 2166, 'proxy': 2167, 'dealing': 2168, 'super': 2169, 'avoid': 2170, 'encoding': 2171, 'mess': 2172, 'entered': 2173, 'described': 2174, 'numeric': 2175, 'gui': 2176, 'categories': 2177, 'bitmap': 2178, 'localized': 2179, 'stacktrace': 2180, 'planner': 2181, 'logic': 2182, 'bizview': 2183, 'x64': 2184, 'windbg': 2185, 'signature': 2186, '1st': 2187, 'perfectly': 2188, 'arm': 2189, 'solutions': 2190, 'cache': 2191, 'atleast': 2192, 'weird': 2193, 'relative': 2194, 'variations': 2195, 'executable': 2196, 'realized': 2197, 'r': 2198, 'followed': 2199, 'plus': 2200, 'nevertheless': 2201, 'channels': 2202, 'toolbar': 2203, 'domain': 2204, 'wont': 2205, 'aware': 2206, 'legal': 2207, 'critical': 2208, 'early': 2209, 'renaming': 2210, 'operating': 2211, 'turkey': 2212, 'textboxes': 2213, 'attempting': 2214, 'controller': 2215, 'paint': 2216, 'rome': 2217, 'args': 2218, 'backrequested': 2219, '14393': 2220, '15063': 2221, 'idle': 2222, 'firewall': 2223, 'verbose': 2224, 'preferredlaunchviewsize': 2225, 'detection': 2226, 'es': 2227, 'translation': 2228, 'recognize': 2229, 'engineers': 2230, 'insert': 2231, 'plan': 2232, 'tons': 2233, 'windowsapps': 2234, 'flip': 2235, 'expecting': 2236, 'appxmanifest': 2237, 'provider': 2238, 'wrapping': 2239, 'session': 2240, 'cert': 2241, 'instantly': 2242, 'porting': 2243, 'headphones': 2244, 'indicates': 2245, 'feels': 2246, 'readable': 2247, 'hour': 2248, 'brush': 2249, '81': 2250, 'prices': 2251, 'willing': 2252, 'charge': 2253, 'percentage': 2254, 'carrier': 2255, 'impression': 2256, 'writeablebitmap': 2257, 'pixelwidth': 2258, 'pixelheight': 2259, 'multitasking': 2260, 'itemssource': 2261, 'blue': 2262, 'margin': 2263, 'extensibility': 2264, 'named': 2265, 'fun': 2266, 'launches': 2267, 'sandbox': 2268, 'purposes': 2269, 'transitions': 2270, 'representing': 2271, 'symbols': 2272, 'offers': 2273, 'red': 2274, 'mostly': 2275, 'backed': 2276, 'saying': 2277, 'night': 2278, 'surprised': 2279, 'pfx': 2280, 'checking': 2281, 'arabic': 2282, 'attachment': 2283, 'umdf': 2284, 'becoming': 2285, '2nd': 2286, 'receiving': 2287, 'homepage': 2288, '4g': 2289, '3g': 2290, 'earlier': 2291, 'confirmed': 2292, 'git': 2293, 'songcollection': 2294, 'playlists': 2295, 'stick': 2296, 'usefull': 2297, 'customizable': 2298, 'ie10': 2299, 'inspect': 2300, 'console': 2301, 'timeline': 2302, 'node': 2303, 'pointing': 2304, 'depending': 2305, 'stops': 2306, 'sub': 2307, 'notes': 2308, 'concern': 2309, 'encountered': 2310, 'regularly': 2311, 'accurate': 2312, 'despite': 2313, 'actions': 2314, 'earth': 2315, 'ends': 2316, 'weekly': 2317, 'frequency': 2318, 'par': 2319, 'goal': 2320, 'bunch': 2321, 'queries': 2322, 'harder': 2323, 'alert': 2324, 'qr': 2325, 'compete': 2326, 'presently': 2327, 'setup': 2328, 'finished': 2329, 'scheduled': 2330, 'depend': 2331, 'transparency': 2332, 'sensors': 2333, 'spent': 2334, 'pops': 2335, 'definitely': 2336, 'unzip': 2337, 'hanging': 2338, 'enroll': 2339, 'distribution': 2340, 'fairly': 2341, 'featured': 2342, 'viewed': 2343, 'ocr': 2344, 'resolutions': 2345, 'wvga': 2346, 'models': 2347, 'consistency': 2348, 'fires': 2349, 'charging': 2350, 'cut': 2351, 'seriously': 2352, 'turned': 2353, 'comparison': 2354, 'acceptable': 2355, 'ais': 2356, 'plz': 2357, 'pinned': 2358, 'represents': 2359, 'utilities': 2360, 'specially': 2361, 'smscomposetask': 2362, 'containing': 2363, 'label': 2364, 'activate': 2365, 'apphub': 2366, 'pinch': 2367, 'documented': 2368, 'launchers': 2369, 'split': 2370, 'jpg': 2371, 'helping': 2372, 'sorry': 2373, 'dialer': 2374, 'mind': 2375, 'essentially': 2376, 'demo': 2377, 'terms': 2378, 'wma': 2379, 'coding': 2380, 'sees': 2381, 'connectivity': 2382, 'migrate': 2383, 'webservice': 2384, 'tombstoning': 2385, 'finally': 2386, 'managing': 2387, 'username': 2388, 'kids': 2389, 'appreciated': 2390, 'interested': 2391, 'privacy': 2392, 'ran': 2393, 'technical': 2394, 'returning': 2395, 'simpler': 2396, 'international': 2397, 'traffic': 2398, 'requesting': 2399, 'explicit': 2400, 'handling': 2401, 'became': 2402, 'powerpoint': 2403, 'regions': 2404, 'told': 2405, 'likely': 2406, 'periodically': 2407, 'self': 2408, 'commercial': 2409, 'curve': 2410, '10000': 2411, 'failure': 2412, 'bound': 2413, 'neither': 2414, 'comments': 2415, 'announcements': 2416, 'vendor': 2417, 'reducing': 2418, 'bonus': 2419, 'searched': 2420, 'affected': 2421, 'column': 2422, 'cameracaptureui': 2423, 'renders': 2424, 'vb': 2425, 'officially': 2426, \"frame's\": 2427, 'php': 2428, 'dependencyproperty': 2429, 'caused': 2430, 'detail': 2431, 'fundamental': 2432, 'blocking': 2433, 'behaves': 2434, 'printing': 2435, 'act': 2436, 'payout': 2437, 'retail': 2438, 'adjust': 2439, 'finding': 2440, 'survarium': 2441, 'boost': 2442, 'listings': 2443, 'shapes': 2444, 'student': 2445, 'paneplacement': 2446, 'duration': 2447, 'storagefolder': 2448, 'ctrl': 2449, 'graphic': 2450, 'ifttt': 2451, 'tabs': 2452, 'fire': 2453, 'visit': 2454, 'leaves': 2455, 'notebook': 2456, 'representation': 2457, 'json': 2458, 'pure': 2459, 'plugins': 2460, 'confirmation': 2461, 'fonts': 2462, 'tray': 2463, 'frames': 2464, 'expired': 2465, 'virtualization': 2466, 'renew': 2467, 'heavy': 2468, 'nav': 2469, 'specifying': 2470, 'panning': 2471, 'notepad': 2472, 'menuflyout': 2473, 'admin': 2474, 'unix': 2475, 'hamburger': 2476, 'standalone': 2477, 'dsv': 2478, 'stencil': 2479, 'mainpage': 2480, 'understandable': 2481, 'supportedapis': 2482, 'mouses': 2483, 'calcbinding': 2484, 'omsetrendertargets': 2485, 'ecdh': 2486, 'hijri': 2487, 'enumeration': 2488, 'wich': 2489, 'deliver': 2490, 'asap': 2491, 'lob': 2492, 'tablets': 2493, 'fly': 2494, 'significantly': 2495, 'pickcontactasync': 2496, 'checked': 2497, 'tapped': 2498, 'dates': 2499, 'obtain': 2500, 'locations': 2501, 'segoe': 2502, 'stated': 2503, 'prompting': 2504, 'uninstalls': 2505, 'contrast': 2506, 'hints': 2507, 'four': 2508, 'efficient': 2509, 'closes': 2510, 'mediastreamsource': 2511, 'calculate': 2512, '13': 2513, 'transactions': 2514, '640': 2515, 'decides': 2516, 'stretch': 2517, 'definition': 2518, 'respect': 2519, 'parent': 2520, 'owner': 2521, 'swap': 2522, 'ugly': 2523, 'breaking': 2524, 'success': 2525, 'kiosk': 2526, '800': 2527, 'typically': 2528, '24': 2529, 'speeds': 2530, 'smoothly': 2531, 'unstable': 2532, 'co': 2533, 'uk': 2534, 'vpn': 2535, 'turning': 2536, 'ease': 2537, \"developer's\": 2538, 'webpage': 2539, 'collections': 2540, 'extract': 2541, 'grows': 2542, 'worth': 2543, 'confused': 2544, 'helper': 2545, 'copying': 2546, 'higher': 2547, 'instagram': 2548, 'typed': 2549, 'flexible': 2550, 'mappolygon': 2551, 'alerts': 2552, 'opportunity': 2553, 'ignored': 2554, 'reasonable': 2555, 'exceptions': 2556, 'upgraded': 2557, 'differently': 2558, 'holding': 2559, 'late': 2560, 'finds': 2561, 'him': 2562, 'located': 2563, 'config': 2564, 'si': 2565, 'como': 2566, 'usa': 2567, 'equal': 2568, 'byte': 2569, 'samsung': 2570, 'daily': 2571, 'storing': 2572, 'sdks': 2573, 'worst': 2574, 'busy': 2575, 'genre': 2576, 'restarting': 2577, 'improvement': 2578, 'timetrigger': 2579, 'scrolls': 2580, 'persistent': 2581, 'amounts': 2582, 'unwanted': 2583, 'family': 2584, 'practically': 2585, 'somewhat': 2586, 'instances': 2587, 'handy': 2588, 'certified': 2589, 'logo': 2590, 'member': 2591, 'identify': 2592, 'blackberry': 2593, 'unlocked': 2594, 'shut': 2595, 'bullets': 2596, 'inherit': 2597, 'ground': 2598, 'meant': 2599, 'appointment': 2600, 'thrown': 2601, '01': 2602, 'album': 2603, 'pausing': 2604, 'el': 2605, 'txt': 2606, 'arrow': 2607, 'room': 2608, 'health': 2609, 'morning': 2610, 'majority': 2611, 'negative': 2612, 'wise': 2613, 'accent': 2614, 'covered': 2615, 'jumps': 2616, 'constructor': 2617, 'centered': 2618, 'till': 2619, 'wallpaper': 2620, 'turns': 2621, 'presentation': 2622, '1gb': 2623, 'trouble': 2624, '60': 2625, 'association': 2626, 'coordinates': 2627, 'maplayer': 2628, 'stroke': 2629, 'sufficient': 2630, 'wanna': 2631, 'permit': 2632, 'permissions': 2633, 'indicator': 2634, 'semi': 2635, 'ping': 2636, 'inbox': 2637, 'hd': 2638, 'came': 2639, 'creative': 2640, 'pack': 2641, 'relatively': 2642, 'increases': 2643, 'cameras': 2644, 'avi': 2645, 'besides': 2646, 'visually': 2647, 'fastest': 2648, 'mandatory': 2649, 'opposed': 2650, 'channel': 2651, 'il': 2652, 'inconvenient': 2653, 'practical': 2654, 'phonegap': 2655, 'saver': 2656, 'mention': 2657, 'conversation': 2658, 'î\\x8f\\x95': 2659, 'barely': 2660, 'decoded': 2661, 'tech': 2662, 'awful': 2663, 'encoded': 2664, 'oauth': 2665, 'minimum': 2666, 'activities': 2667, 'special': 2668, 'ie9': 2669, 'itin': 2670, 'parts': 2671, 'recorded': 2672, 'doesnt': 2673, 'parsing': 2674, 'suggested': 2675, 'cookiecontainer': 2676, 'perfect': 2677, 'china': 2678, 'interest': 2679, 'logged': 2680, 'pcm': 2681, 'noticeable': 2682, 'lyrics': 2683, 'cycle': 2684, 'perspective': 2685, 'expectation': 2686, 'rounded': 2687, 'initially': 2688, 'played': 2689, 'records': 2690, 'mime': 2691, 'ime': 2692, 'encrypted': 2693, 'blend': 2694, 'coded': 2695, 'segment': 2696, 'musicians': 2697, 'locking': 2698, 'consistent': 2699, 'unified': 2700, 'detailed': 2701, 'eye': 2702, 'nobody': 2703, 'datasets': 2704, 'crazy': 2705, 'repository': 2706, 'drives': 2707, 'fb': 2708, 'addressed': 2709, 'w10': 2710, 'rtl': 2711, 'offset': 2712, 'manipulate': 2713, 'leads': 2714, 'wmi': 2715, 'unknown': 2716, 'apart': 2717, 'invalid': 2718, 'typeconverter': 2719, 'wrappanel': 2720, 'pixel': 2721, 'fullchargecapacityinmilliwatthours': 2722, 'm1sturm': 2723, 'andreas': 2724, 'ez5e2pu': 2725, 'txlstrab': 2726, '6531': 2727, '062y020a0023': 2728, '33c': 2729, 'decode': 2730, 'attempt': 2731, 'targets': 2732, 'db': 2733, 'flowdirection': 2734, 'eg': 2735, 'formatting': 2736, 'meet': 2737, 'centennial': 2738, 'appxupload': 2739, 'kernel': 2740, 'hot': 2741, 'continuum': 2742, 'dpi': 2743, 'divide': 2744, 'buildingapps': 2745, '02': 2746, 'tries': 2747, '1drv': 2748, 'offered': 2749, '1000': 2750, 'possibilities': 2751, 'moldova': 2752, 'instrument': 2753, '520': 2754, 'pasting': 2755, 'grammar': 2756, 'japanese': 2757, 'bandwidth': 2758, '14': 2759, 'v1': 2760, 'compatibility': 2761, 'traditional': 2762, 'looked': 2763, 'everybody': 2764, 'toy': 2765, 'readability': 2766, 'widget': 2767, 'counter': 2768, 'stand': 2769, 'plug': 2770, 'rely': 2771, 'typical': 2772, 'authors': 2773, 'hack': 2774, '19': 2775, 'editable': 2776, 'excited': 2777, 'remain': 2778, 'asks': 2779, 'expiration': 2780, 'subtitle': 2781, 'timeouts': 2782, 'snapshots': 2783, 'enrollment': 2784, 'freeze': 2785, 'swipes': 2786, 'compare': 2787, 'datasource': 2788, 'criteria': 2789, 'kidscorner': 2790, 'decoding': 2791, 'yourself': 2792, 'fluent': 2793, 'fonticon': 2794, 'pinvoke': 2795, 'heightline': 2796, 'zooming': 2797, 'composition': 2798, 'appbarbutton': 2799, 'rdc': 2800, 'verifier': 2801, 'swipecontrol': 2802, 'expressions': 2803, 'touchpad': 2804, 'containers': 2805, 'ports': 2806, 'sock': 2807, 'inplace': 2808, 'endings': 2809, 'vsto': 2810, 'pos': 2811, 'pointer': 2812, 'fade': 2813, 'shadow': 2814, 'suppresssystemoverlays': 2815, 'appservice': 2816, '2018': 2817, 'viewmodels': 2818, 'backbutton': 2819, 'natively': 2820, 'occurred': 2821, 'theâ\\x80¦': 2822, 'cpp': 2823, 'redraw': 2824, 'semantic': 2825, 'steam': 2826, 'shell': 2827, 'overrun': 2828, 'writable': 2829, \"'8'\": 2830, 'indexer': 2831, 'devcenter': 2832, 'acquisitions': 2833, 'rectangular': 2834, 'loged': 2835, 'afther': 2836, 'glyphs': 2837, 'laguages': 2838, 'unpublished': 2839, \"'language\": 2840, \"history'\": 2841, 'russian': 2842, 'ticket': 2843, 'appreslib': 2844, 'xxxx': 2845, 'mui': 2846, 'car': 2847, 'vocal': 2848, 'activated': 2849, 'stereo': 2850, \"pc's\": 2851, 'hoping': 2852, 'adapt': 2853, 'roaming': 2854, 'fixing': 2855, 'recognized': 2856, 'automaticly': 2857, 'doesn': 2858, 'costs': 2859, 'tax': 2860, 'efficiency': 2861, 'remoteid': 2862, 'profiles': 2863, 'diagnostics': 2864, 'towards': 2865, 'notified': 2866, 'synchronize': 2867, 'protection': 2868, 'planning': 2869, 'authclient': 2870, 'wl': 2871, 'wrote': 2872, 'wallet': 2873, 'businesses': 2874, 'optimise': 2875, 'gpu': 2876, 'usercontrol': 2877, 'translated': 2878, 'kinds': 2879, 'ported': 2880, 'installs': 2881, 'occured': 2882, 'africa': 2883, 'lags': 2884, '1280': 2885, 'pixelbuffer': 2886, 'inconsistent': 2887, 'digital': 2888, 'staticresource': 2889, 'root': 2890, 'exciting': 2891, 'instructions': 2892, 'crop': 2893, 'keeping': 2894, 'seperate': 2895, 'final': 2896, 'restored': 2897, 'clearly': 2898, 'findallasync': 2899, 'consideration': 2900, 'welcome': 2901, 'pcs': 2902, 'performing': 2903, 'somebody': 2904, 'hangs': 2905, 'linking': 2906, 'dial': 2907, 'jack': 2908, 'upgrading': 2909, '12382': 2910, '878': 2911, 'wi': 2912, 'fi': 2913, 'tfs': 2914, 'alot': 2915, 'hosting': 2916, 'garbage': 2917, 'catalog': 2918, 'agent': 2919, 'popups': 2920, 'forwarding': 2921, 'variable': 2922, 'surprise': 2923, 'w8': 2924, 'ie11': 2925, 'angular': 2926, '925': 2927, 'spending': 2928, 'responsible': 2929, 'calculator': 2930, 'figures': 2931, 'populate': 2932, 'corresponding': 2933, 'talk': 2934, 'major': 2935, \"i'll\": 2936, 'fresh': 2937, 'restarted': 2938, 'middle': 2939, 'simulator': 2940, 'accuracy': 2941, 'poorly': 2942, 'attaching': 2943, 'implicit': 2944, 'legacy': 2945, 'jumping': 2946, 'incredibly': 2947, 'deletes': 2948, 'stays': 2949, 'wonder': 2950, 'se': 2951, 'aplicaciones': 2952, 'france': 2953, 'chosen': 2954, 'cropping': 2955, 'ratio': 2956, 'slat': 2957, 'parallels': 2958, 'filesystem': 2959, 'ux': 2960, 'mic': 2961, 'implementations': 2962, 'exported': 2963, 'crashing': 2964, 'quiet': 2965, 'inner': 2966, 'liking': 2967, 'remind': 2968, 'consumption': 2969, 'generation': 2970, 'raw': 2971, 'dispose': 2972, 'pending': 2973, 'united': 2974, 'wonderful': 2975, 'partially': 2976, 'interacted': 2977, 'conjunction': 2978, 'hardly': 2979, 'captured': 2980, 'cheap': 2981, 'bounds': 2982, 'keyboards': 2983, 'kill': 2984, 'responsive': 2985, 'enum': 2986, 'contribute': 2987, 'ar': 2988, 'rated': 2989, 'variety': 2990, 'exposure': 2991, 'anniversary': 2992, '2012': 2993, 'round': 2994, 'navigated': 2995, 'showed': 2996, 'reload': 2997, 'buggy': 2998, 'capacity': 2999, 'repeat': 3000, 'overall': 3001, 'slide': 3002, 'fixes': 3003, 'green': 3004, 'linkedin': 3005, 'definitions': 3006, 'src': 3007, 'accepts': 3008, 'continues': 3009, 'grow': 3010, 'messenger': 3011, 'nearest': 3012, 'stock': 3013, 'module': 3014, 'clusters': 3015, 'seek': 3016, '51': 3017, '56': 3018, '71': 3019, '74': 3020, '79': 3021, '84': 3022, '92': 3023, 'technologies': 3024, 'polygon': 3025, 'millions': 3026, 'freedom': 3027, 'accidentally': 3028, 'con': 3029, 'areas': 3030, 'gameplay': 3031, 'capturing': 3032, 'offering': 3033, '5678': 3034, '9012': 3035, 'mysms': 3036, 'confirm': 3037, 'selling': 3038, 'caller': 3039, 'topic': 3040, 'pic': 3041, 'vector': 3042, 'providers': 3043, 've': 3044, 'experienced': 3045, \"wouldn't\": 3046, 'padding': 3047, '5px': 3048, '75': 3049, 'inspired': 3050, 'exposes': 3051, 'chooser': 3052, 'leverage': 3053, 'href': 3054, 'inserting': 3055, 'watermark': 3056, 'multicast': 3057, 'extending': 3058, 'al': 3059, 'latitude': 3060, 'worry': 3061, 'ecosystem': 3062, 'testers': 3063, 'whose': 3064, 'terribly': 3065, 'binary': 3066, 'practices': 3067, 'subsequent': 3068, 'passing': 3069, 'tailored': 3070, 'wikipedia': 3071, 'exit': 3072, 'wav': 3073, 'express': 3074, 'cs': 3075, 'titles': 3076, 'forth': 3077, 'react': 3078, 'clipped': 3079, 'messed': 3080, 'occur': 3081, 'flare': 3082, 'ended': 3083, 'checkboxes': 3084, 'profiler': 3085, 'impractical': 3086, 'codecs': 3087, 'osx': 3088, 'override': 3089, 'helpfull': 3090, 'mms': 3091, 'recipients': 3092, 'imdb': 3093, 'friend': 3094, 'rubbish': 3095, '2011': 3096, '21': 3097, '12': 3098, 'anonymous': 3099, 'bump': 3100, 'afford': 3101, 'boxes': 3102, 'hassle': 3103, 'dropped': 3104, 'emailcomposetask': 3105, 'replies': 3106, 'querying': 3107, 'loud': 3108, 'omnia': 3109, 'plain': 3110, 'encode': 3111, 'transfers': 3112, 'theory': 3113, 'series': 3114, 'eric': 3115, 'publishers': 3116, 'multiline': 3117, 'sip': 3118, 'alternatively': 3119, 'realize': 3120, 'dependent': 3121, 'droid': 3122, 'bypass': 3123, 'estate': 3124, 'ranked': 3125, 'efforts': 3126, 'inefficient': 3127, 'integrating': 3128, 'unlimited': 3129, 'simplified': 3130, 'printer': 3131, 'enables': 3132, 'caching': 3133, 'passwordvault': 3134, 'dotnet': 3135, 'f': 3136, 'toolchain': 3137, 'hides': 3138, 'backgroundmediaplayer': 3139, 'newest': 3140, 'ltr': 3141, 'postimg': 3142, 'simplify': 3143, 'inline': 3144, 'hover': 3145, 'appdeploycmd': 3146, 'blur': 3147, 'projection': 3148, 'reliably': 3149, 'produces': 3150, 'illustrator': 3151, 'recommendation': 3152, 'clean': 3153, 'l': 3154, 'yours': 3155, 'duocode': 3156, 'transpiled': 3157, 'hosted': 3158, 'notably': 3159, 'cordova': 3160, 'cshtml5': 3161, 'adopted': 3162, 'micro': 3163, 'assemblies': 3164, 'xamlservices': 3165, 'absent': 3166, 'es6': 3167, 'audiograph': 3168, 'foundation': 3169, 'searchable': 3170, 'worker': 3171, 'electronics': 3172, 'personally': 3173, 'popping': 3174, 'tomorrow': 3175, 'creator': 3176, 'polling': 3177, 'uap': 3178, 'directories': 3179, 'specification': 3180, 'students': 3181, 'payouts': 3182, 'raspberry': 3183, 'pi': 3184, 'navigator': 3185, 'recorder': 3186, '9nblggh2vvj3': 3187, 'automationid': 3188, 'corewindow': 3189, 'saves': 3190, 'increasing': 3191, 'promote': 3192, 'signup': 3193, 'isvs': 3194, 'utility': 3195, 'launchuriasync': 3196, 'array': 3197, 'reproduced': 3198, 'rows': 3199, '365': 3200, 'win2d': 3201, 'backgrounddownloader': 3202, 'ftp': 3203, 'isnt': 3204, 'httpmultipartcontent': 3205, 'mpcontent': 3206, 'rules': 3207, 'drawing': 3208, 'temperature': 3209, 'consume': 3210, 'commerce': 3211, 'postal': 3212, 'affect': 3213, 'translations': 3214, 'opendocument': 3215, 'thoughts': 3216, 'brazilian': 3217, 'embed': 3218, 'confusion': 3219, 'gladly': 3220, 'simplest': 3221, 'patterns': 3222, 'newsrob': 3223, 'backend': 3224, 'watcher': 3225, 'fluid': 3226, 'manner': 3227, 'waste': 3228, 'beyondpod': 3229, 'laptop': 3230, 'gadget': 3231, 'igoogle': 3232, 'notifier': 3233, 'pushes': 3234, 'greader': 3235, 'board': 3236, 'listened': 3237, 'soundgecko': 3238, 'disqus': 3239, 'beautiful': 3240, 'flipboard': 3241, 'proposal': 3242, 'donate': 3243, 'donations': 3244, 'headlines': 3245, 'reaching': 3246, \"hasn't\": 3247, 'supposed': 3248, 'cleared': 3249, 'lag': 3250, 'burden': 3251, 'recreate': 3252, 'logon': 3253, 'initiate': 3254, 'selector': 3255, 'indie': 3256, 'ive': 3257, 'expanded': 3258, 'flexibility': 3259, 'tied': 3260, 'adoption': 3261, 'execution': 3262, 'tester': 3263, 'viewmodel': 3264, 'imaging': 3265, 'optimization': 3266, 'verification': 3267, 'sides': 3268, 'rejected': 3269, 'pornographic': 3270, 'sexually': 3271, 'material': 3272, 'answered': 3273, 'winforms': 3274, 'selecteditem': 3275, 'glyph': 3276, 'kernel32': 3277, 'fingers': 3278, 'arrangement': 3279, 'vr': 3280, 'constraint': 3281, 'af': 3282, 'grouping': 3283, 'mixed': 3284, 'd3d': 3285, 'dependency': 3286, 'mediacomposition': 3287, 'corners': 3288, 'solved': 3289, 'resw': 3290, 'aligned': 3291, 'nudity': 3292, 'plans': 3293, 'upper': 3294, 'mousewheel': 3295, 'wasting': 3296, 'spotify': 3297, 'webgl': 3298, \"'x'\": 3299, 'guessing': 3300, 'loadable': 3301, 'kits': 3302, 'complexity': 3303, 'desktops': 3304, 'loopback': 3305, '0xe6': 3306, 'wave': 3307, 'competitors': 3308, 'virtualbox': 3309, 'cream': 3310, 'maptilesource': 3311, 'macos': 3312, 'savefiledialog': 3313, 'filterindex': 3314, 'largely': 3315, 'passes': 3316, 'sharp': 3317, 'transmit': 3318, 'svhost': 3319, 'incremental': 3320, \"yesterday's\": 3321, 'proc': 3322, 'mediaplayerelement': 3323, 'kb4057144': 3324, 'baseimage': 3325, 'numerical': 3326, 'dac': 3327, 'brushes': 3328, 'wildcard': 3329, \"'m\": 3330, 'pathfigure': 3331, 'premier': 3332, 'neighboringfilesquery': 3333, 'tooltip': 3334, 'inking': 3335, 'analysis': 3336, 'systemmediatransportcontrols': 3337, 'failures': 3338, 'uwpcommunitytoolkit': 3339, 'robust': 3340, 'setdesiredbounds': 3341, 'framed': 3342, 'dirty': 3343, 'mediacapture': 3344, 'blending': 3345, 'pairing': 3346, 'customaudioeffect': 3347, 'eddystone': 3348, 'intune': 3349, 'saudi': 3350, 'arabia': 3351, 'egypt': 3352, 'ucrt': 3353, 'generator': 3354, 'topappbar': 3355, 'funnel': 3356, 'suspension': 3357, 'percent': 3358, 'rtf': 3359, 'invoked': 3360, 'newer': 3361, 'mapicons': 3362, 'masterdetailsview': 3363, 'replacement': 3364, 'stacks': 3365, 'rightalt': 3366, 'leftctrl': 3367, 'loc': 3368, 'coreindependentinputsource': 3369, 'wack': 3370, 'relativetime': 3371, 'supportedcultures': 3372, 'completly': 3373, 'cares': 3374, 'engineering': 3375, 'tom': 3376, 'driving': 3377, 'italian': 3378, 'ending': 3379, 'schemes': 3380, 'voted': 3381, 'tilebrush': 3382, 'tiling': 3383, 'separated': 3384, 'che': 3385, 'predefined': 3386, 'fits': 3387, 'moreover': 3388, 'agenda': 3389, 'livesdk': 3390, 'bool': 3391, 'liveloginresult': 3392, 'loginasync': 3393, 'signin': 3394, 'destroy': 3395, 'gap': 3396, 'interstitials': 3397, 'strategy': 3398, 'mifare': 3399, 'ul': 3400, 'ulc': 3401, 'calypso': 3402, 'desfire': 3403, 'merely': 3404, 'productivity': 3405, 'face': 3406, \"we'll\": 3407, 'arrives': 3408, 'cortanta': 3409, 'tackle': 3410, 'arise': 3411, 'hence': 3412, 'tens': 3413, 'flickering': 3414, 'discussion': 3415, 'wpapps': 3416, 'codeplex': 3417, 'canada': 3418, 'south': 3419, 'rates': 3420, 'checkbox': 3421, 'calculating': 3422, 'identity': 3423, 'scriptnotify': 3424, 'wbmp': 3425, '480': 3426, 'implementable': 3427, 'headertemplate': 3428, 'actualwidth': 3429, 'oneway': 3430, 'regional': 3431, 'datetime': 3432, 'introduces': 3433, 'sideloading': 3434, 'valuable': 3435, \"scenario's\": 3436, 'suitable': 3437, 'figured': 3438, 'speakers': 3439, 'microphones': 3440, 'speaker': 3441, 'edited': 3442, 'hands': 3443, 'brought': 3444, 'conditions': 3445, 'onload': 3446, 'yesterday': 3447, \"here's\": 3448, 'glance': 3449, 'imported': 3450, 'promise': 3451, 'friendlyname': 3452, 'certificatestores': 3453, 'cryptography': 3454, 'fetch': 3455, 'reverse': 3456, 'quote': 3457, 'syntax': 3458, 'makers': 3459, 'sensor': 3460, 'msn': 3461, '720': 3462, 'un': 3463, 'identical': 3464, 'cheers': 3465, 'meta': 3466, 'tracked': 3467, 'complaint': 3468, 'unequal': 3469, 'faith': 3470, 'kindly': 3471, 'transferring': 3472, 'effectively': 3473, 'contactpicker': 3474, 'dialler': 3475, 'gsm': 3476, 'conditional': 3477, 'adaptitemheight': 3478, 'hybrid': 3479, 'jquery': 3480, 'eligible': 3481, 'chip': 3482, 'pulled': 3483, 'nature': 3484, 'approx': 3485, 'talks': 3486, 'standing': 3487, 'wall': 3488, 'interactive': 3489, 'vimeo': 3490, 'extreme': 3491, 'putting': 3492, 'silence': 3493, 'whatsapp': 3494, 'casual': 3495, 'identification': 3496, 'sealed': 3497, 'ourselves': 3498, 'e71': 3499, 'symbian': 3500, 'unreliable': 3501, 'confidence': 3502, 'reportinterval': 3503, 'hung': 3504, 'ascending': 3505, 'wp81': 3506, 'headaches': 3507, 'pleas': 3508, 'wmappmanifest': 3509, 'comparable': 3510, 'combination': 3511, 'sharpdx': 3512, 'resize': 3513, 'city': 3514, 'switches': 3515, 'oldest': 3516, 'overlays': 3517, 'spinning': 3518, 'restarts': 3519, 'utilizar': 3520, 'knownfolders': 3521, 'photochoosertask': 3522, 'aplication': 3523, 'brand': 3524, 'considerations': 3525, 'agree': 3526, 'optimize': 3527, 'unsafe': 3528, 'structures': 3529, 'resulted': 3530, 'repeatedly': 3531, 'expense': 3532, \"you've\": 3533, 'meeting': 3534, 'poster': 3535, 'processed': 3536, 'walk': 3537, 'unusable': 3538, 'children': 3539, 'statistics': 3540, 'aside': 3541, 'verge': 3542, 'dir': 3543, 'opposite': 3544, 'processes': 3545, 'incomming': 3546, 'le': 3547, 'drain': 3548, 'accessories': 3549, 'angle': 3550, 'compliant': 3551, 'distance': 3552, 'linked': 3553, 'yahoo': 3554, 'deactivated': 3555, 'magically': 3556, 'sucks': 3557, 'registry': 3558, 'batterysource': 3559, 'suggesting': 3560, 'fair': 3561, 'reduces': 3562, 'bb': 3563, 'hire': 3564, 'taps': 3565, 'obsolete': 3566, 'arrive': 3567, 'ram': 3568, 'unresponsive': 3569, 'paragraph': 3570, 'mails': 3571, 'winpho': 3572, 'usability': 3573, 'reviewed': 3574, 'opinions': 3575, 'decent': 3576, 'beginning': 3577, 'familiar': 3578, 'mass': 3579, '32': 3580, 'entities': 3581, '300px': 3582, '720p': 3583, '06': 3584, 'weight': 3585, 'encourage': 3586, 'manufacturer': 3587, 'homescreen': 3588, 'shopping': 3589, \"they've\": 3590, 'kinda': 3591, 'utilizing': 3592, 'induction': 3593, 'charger': 3594, 'reduced': 3595, 'mah': 3596, 'comparisons': 3597, 'indication': 3598, 'strongly': 3599, 'sec': 3600, 'reasoning': 3601, 'enumerate': 3602, 'proximity': 3603, 'industrial': 3604, 'encoder': 3605, 'm3u8': 3606, 'functional': 3607, '2013': 3608, 'responsiveness': 3609, 'undo': 3610, 'movie': 3611, 'india': 3612, 'ratios': 3613, 'disappeared': 3614, '52': 3615, '58': 3616, '63': 3617, '67': 3618, '69': 3619, '76': 3620, '82': 3621, '86': 3622, '59': 3623, '68': 3624, '78': 3625, '80': 3626, 'instantiate': 3627, 'strokethickness': 3628, 'sir': 3629, \"ma'am\": 3630, 'mistake': 3631, 'heart': 3632, 'decision': 3633, 'spaces': 3634, 'filled': 3635, 'todo': 3636, 'redirected': 3637, 'desired': 3638, 'usd': 3639, 'consistently': 3640, 'nowhere': 3641, '1234': 3642, 'competition': 3643, 'selectionchanged': 3644, 'concerns': 3645, 'originally': 3646, 'carousel': 3647, 'bingmapsdirectionstask': 3648, 'poder': 3649, 'temporary': 3650, 'cumbersome': 3651, 'horrible': 3652, 'doctype': 3653, 'solid': 3654, 'touching': 3655, 'lighter': 3656, 'hubs': 3657, 'designers': 3658, 'boss': 3659, 'widely': 3660, 'viewers': 3661, 'clip': 3662, 'merge': 3663, 'img': 3664, 'broadcast': 3665, 'debugger': 3666, 'education': 3667, 'living': 3668, 'crucial': 3669, 'nearby': 3670, 'consuming': 3671, 'cost': 3672, 'targeted': 3673, 'satisfy': 3674, 'sell': 3675, 'swype': 3676, 'sockets': 3677, 'visualization': 3678, 'encounter': 3679, \"children's\": 3680, 'innovate': 3681, 'httpwebrequest': 3682, 'unacceptable': 3683, 'rfc': 3684, 'wm6': 3685, 'attempted': 3686, 'serial': 3687, 'redirect': 3688, 'libs': 3689, 'redirection': 3690, 'weather': 3691, 'filling': 3692, 'constants': 3693, 'immediate': 3694, 'imageheight': 3695, 'incorporate': 3696, 'colour': 3697, 'sincerely': 3698, 'deployed': 3699, 'teh': 3700, 'achieve': 3701, 'pointless': 3702, 'thumbnail': 3703, 'likes': 3704, '18': 3705, 'dreamspark': 3706, 'protecteddata': 3707, 'productid': 3708, 'xbox360': 3709, 'cdata': 3710, 'menuitem': 3711, 'edges': 3712, 'di': 3713, 'unhandled': 3714, 'magic': 3715, 'tired': 3716, 'closest': 3717, 'shelltile': 3718, 'tango': 3719, 'ein': 3720, 'thats': 3721, 'tough': 3722, 'companion': 3723, \"we'd\": 3724, 'individually': 3725, 'wars': 3726, 'deserialization': 3727, 'elses': 3728, 'themes': 3729, 'performs': 3730, 'registering': 3731, 'variables': 3732, 'adult': 3733, 'piece': 3734, 'til': 3735, 'verified': 3736, 'thousand': 3737, '03': 3738, 'deactivation': 3739, 'explain': 3740, 'instantiated': 3741, 'art': 3742, 'simulated': 3743, 'beat': 3744, 'bus': 3745, 'notifying': 3746, 'toasts': 3747, 'drill': 3748, 'combined': 3749, 'construct': 3750, 'raising': 3751, 'carry': 3752, 'constraints': 3753, 'intensive': 3754, 'supplied': 3755, 'ssdp': 3756, 'udpanysourcemulticastclient': 3757, 'requiring': 3758, 'texts': 3759, 'indexes': 3760, 'callback': 3761, 'teacher': 3762, 'watching': 3763, 'untill': 3764, 'dos': 3765, 'compress': 3766, 'twoway': 3767, 'square': 3768, 'shape': 3769, 'faced': 3770, 'incompetent': 3771, 'promised': 3772, 'slowing': 3773, 'bulk': 3774, 'intuitive': 3775, 'shorter': 3776, 'ahead': 3777, 'pan': 3778, 'flag': 3779, 'recurring': 3780, 'scanning': 3781, 'exif': 3782, 'extras': 3783, 'atom': 3784, 'ado': 3785, 'resorting': 3786, 'releasing': 3787, 'processor': 3788, 'overview': 3789, '40': 3790, 'sports': 3791, 'ticker': 3792, 'r2': 3793, 'persisted': 3794, '36': 3795, 'ringtones': 3796, 'literally': 3797, 'barcodes': 3798, 'ebooks': 3799, 'simulate': 3800, 'pageindex': 3801, '9wzdncrfj323': 3802, 'deeplink': 3803, 'reinitialize': 3804, 'frequent': 3805, 'abandoned': 3806, 'renderer': 3807, 'acceleration': 3808, 'biggest': 3809, 'follows': 3810, 'wordament': 3811, 'heavily': 3812, 'imgur': 3813, 'metrics': 3814, 'supplementary': 3815, 'contacting': 3816, 'winform': 3817, 'feedbacks': 3818, 'span': 3819, 'ebook': 3820, 'average': 3821, 'sketch': 3822, 'deriving': 3823, 'closer': 3824, 'impacts': 3825, 'architecture': 3826, \"1'200\": 3827, \"1'300\": 3828, 'associate': 3829, 'retirement': 3830, 'speak': 3831, 'sold': 3832, 'roslyn': 3833, 'presented': 3834, 'caliburnmicro': 3835, 'decouple': 3836, 'parity': 3837, '5080': 3838, 'b2a': 3839, 'n00': 3840, 'decoder': 3841, 'nodes': 3842, 'mediasource': 3843, 'gifs': 3844, 'suit': 3845, 'interference': 3846, 'pdfdocument': 3847, 'acrobat': 3848, 'scheduling': 3849, 'groove': 3850, \"one's\": 3851, 'desirable': 3852, 'graphical': 3853, 'withevents': 3854, 'vast': 3855, 'explanation': 3856, 's3': 3857, 'differences': 3858, 'meters': 3859, 'equalizer': 3860, 'richtextblock': 3861, 'earn': 3862, 'reserves': 3863, 'advised': 3864, 'sentences': 3865, 'oob': 3866, 'readily': 3867, 'interactions': 3868, 'wingeochat': 3869, '10586': 3870, 'shame': 3871, 'spot': 3872, 'straightforward': 3873, 'abi': 3874, 'showat': 3875, 'degrees': 3876, 'sqlite': 3877, 'wrapper': 3878, 'symantec': 3879, 'vetting': 3880, 'switched': 3881, 'investing': 3882, 'visa': 3883, 'availability': 3884, 'prepaid': 3885, 'similarly': 3886, 'dots': 3887, 'bot': 3888, 'filepicker': 3889, 'chances': 3890, 'wrappers': 3891, 'dozens': 3892, 'intercept': 3893, 'formal': 3894, 'elementary': 3895, 'wire': 3896, 'receivers': 3897, 'honestly': 3898, 'learned': 3899, 'rtm': 3900, 'securely': 3901, 'keychain': 3902, 'sso': 3903, 'flaw': 3904, 'dump': 3905, 'declarative': 3906, 'timing': 3907, 'w3': 3908, 'tr': 3909, 'accessory': 3910, 'tshell': 3911, 'manufacturers': 3912, 'inclusion': 3913, 'wintp': 3914, 'xp': 3915, 'frustration': 3916, 'merged': 3917, 'stability': 3918, 'focusing': 3919, 'styling': 3920, 'resizing': 3921, 'vault': 3922, 'joomla': 3923, 'dead': 3924, 'topics': 3925, 'pinterest': 3926, 'ubuntu': 3927, 'chromecast': 3928, 'organize': 3929, 'minor': 3930, 'preference': 3931, 'pod': 3932, 'vary': 3933, 'faq': 3934, 'sorts': 3935, 'desire': 3936, 'persona': 3937, 'receives': 3938, 'contribution': 3939, 'generally': 3940, 'letting': 3941, 'gimmebar': 3942, 'mr': 3943, 'truncated': 3944, 'caption': 3945, 'float': 3946, 'mailing': 3947, 'blogger': 3948, 'stupid': 3949, 'rights': 3950, 'mainly': 3951, 'donated': 3952, 'attract': 3953, 'moves': 3954, 'footnote': 3955, 'invoking': 3956, 'stable': 3957, 'programmed': 3958, 'beeline': 3959, 'gallery': 3960, 'locate': 3961, 'sandboxed': 3962, 'pile': 3963, 'unify': 3964, 'googled': 3965, \"weren't\": 3966, 'uninstalled': 3967, 'investigated': 3968, 'assuming': 3969, 'nextgen': 3970, '930': 3971, 'ogg': 3972, 'begin': 3973, 'rotation': 3974, 'tracker': 3975, 'protocols': 3976, 'convince': 3977, 'mine': 3978, 'lte': 3979, 'enrolled': 3980, 'analyzing': 3981, 'marketing': 3982, 'dlls': 3983, 'secured': 3984, 'puts': 3985, 'scoped': 3986, 'resuming': 3987, 'medialibraryextensions': 3988, 'savesong': 3989, 'discussed': 3990, 'investigation': 3991, 'accuses': 3992, 'exits': 3993, 'gave': 3994, 'healthy': 3995, 'struggling': 3996, 'simultaneous': 3997, 'satellites': 3998, 'affecting': 3999, 'f1': 4000, 'comply': 4001, 'scanned': 4002, 'department': 4003, 'activation': 4004, 'treeviewnode': 4005, 'glyphuri': 4006, 'maximized': 4007, 'launchuriforresultsasync': 4008, 'datauri': 4009, 'backwards': 4010, 'selectedbackground': 4011, 'rcs': 4012, 'developments': 4013, 'collapsed': 4014, 'scratch': 4015, 'unintended': 4016, 'streamsocket': 4017, 'endpoint': 4018, 'tick': 4019, 'targeting': 4020, 'seqpacket': 4021, 'unity': 4022, 'declared': 4023, 'mediastreamsample': 4024, 'emailmessage': 4025, 'suggests': 4026, 'copies': 4027, 'lf': 4028, 'paper': 4029, 'neighboring': 4030, 'fired': 4031, 'buttonpressed': 4032, 'significant': 4033, 'backward': 4034, 'desc': 4035, 'depthwritemask': 4036, 'undefined': 4037, 'artificial': 4038, 'beacons': 4039, 'circular': 4040, 'listboxitems': 4041, 'bios': 4042, 'pivotviewer': 4043, 'upfront': 4044, 'luck': 4045, 'incompatible': 4046, 'members': 4047, 'completes': 4048, 'announced': 4049, 'arbitrary': 4050, 'contacted': 4051, 'clutters': 4052, 'rs4': 4053, 'discovered': 4054, 'headache': 4055, 'â\\x80\\x9c': 4056, 'flight': 4057, 'calculations': 4058, '17134': 4059, 'discard': 4060, 'figure': 4061, 'arduino': 4062, 'countless': 4063, 'datapackage': 4064, 'bsod': 4065, 'hundreds': 4066, 'realm': 4067, 'sit': 4068, 'mimic': 4069, 'poolmon': 4070, 'managers': 4071, 'lisp': 4072, 'intel': 4073, 'edition': 4074, 'drawbacks': 4075, 'rendertargetbitmap': 4076, 'gift': 4077, '97': 4078, 'viable': 4079, 'flesh': 4080, 'arm64': 4081, 'determined': 4082, 'spell': 4083, 'roller': 4084, 'swatter': 4085, 'contentdialogplacement': 4086, 'wildcardpattern': 4087, \"aclsize'\": 4088, '300': 4089, 'connecting': 4090, 'nat': 4091, 'folderpicker': 4092, 'ssd': 4093, 'uncommon': 4094, 'vertically': 4095, 'masterview': 4096, 'linker': 4097, 'referencing': 4098, 'hovered': 4099, 'repro': 4100, 'sizing': 4101, 'died': 4102, 'triangle': 4103, 'windowsuidevlabs': 4104, 'limbo': 4105, 'transient': 4106, 'reuse': 4107, 'circumvent': 4108, 'richtext': 4109, 'vcd': 4110, 'resx': 4111, 'bottomappbar': 4112, 'inform': 4113, 'interestingly': 4114, 'appium': 4115, 'vs2017': 4116, 'multiuser': 4117, 'hresult': 4118, \"you'll\": 4119, 'serialdevice': 4120, 'compiling': 4121, 'datepicker': 4122, 'â\\x80¦': 4123, \"creator's\": 4124, 'dxgi': 4125, 'editors': 4126, 'suspended': 4127, 'mdl2': 4128, 'itemindexrange': 4129, 'datatemplates': 4130, 'downloader': 4131, 'adaptive': 4132, 'shoutcast': 4133, 'selectable': 4134, 'fallback': 4135, 'transcoding': 4136, 'alac': 4137, 'w10m': 4138, 'deviceinformation': 4139, 'warnings': 4140, 'replacing': 4141, 'guid': 4142, 'apns': 4143, 'hwnd': 4144, 'httplistener': 4145, 'routing': 4146, 'dlna': 4147, 'freely': 4148, 'environmentpermission': 4149, 'accessibility': 4150, 'mfc': 4151, 'attractive': 4152, 'identified': 4153, 'seekbar': 4154, 'directinput': 4155, 'utilize': 4156, 'csproj': 4157, 'prevoius': 4158, 'forever': 4159, 'truble': 4160, 'ff967550': 4161, 'fatto': 4162, 'bt': 4163, 'heading': 4164, 'reproducible': 4165, 'cyan': 4166, 'relearning': 4167, 'validate': 4168, 'lens': 4169, 'pinnable': 4170, 'contoso': 4171, 'instaed': 4172, 'birthday': 4173, '05': 4174, 'tracing': 4175, 'eventsource': 4176, \"code's\": 4177, 'slowly': 4178, 'join': 4179, 'developper': 4180, 'deactivate': 4181, 'tpl': 4182, 'selective': 4183, 'rogue': 4184, 'nicely': 4185, 'overscrolling': 4186, 'connectclient': 4187, 'meresult': 4188, 'istance': 4189, 'abandon': 4190, 'wpappmanifest': 4191, 'untick': 4192, '101801': 4193, 'openxml': 4194, 'productive': 4195, 'prefetch': 4196, 'italic': 4197, 'winappswithhtml5': 4198, 'vs2013': 4199, 'replicate': 4200, 'additions': 4201, 'merging': 4202, 'notifies': 4203, 'interacting': 4204, 'enforcement': 4205, 'pray': 4206, 'combining': 4207, 'basing': 4208, 'pointers': 4209, 'efficiently': 4210, 'treat': 4211, 'tier': 4212, 'europe': 4213, 'argentina': 4214, 'proceeds': 4215, 'billing': 4216, 'challenge': 4217, '960': 4218, '1228800': 4219, 'era': 4220, 'calc': 4221, 'itemcontainerstyle': 4222, 'setter': 4223, 'groupheader': 4224, 'elementname': 4225, 'hubevidenza': 4226, 'irish': 4227, 'timestamps': 4228, 'revealed': 4229, \"'settings'\": 4230, \"'apps\": 4231, \"list'\": 4232, 'buddy': 4233, 'pgn': 4234, 'lockscreens': 4235, 'estimate': 4236, 'ensurecertficatesasync': 4237, 'certificatequery': 4238, 'certificateenrollmentmanager': 4239, 'xxxxx': 4240, 'continuation': 4241, 'opera': 4242, 'sky': 4243, 'operational': 4244, 'd2d': 4245, 'strangely': 4246, 'oem': 4247, 'structure': 4248, 'harming': 4249, 'hrs': 4250, 'albeit': 4251, 'pad': 4252, 'hav': 4253, 'hang': 4254, 'rings': 4255, 'pickup': 4256, 'observed': 4257, 'apologies': 4258, 'shuts': 4259, 'mno': 4260, 'handset': 4261, '1520': 4262, '3uk': 4263, 'ceullar': 4264, \"error'\": 4265, 'toggling': 4266, 'airline': 4267, 'apn': 4268, 'guide': 4269, 'addingnewapps': 4270, 'behalf': 4271, 'government': 4272, 'eyes': 4273, 'erasure': 4274, 'immutable': 4275, 'desiredfieldswithcontactfieldtype': 4276, 'contactfieldtype': 4277, 'ilist': 4278, 'pickcontactsasync': 4279, 'foreach': 4280, 'keypad': 4281, 'maxnumberofcolums': 4282, 'comfortable': 4283, 'webdevelopers': 4284, 'unfortunate': 4285, 'intact': 4286, 'nightmare': 4287, 'snippet': 4288, 'firmware': 4289, 'revision': 4290, 'mailbox': 4291, 'br': 4292, 'convinient': 4293, 'chaining': 4294, 'prev': 4295, 'attachement': 4296, \"publisher's\": 4297, 'goals': 4298, 'translating': 4299, 'locality': 4300, 'pulling': 4301, 'clsing': 4302, 'truecaller': 4303, '80070057': 4304, 'msg': 4305, 'mapelement': 4306, 'derived': 4307, 'backing': 4308, 'locks': 4309, 'positionchanged': 4310, '45': 4311, 'degree': 4312, 'getgeopositionasync': 4313, 'timespan': 4314, 'magical': 4315, 'abilities': 4316, 'descending': 4317, 'massive': 4318, \"updated'\": 4319, 'invoices': 4320, 'unanswered': 4321, \"delete's\": 4322, 'thief': 4323, 'reception': 4324, 'l925': 4325, 'loses': 4326, 'corporation': 4327, 'descriptive': 4328, 'trick': 4329, 'easiest': 4330, 'bet': 4331, 'reminds': 4332, 'para': 4333, 'esta': 4334, 'los': 4335, 'seria': 4336, 'buena': 4337, 'mayor': 4338, 'las': 4339, 'analyzer': 4340, 'countrys': 4341, 'resets': 4342, 'cameraroll': 4343, 'photocroptask': 4344, 'recurrencetype': 4345, 'monthly': 4346, 'organized': 4347, 'child': 4348, 'hh465199': 4349, 'hh464978': 4350, 'jj218966': 4351, 'fans': 4352, 'frustrated': 4353, 'lastplayeddate': 4354, 'addeddate': 4355, 'simulation': 4356, 'lowest': 4357, 'competing': 4358, 'codebase': 4359, 'grained': 4360, 'horribly': 4361, 'constrained': 4362, 'profitable': 4363, 'plotted': 4364, 'forgotten': 4365, 'directions': 4366, 'cleaner': 4367, 'disallow': 4368, 'tls': 4369, '509': 4370, 'corrupted': 4371, 'paired': 4372, 'disconnected': 4373, 'timed': 4374, 'presses': 4375, 'involved': 4376, 'opengl': 4377, 'strength': 4378, 'audiovideocapturedevice': 4379, 'disposal': 4380, 'deeply': 4381, 'ac': 4382, 'tells': 4383, 'progressbar': 4384, '33': 4385, 'enjoying': 4386, 'bother': 4387, 'promotion': 4388, 'voting': 4389, 'touched': 4390, 'presents': 4391, 'prepare': 4392, 'bounce': 4393, 'defaults': 4394, 'equipment': 4395, 'unlocks': 4396, 'unlocking': 4397, 'reminders': 4398, 'paging': 4399, 'submissioned': 4400, 'indent': 4401, 'numberstyle': 4402, 'flags': 4403, 'uppercase': 4404, \"mp3's\": 4405, 'boring': 4406, 'charts': 4407, 'disliked': 4408, 'filtered': 4409, 'subset': 4410, \"contact's\": 4411, 'showcontacttask': 4412, 'hawaii': 4413, '8s': 4414, 'gb': 4415, 'microsd': 4416, 'inaccessible': 4417, 'reflection': 4418, 'differentiate': 4419, 'scrollintoview': 4420, 'reloads': 4421, 'togglebutton': 4422, 'filenotfoundexception': 4423, 'unpaired': 4424, 'sized': 4425, 'celular': 4426, 'del': 4427, 'protected': 4428, 'credential': 4429, 'tone': 4430, '5mm': 4431, 'clothes': 4432, 'webclient': 4433, 'voltage': 4434, 'inductive': 4435, 'highest': 4436, \"color's\": 4437, 'glass': 4438, 'landscape': 4439, 'shortens': 4440, 'snap': 4441, 'deletion': 4442, 'angry': 4443, 'designated': 4444, 'watches': 4445, 'cars': 4446, 'usual': 4447, 'wonderfully': 4448, 'maproute': 4449, 'routequery': 4450, 'traveled': 4451, 'iroutepath': 4452, 'multitouch': 4453, 'wheel': 4454, 'nuts': 4455, 'employed': 4456, 'imageresizing': 4457, \"'device\": 4458, 'synchronization': 4459, 'arrival': 4460, 'seeking': 4461, '54': 4462, '65': 4463, '72': 4464, '96': 4465, '98': 4466, '53': 4467, '55': 4468, '66': 4469, '89': 4470, '95': 4471, 'fluently': 4472, 'strain': 4473, 'torrent': 4474, 'exploit': 4475, 'csharp': 4476, 'itemcontrol': 4477, 'sad': 4478, 'rendertransform': 4479, 'rotatetransform': 4480, 'misuse': 4481, 'corrupt': 4482, 'lastly': 4483, 'hitting': 4484, 'sentence': 4485, 'hotmail': 4486, 'intervention': 4487, 'biometric': 4488, 'supply': 4489, 'facial': 4490, 'russia': 4491, 'colon': 4492, 'signs': 4493, 'tower': 4494, 'informations': 4495, 'mcc': 4496, 'imei': 4497, 'scheduler': 4498, 'controlled': 4499, 'accelerometer': 4500, 'rapid': 4501, 'occurring': 4502, 'computing': 4503, 'heaps': 4504, 'abused': 4505, 'gaining': 4506, 'exiting': 4507, 'resetting': 4508, 'lifting': 4509, 'loved': 4510, 'shots': 4511, 'restrict': 4512, 'sergiy': 4513, 'spotted': 4514, 'indeed': 4515, 'signing': 4516, 'definir': 4517, 'sem': 4518, 'um': 4519, 'da': 4520, 'eu': 4521, 'alarms': 4522, 'facility': 4523, 'damn': 4524, 'research': 4525, 'newlines': 4526, 'commons': 4527, 'decreases': 4528, 'wondering': 4529, 'driven': 4530, 'vez': 4531, 'wherever': 4532, 'initiated': 4533, 'vibration': 4534, 'charset': 4535, 'utf': 4536, '1px': 4537, '20px': 4538, 'fc0': 4539, 'colours': 4540, 'performant': 4541, 'kinect': 4542, 'additionally': 4543, 'kick': 4544, 'mpeg': 4545, 'ect': 4546, 'advertise': 4547, 'breeze': 4548, 'artists': 4549, 'sapi': 4550, 'voices': 4551, 'abillity': 4552, 'bicycle': 4553, 'repair': 4554, 'shop': 4555, 'roadmap': 4556, 'wanting': 4557, 'longitude': 4558, 'brazil': 4559, 'ids': 4560, 'cater': 4561, 'rssi': 4562, 'pls': 4563, 'intersting': 4564, 'duplex': 4565, 'cuz': 4566, 'void': 4567, 'photocamera': 4568, 'enu': 4569, 'ultimate': 4570, 'gaming': 4571, 'orientation': 4572, 'î\\x81\\x89': 4573, 'stifling': 4574, 'childrens': 4575, 'openstack': 4576, 'ilinksharer': 4577, 'slides': 4578, 'flick': 4579, 'nmea': 4580, '0183': 4581, 'wiki': 4582, 'wireshark': 4583, 'sharestatustask': 4584, 'bible': 4585, 'revenues': 4586, 'affects': 4587, 'mid': 4588, 'saveringtonetask': 4589, 'involves': 4590, 'secret': 4591, 'foreign': 4592, 'intellisense': 4593, 'standardtiledata': 4594, 'btw': 4595, 'ja': 4596, 'jp': 4597, 'constant': 4598, 'approaches': 4599, 'picks': 4600, 'paying': 4601, 'batterysaver': 4602, 'involve': 4603, 'apparent': 4604, 'restrictive': 4605, 'accepting': 4606, 'condensed': 4607, 'scanner': 4608, 'keyup': 4609, 'slight': 4610, 'university': 4611, 'grown': 4612, 'balance': 4613, 'dozen': 4614, 'synced': 4615, 'fancy': 4616, 'honest': 4617, '1500': 4618, 'menuitems': 4619, 'noise': 4620, 'rar': 4621, 'pics': 4622, 'shelltiledata': 4623, 'troubleshooting': 4624, 'qrcode': 4625, 'havent': 4626, 'downloadable': 4627, 'granted': 4628, 'ng': 4629, 'manualy': 4630, 'movies': 4631, 'addresschoosertask': 4632, 'httponly': 4633, 'samplerate': 4634, 'dialing': 4635, 'develops': 4636, 'pays': 4637, 'responding': 4638, 'applicationid': 4639, 'isolatedstoragesettings': 4640, 'science': 4641, 'conversations': 4642, 'nicer': 4643, 'srt': 4644, 'heck': 4645, 'fed': 4646, 'fas': 4647, 'trivial': 4648, 'ptorr': 4649, 'joking': 4650, 'outgoing': 4651, 'comfort': 4652, 'regionally': 4653, 'hd7': 4654, 'enhanced': 4655, 'audiosink': 4656, 'wishlist': 4657, 'asphalt': 4658, 'genres': 4659, 'backround': 4660, '360': 4661, 'localizable': 4662, 'programmers': 4663, 'corrected': 4664, 'windowsphone7': 4665, 'dislike': 4666, 'syncs': 4667, 'episodes': 4668, 'negatively': 4669, 'episode': 4670, 'webkit': 4671, 'funtionality': 4672, 'inability': 4673, 'lame': 4674, 'income': 4675, 'held': 4676, 'alive': 4677, 'periodic': 4678, '30min': 4679, 'met': 4680, 'rits': 4681, 'comms': 4682, 'hungry': 4683, 'charges': 4684, '30sec': 4685, 'ce': 4686, 'disadvantage': 4687, 'realy': 4688, 'purchasing': 4689, 'landline': 4690, 'cap': 4691, 'pbx': 4692, 'concerning': 4693, 'transforms': 4694, 'grant': 4695, 'selectedindex': 4696, '17': 4697, 'sole': 4698, 'streamlined': 4699, 'nodo': 4700, 'informed': 4701, 'picking': 4702, 'latter': 4703, '453077': 4704, 'cancelled': 4705, 'accepted': 4706, 'agents': 4707, 'backspace': 4708, 'arrows': 4709, 'multiscaleimage': 4710, 'inappropriate': 4711, 'plumbing': 4712, \"you'd\": 4713, 'mobiles': 4714, 'surely': 4715, 'avoided': 4716, 'manipulation': 4717, '510718': 4718, 'isolatedstorage': 4719, 'powered': 4720, 'redo': 4721, 'achievements': 4722, 'wierd': 4723, \"apps'\": 4724, 'dear': 4725, 'friday': 4726, \"ms'\": 4727, 'ins': 4728, 'bundles': 4729, 'planed': 4730, 'loose': 4731, 'andriod': 4732, 'rotates': 4733, 'stopping': 4734, 'pricing': 4735, 'localised': 4736, 'persons': 4737, 'multitask': 4738, 'hopefully': 4739, 'distributed': 4740, 'considered': 4741, 'pcls': 4742, 'compilation': 4743, 'accessed': 4744, 'uvc': 4745, 'favourite': 4746, 'xmlnsdefinitionattribute': 4747, 'advent': 4748, 'throughout': 4749, 'hacks': 4750, 'electoral': 4751, 'wrap': 4752, \"they'll\": 4753, 'summarised': 4754, 'll': 4755, 'commute': 4756, 'enjoy': 4757, 'crossword': 4758, 'narrow': 4759, 'placing': 4760, 'wpsubmit': 4761, 'designs': 4762, \"application's\": 4763, 'complaints': 4764, 'moderncpp': 4765, 'don': 4766, 'sacrifice': 4767, 'counting': 4768, 'findancestor': 4769, 'scheduledtoastnotification': 4770, 'determining': 4771, 'urgently': 4772, 'symptoms': 4773, 'permanent': 4774, 'promo': 4775, 'problematic': 4776, 'reinstall': 4777, 'graphs': 4778, 'refused': 4779, 'maintained': 4780, 'inexplicably': 4781, 'wrapgrid': 4782, 'stackpanel': 4783, 'freda': 4784, 'appeared': 4785, \"'ebook\": 4786, \"reader'\": 4787, 'ranking': 4788, 'vice': 4789, 'versa': 4790, 'inheritance': 4791, '1080x1920': 4792, 'unhandledexception': 4793, 'designcapacityinmilliwatthours': 4794, '620': 4795, 'mwh': 4796, 'b8b66a85': 4797, 'cc5f': 4798, '4de0': 4799, '9eff': 4800, '51df099ca495': 4801, 'charged': 4802, 'energy': 4803, 'intend': 4804, 'steady': 4805, 'j': 4806, 'jl': 4807, 'operates': 4808, 'wup': 4809, 'paradigm': 4810, 'duoco': 4811, 'analog': 4812, 'caliburn': 4813, 'conspicuously': 4814, 'featureset': 4815, 'rising': 4816, 'modifying': 4817, 'es5': 4818, 'babeljs': 4819, 'traceur': 4820, 'zxing': 4821, 'jspx': 4822, 'java4less': 4823, 'azteccode': 4824, 'symbology': 4825, 'illogical': 4826, 'expert': 4827, 'polish': 4828, 'broke': 4829, '22': 4830, 'secondly': 4831, 'elevated': 4832, 'influence': 4833, 'virus': 4834, 'aes': 4835, '256': 4836, 'encryption': 4837, 'everyday': 4838, 'serve': 4839, 'slot': 4840, 'ph': 4841, 'workarounds': 4842, 'wakes': 4843, 'provision': 4844, '150mb': 4845, 'harddisk': 4846, 'assigning': 4847, 'licenses': 4848, 'assigned': 4849, 'webapis': 4850, 'excuse': 4851, 'proxies': 4852, 'infested': 4853, 'pdb': 4854, 'sourcing': 4855, 'lead': 4856, 'statement': 4857, 'clause': 4858, 'recreating': 4859, 'unfinished': 4860, 'minimized': 4861, 'unsaved': 4862, '16': 4863, 'defect': 4864, 'currentappsimulator': 4865, 'denied': 4866, 'usecase': 4867, 'renamed': 4868, 'system32': 4869, \"'old'\": 4870, 'specifications': 4871, 'ipv6': 4872, 'refer': 4873, 'notebooks': 4874, '81608': 4875, 'carrige': 4876, 'augmented': 4877, 'reliable': 4878, 'geolocation': 4879, 'messagebox': 4880, 'incl': 4881, 'corewindows': 4882, 'ratemyapp': 4883, 'reverting': 4884, 'smoother': 4885, 'thankyou': 4886, 'tasking': 4887, 'careless': 4888, 'naming': 4889, 'sight': 4890, 'practice': 4891, 'unrelated': 4892, 'libaries': 4893, 'screenmirroring': 4894, 'fileloggingsession': 4895, 'loggingchannel': 4896, 'messing': 4897, 'subscribers': 4898, 'mock': 4899, 'echo': 4900, 'computed': 4901, 'lie': 4902, 'rect': 4903, 'actualheight': 4904, '319': 4905, '321': 4906, 'frustum': 4907, 'showatasync': 4908, 'indexeddb': 4909, 'resulting': 4910, 'vague': 4911, 'aka': 4912, 'pushed': 4913, 'devicetype': 4914, 'cat0': 4915, 'uisplitviewcontroller': 4916, 'wonky': 4917, 'overlap': 4918, 'audit': 4919, '8bit': 4920, 'smb': 4921, 'employees': 4922, 'dishonest': 4923, 'shortly': 4924, 'warns': 4925, '2\\r': 4926, 'dirextx': 4927, 'modelling': 4928, 'cons': 4929, 'cube': 4930, 'phonecallorigin': 4931, 'gadgets': 4932, 'president': 4933, 'partner': 4934, 'geographic': 4935, 'modes': 4936, 'multichannel': 4937, 'alternates': 4938, 'breakes': 4939, 'targetting': 4940, '525': 4941, '530': 4942, 'thin': 4943, 'translators': 4944, 'linguist': 4945, 'planned': 4946, 'shawn': 4947, 'oster': 4948, 'undesirable': 4949, 'overlooking': 4950, 'multiplayer': 4951, 'mmos': 4952, 'extents': 4953, 'reflected': 4954, 'lengths': 4955, 'exceed': 4956, 'onlineidauthenticator': 4957, 'credentialprompttype': 4958, 'retypecredentials': 4959, 'proceed': 4960, 'treated': 4961, 'codepen': 4962, 'forks': 4963, 'oasis': 4964, 'part1': 4965, 'refheading': 4966, '1416228': 4967, '253892949': 4968, 'polyfill': 4969, 'entirely': 4970, 'halo': 4971, 'retrieved': 4972, 'unauthorized': 4973, 'botched': 4974, 'portuguese': 4975, 'perf': 4976, 'satisfies': 4977, 'backgroundtask': 4978, 'enhancements': 4979, 'portable': 4980, 'clunky': 4981, 'ie8': 4982, 'surfing': 4983, 'blinkfeed': 4984, 'kippt': 4985, 'sessions': 4986, 'reeder': 4987, 'ingredient': 4988, 'downside': 4989, '2009': 4990, 'followers': 4991, 'tagging': 4992, 'eliminate': 4993, 'mozilla': 4994, 'thunderbird': 4995, 'casts': 4996, 'needless': 4997, 'mask': 4998, 'pings': 4999, 'seamless': 5000, 'alternatives': 5001, 'repo': 5002, 'ighome': 5003, 'temporarily': 5004, 'preferences': 5005, 'tumblrs': 5006, 'warn': 5007, 'gravatar': 5008, 'viewable': 5009, 'delivery': 5010, 'expressed': 5011, 'cached': 5012, 'clipper': 5013, 'pintrest': 5014, 'appearing': 5015, 'alphabetical': 5016, 'inserted': 5017, 'subscribing': 5018, 'netvibes': 5019, 'concluded': 5020, 'antennapod': 5021, 'disappears': 5022, 'k': 5023, 'feedburner': 5024, 'grateful': 5025, 'july': 5026, 'performed': 5027, 'unclear': 5028, 'mathematical': 5029, 'delicious': 5030, 'deadline': 5031, 'complaining': 5032, 'flattr': 5033, 'flatter': 5034, 'flatters': 5035, 'donation': 5036, 'unclaimed': 5037, 'bloggers': 5038, 'claim': 5039, 'administration': 5040, 'amazons': 5041, 'tweetdeck': 5042, 'luakit': 5043, 'shutting': 5044, 'sina': 5045, 'weibo': 5046, 'slideshow': 5047, \"'s\": 5048, 'importing': 5049, 'awkward': 5050, 'convenience': 5051, 'libsyn': 5052, 'gradients': 5053, \"apple's\": 5054, 'ly': 5055, 'mike': 5056, 'quotation': 5057, 'categorize': 5058, 'positioned': 5059, 'jabber': 5060, 'cooking': 5061, 'playbook': 5062, 'configuring': 5063, \"'like'\": 5064, 'theirs': 5065, 'exporting': 5066, 'badge': 5067, 'naver': 5068, 'panboy': 5069, 'hacker': 5070, 'discovering': 5071, 'brackets': 5072, 'degrade': 5073, 'clips': 5074, 'trident': 5075, 'uc': 5076, 'score': 5077, 'backgrounds': 5078, 'scheduledtask': 5079, 'reposition': 5080, 'ejecutarlas': 5081, 'prepair': 5082, 'mmscomposetask': 5083, 'unification': 5084, 'assumes': 5085, 'presume': 5086, 'karsten': 5087, 'klein': 5088, 'resort': 5089, 'brokerage': 5090, 'whereby': 5091, 'unlike': 5092, 'class1': 5093, 'class2': 5094, 'mande': 5095, 'todas': 5096, 'nos': 5097, 'aparezca': 5098, 'ml': 5099, 'syncml': 5100, 'cough': 5101, 'contactstore': 5102, 'unsure': 5103, 'checkpoint': 5104, 'gms': 5105, 'dm': 5106, 'gcm': 5107, 'hosts': 5108, 'defer': 5109, 'suspending': 5110, 'taxes': 5111, 'evaluation': 5112, '3th': 5113, 'unistall': 5114, 'disappointed': 5115, 'resourcedictionary': 5116, 'nested': 5117, 'infinitely': 5118, 'declare': 5119, 'onclick': 5120, 'presed': 5121, 'competitive': 5122, 'expedite': 5123, 'mix': 5124, 'rotate': 5125, 'uesr': 5126, 'surname': 5127, 'observe': 5128, 'debit': 5129, 'renewals': 5130, 'gdr2': 5131, 'retain': 5132, \"'to\": 5133, \"do'\": 5134, 'navigationservice': 5135, 'geocoordinatewatcher': 5136, '200m': 5137, 'speakerphone': 5138, 'stiill': 5139, '32bit': 5140, 'forgot': 5141, 'push2tv': 5142, 'widi': 5143, 'msi': 5144, 'repeating': 5145, 'sap': 5146, '21320': 5147, 'fills': 5148, 'wraps': 5149, 'accomplish': 5150, 'bonjour': 5151, 'assignment': 5152, 'toolkits': 5153, 'affinity': 5154, 'expands': 5155, 'proposed': 5156, 'datagrid': 5157, 'fontfamily': 5158, 'pathicon': 5159, '1612': 5160, '202l': 5161, '116': 5162, 'beep': 5163, 'preventing': 5164, 'hiding': 5165, 'scenes': 5166, 'manipulating': 5167, 'skeletal': 5168, 'smartwatch': 5169, 'schema': 5170, 'insight': 5171, \"cortana's\": 5172, '10s': 5173, 'invisible': 5174, 'sliding': 5175, 'ought': 5176, 'declaring': 5177, 'rip': 5178, 'cryptuiwiz': 5179, 'positions': 5180, 'semaphoreslim': 5181, 'sequential': 5182, 'taskcompletionsource': 5183, 'discarded': 5184, 'rotatortile': 5185, 'index': 5186, 'decimal': 5187, 'interrupt': 5188, \"'usage'\": 5189, 'showcaseview': 5190, 'bash': 5191, 'distractive': 5192, 'dllimport': 5193, 'exactspelling': 5194, 'v2': 5195, 'calendarmonthview': 5196, 'dx11': 5197, 'conditionally': 5198, 'pulltorefreshlistview': 5199, 'closet': 5200, 'obscures': 5201, 'wpftoolkit': 5202, 'statusbar': 5203, 'asp': 5204, 'windows10': 5205, 'meaningful': 5206, 'remotely': 5207, 'outputs': 5208, '7zip': 5209, 'curious': 5210, 'blurred': 5211, 'acrylic': 5212, 'withinrafael': 5213, 'unsupported': 5214, 'toolbox': 5215, 'ruined': 5216, 'worthwhile': 5217, 'readonly': 5218, 'yellow': 5219, 'approximately': 5220, 'eventsetter': 5221, 'filed': 5222, 'plugging': 5223, \"android's\": 5224, 'resolving': 5225, 'reboots': 5226, 'semanticzoom': 5227, 'xpadder': 5228, 'obj1': 5229, 'bindingstracking': 5230, 'changelog': 5231, 'sysem': 5232, 'menyflyout': 5233, 'frameworkelement': 5234, 'semitransparency': 5235, 'harware': 5236, 'xyz': 5237, 'automtically': 5238, 'invokes': 5239, 'wziitq6': 5240, 'timedtextcues': 5241, 'timedmetadatatrack': 5242, 'starttime': 5243, 'cues': 5244, 'externaltimedmetadatatracks': 5245, 'inch': 5246, '1088': 5247, '108': 5248, 'settins': 5249, 'loadasynctask': 5250, 'sore': 5251, 'fortunately': 5252, 'gflags': 5253, 'compiles': 5254, 'infrastructure': 5255, 'falls': 5256, 'measure': 5257, 'multiply': 5258, 'calculated': 5259, \"twitter's\": 5260, 'littered': 5261, 'getters': 5262, 'impede': 5263, 'spawn': 5264, 'intentions': 5265, 'increased': 5266, 'threading': 5267, 'throughput': 5268, 'respectable': 5269, 'foremost': 5270, 'steve': 5271, 'balmer': 5272, 'displaymonitor': 5273, '48': 5274, 'latlong': 5275, 'trackpad': 5276, 'acts': 5277, 'increment': 5278, 'broadfilesystemaccess': 5279, '15036': 5280, 'invest': 5281, 'picksinglefileasync': 5282, 'picksavefileasync': 5283, 'selectedforeground': 5284, 'selectedborderbrush': 5285, 'stabilized': 5286, 'spring': 5287, \"iapplicationview's\": 5288, 'clsid': 5289, 'materials': 5290, 'restricts': 5291, 'eight': 5292, 'operationcompleted': 5293, 'contrary': 5294, \"game'son\": 5295, '1min': 5296, 'fr': 5297, 'chick': 5298, 'dma': 5299, 'violation': 5300, 'usbxhci': 5301, 'becase': 5302, 'emitter': 5303, '48k': 5304, 'directsound': 5305, 'spacenavigator': 5306, 'connexion': 5307, 'citrix': 5308, 'hp': 5309, 'decade': 5310, 'cad': 5311, 'revealing': 5312, 'upn': 5313, 'thumbnails': 5314, 'invalidcastexception': 5315, 'virtualizers': 5316, '10kb': 5317, 'starbucks': 5318, 'telling': 5319, 'casher': 5320, 'coffee': 5321, 'mapstyle': 5322, 'regime': 5323, 'monkey': 5324, 'introduction': 5325, 'utilises': 5326, 'marking': 5327, 'cl': 5328, 'md': 5329, 'webauthenticationbroker': 5330, 'clone': 5331, 'consultant': 5332, 'annoy': 5333, 'subtract': 5334, 'clamp': 5335, 'unicode': 5336, 'undergo': 5337, 'allegedly': 5338, 'headway': 5339, 'vie': 5340, 'digit': 5341, 'son': 5342, 'apologize': 5343, 'tends': 5344, 'stall': 5345, 'unlikely': 5346, 'maldives': 5347, 'aure': 5348, 'vive': 5349, 'gbs': 5350, 'bloat': 5351, 'crezy': 5352, 'puchasing': 5353, 'cloudbooks': 5354, 'shine': 5355, 'empower': 5356, 'embrace': 5357, 'misreably': 5358, '7816': 5359, 'danm': 5360, 'pcsc': 5361, 'apdu': 5362, 'cconnect': 5363, 'sais': 5364, 'ltsb': 5365, 'tend': 5366, 'getpage': 5367, 'uint32': 5368, 'pdfpage': 5369, 'rendertostreamasync': 5370, 'irandomaccessstream': 5371, 'outputstream': 5372, 'lates': 5373, 'as8075': 5374, 'cc708605': 5375, 'ws': 5376, 'technet': 5377, '27ded2ad': 5378, 'cc85': 5379, '4c0a': 5380, '9b41': 5381, 'c6b469a20aab': 5382, 'allocation': 5383, 'imbalance': 5384, 'issued': 5385, 'protect': 5386, 'modification': 5387, 'icommand': 5388, 'wcm9999': 5389, 'demand': 5390, \"display's\": 5391, 'helpers': 5392, 'pulls': 5393, '248': 5394, '04': 5395, 'ole': 5396, 'kgekwjewfmowuzrb': 5397, 'exposing': 5398, 'specialises': 5399, 'counterproductive': 5400, 'vibrant': 5401, 'hugely': 5402, 'sandboxing': 5403, 'codegeneration': 5404, '850': 5405, 'citizen': 5406, 'cheering': 5407, 'nonsense': 5408, 'alex141': 5409, 'excludepaths': 5410, 'wildcards': 5411, 'filename': 5412, 'distinguishing': 5413, 'sadly': 5414, 'singular': 5415, 'autostart': 5416, '09dd8d3e': 5417, '7b36': 5418, '45d1': 5419, '9181': 5420, '6587dd5d53ab': 5421, 'octet': 5422, 'belongs': 5423, 'tooo': 5424, 'signify': 5425, 'recommendations': 5426, 'adaptivegridview': 5427, 'filterdescriptor': 5428, 'descriptor': 5429, 'tht': 5430, 'stringtimeint': 5431, 'condition': 5432, 'startswith': 5433, 'endswith': 5434, 'privileges': 5435, 'viruses': 5436, 'unfocused': 5437, 'validated': 5438, 'indicated': 5439, 'diminished': 5440, 'riddled': 5441, 'sqlserver': 5442, '6187a2cc': 5443, '2683': 5444, '4b15': 5445, 'b1e6': 5446, 'd90f3703ad0b': 5447, 'emailmanager': 5448, 'prof': 5449, 'noted': 5450, 'dismissed': 5451, 'findallbyresource': 5452, 'comexception': 5453, 'minimization': 5454, '17025': 5455, '17061': 5456, 'buttonevent': 5457, \"control's\": 5458, 'republic': 5459, 'programmists': 5460, \"window's\": 5461, 'intrinsically': 5462, 'objective': 5463, 'dcfever': 5464, '1620': 5465, 'executablepath': 5466, 'appsfolder': 5467, 'appusermodelid': 5468, 'desktopbridge': 5469, 'appinfo': 5470, 'protextedtext': 5471, 'modifiable': 5472, \"rotatortile's\": 5473, 'flipview': 5474, 'compass': 5475, 'century': 5476, 'god': 5477, 'enters': 5478, 'commas': 5479, 'stlye': 5480, 'sup': 5481, 'planet': 5482, 'curiously': 5483, 'squished': 5484, '1280x720': 5485, 'sane': 5486, 'iteminvoked': 5487, 'budgeting': 5488, 'centric': 5489, 'menuflyoutsubitem': 5490, 'subitems': 5491, 'coreutils': 5492, 'preparing': 5493, 'vfs0': 5494, 'ismatch': 5495, \"pdacl'\": 5496, \"'pdacl\": 5497, \"'newacl'\": 5498, \"'aclsize'\": 5499, 'neo': 5500, 'stations': 5501, 'orbits': 5502, 'orbital': 5503, 'coreapplication': 5504, 'requestrestartasync': 5505, 'notinforeground': 5506, 'collapsing': 5507, 'stepforwardoneframe': 5508, 'stepbackoneframe': 5509, '17800': 5510, 'clipping': 5511, 'cisco': 5512, 'anyconnect': 5513, 'looses': 5514, 'incidents': 5515, '117111417156306': 5516, 'windowsserver': 5517, '3142497': 5518, 'architectural': 5519, 'possibile': 5520, 'lives': 5521, '0x80004002': 5522, 'winzip': 5523, 'minconnectioninterval': 5524, 'maxconnectioninterval': 5525, 'slavelatency': 5526, 'supervisory': 5527, 'compendium': 5528, 'rolled': 5529, 'joke': 5530, 'anybody': 5531, 'differ': 5532, 'getpropertiesasync': 5533, 'indexed': 5534, 'indexing': 5535, 'imageproperties': 5536, 'tooltipservice': 5537, 'boom': 5538, 'sooo': 5539, 'inkcanvas': 5540, 'pulltorefresh': 5541, 'slidablelistitem': 5542, 'traced': 5543, 'connectasync': 5544, 'reverted': 5545, 'numericupdowncontrol': 5546, 'appextension': 5547, 'trusting': 5548, 'presence': 5549, 'overrides': 5550, 'manifests': 5551, 'reaches': 5552, 'inputscopes': 5553, 'honored': 5554, 'playbacksession': 5555, 'playbackstatechanged': 5556, 'softwarebitmapsource': 5557, 'preloading': 5558, 'gc': 5559, 'communities': 5560, 'learner': 5561, 'appframe': 5562, 'piling': 5563, 'military': 5564, 'dominate': 5565, 'aqt0pafuiw04htwcfjitfi7intxl5a': 5566, 'incomplete': 5567, 'aqt0pafuiw04htwdhtsgx38pfkcweq': 5568, 'suddenly': 5569, 'covering': 5570, 'debugged': 5571, 'hacky': 5572, 'fiddling': 5573, 'arround': 5574, 'mediastreamdescriptors': 5575, 'subtitles': 5576, 'vmware': 5577, 'spacing': 5578, '2359006': 5579, 'brightnessoverride': 5580, 'fragmented': 5581, 'wwdc2016': 5582, '504': 5583, 'wwdc': 5584, 'datatype': 5585, 'localstatus': 5586, 'poco': 5587, '1mb': 5588, 'accelerates': 5589, '250': 5590, 'speeding': 5591, 'attracts': 5592, 'discussing': 5593, 'previews': 5594, 'selecteddateschanged': 5595, 'severe': 5596, 'particles': 5597, 'meshes': 5598, 'ordered': 5599, '239': 5600, 'yeah': 5601, 'saturday': 5602, 'monday': 5603, 'xamlbottomuplist': 5604, 'lockdown': 5605, 'eq': 5606, \"sample's\": 5607, 'echoeffect': 5608, 'heavier': 5609, 'intermittently': 5610, 'occasions': 5611, 'lowered': 5612, 'treeviews': 5613, 'vendorid': 5614, 'zebra': 5615, 'printers': 5616, 'beacon': 5617, 'btle': 5618, 'payloads': 5619, 'preferredlaunchwindowingmode': 5620, 'david': 5621, '500x320': 5622, 'lumias': 5623, 'brazilians': 5624, 'windows10sinstaller5932': 5625, 'directmanipulationcompleted': 5626, 'finishes': 5627, 'lifts': 5628, 'hinders': 5629, 'lostfocus': 5630, 'blogpost': 5631, 'updatetask': 5632, 'preconfigurationtask': 5633, 'crt': 5634, 'vc': 5635, 'vcruntime': 5636, 'carouselpanel': 5637, 'notificationextensions': 5638, 'figuring': 5639, 'multilingual': 5640, 'unfriendly': 5641, 'nv12': 5642, 'gray8': 5643, 'chang': 5644, 'trysetviewasync': 5645, \"building's\": 5646, 'altitudereferencesystem': 5647, 'acquisition': 5648, 'csv': 5649, \"imageex's\": 5650, 'stage': 5651, 'developinng': 5652, 'agreement': 5653, 'ecdsa': 5654, 'elliptic': 5655, 'ncryptcreatepersistedkey': 5656, 'ncrypt': 5657, 'p256': 5658, 'explained': 5659, 'asymmetricalgorithmnames': 5660, 'fastobservablecollection': 5661, 'ab': 5662, '1066': 5663, 'notifycollectionchangedeventargs': 5664, 'documentated': 5665, 'mature': 5666, 'wrapped': 5667, 'shipping': 5668, \"'master'\": 5669, 'federation': 5670, 'happily': 5671, 'locator': 5672, 'ssds': 5673, 'processors': 5674, 'forther': 5675, 'norm': 5676, 'finguer': 5677, 'jose': 5678, 'lopes': 5679, 'detects': 5680, 'finguers': 5681, 'measureoverride': 5682, 'srgs': 5683, 'websockets': 5684, '443': 5685, '10ms': 5686, 'flyouts': 5687, 'captures': 5688, 'discord': 5689, 'doubly': 5690, 'flavor': 5691, 'calenderidentifier': 5692, 'ramadan': 5693, 'shaban': 5694, 'itâ\\x80¦': 5695, 'deprecated': 5696, '950': 5697, 'snorm': 5698, 'seven': 5699, 'bi': 5700, 'nvidia': 5701, 'ofâ\\x80¦': 5702, 'draws': 5703, 'borders': 5704, 'mapelements': 5705, 'packagedcomserver': 5706, 'portions': 5707, 'vs2015': 5708, 'clockwise': 5709, 'pipeline': 5710, 'multiselectmodel': 5711, 'andâ\\x80¦': 5712, 'constructors': 5713, 'breakdown': 5714, 'markdowntextblock': 5715, 'fenced': 5716, 'blocks': 5717, 'abstract': 5718, 'colored': 5719, 'hex': 5720, 'asset': 5721, 'symbol': 5722, '10240': 5723, 'selectedranges': 5724, 'abruptly': 5725, 'payments': 5726, 'latency': 5727, 'awaitable': 5728, 'math': 5729, 'promoted': 5730, 'solely': 5731, 'crashed': 5732, 'lightweight': 5733, '2day': 5734, 'inspiration': 5735, 'tabcontrol': 5736, 'itâ\\x80\\x99s': 5737, 'hierarchical': 5738, 'hierarchicaldatatemplate': 5739, 'dragdrop': 5740, 'adcontrol': 5741, 'minimise': 5742, 'programatically': 5743, 'labels': 5744, 'visualizations': 5745, 'alphabetic': 5746, 'sick': 5747, 'touchscreen': 5748, 'td': 5749, 'durable': 5750, 'transcode': 5751, 'iâ\\x80\\x99m': 5752, 'verbs': 5753, 'loosing': 5754, 'unaware': 5755, 'represented': 5756, 'flac': 5757, 'onkeydown': 5758, 'loopmidi': 5759, 'cx': 5760, 'uielement': 5761, 'virtualkey': 5762, 'directorynotfoundexception': 5763, 'installers': 5764, 'vlc': 5765, 'kills': 5766, 'inspector': 5767, 'cobata': 5768, 'httperr': 5769, 'virtually': 5770, 'controllable': 5771, 'xd': 5772, 'belive': 5773, 'converters': 5774, 'mb': 5775, 'ranges': 5776, 'animate': 5777, 'fetched': 5778, 'rapidly': 5779, 'frameoutputnode': 5780, 'opus': 5781, 'granular': 5782, 'nullable': 5783, 'installer': 5784, 'userâ\\x80\\x99s': 5785, 'piping': 5786, 'torch': 5787, 'phraselist': 5788, 'storyboard': 5789, 'launchfolderasync': 5790, 'rs2': 5791, 'shapefile': 5792, 'consent': 5793, 'suite': 5794, 'internally': 5795, '“formatmessage”': 5796, 'isloading': 5797, 'quoted': 5798, 'sink': 5799, 'modal': 5800, 'cmdlet': 5801, 'bower': 5802, 'xinput': 5803, 'revert': 5804, 'prompts': 5805, 'credits': 5806, 'idisposable': 5807, 'tiled': 5808, 'datacontext': 5809, 'createstreamedfileasync': 5810, 'uniformgrid': 5811, 'applicationviewwindowingmode': 5812, 'startscreen': 5813, 'unexpected': 5814, 'windowsfindby': 5815, 'emoji': 5816, 'mistakenly': 5817, 'ho': 5818, 'finito': 5819, 'unrecognized': 5820, 'sony': 5821, 'sleep': 5822, 'civil': 5823, 'structural': 5824, 'adaptation': 5825, 'theres': 5826, 'gdr': 5827, 'walls': 5828, 'simplicity': 5829, 'tilemode': 5830, 'bb5aa859': 5831, 'e3d1': 5832, '46f2': 5833, 'a661': 5834, 'd4bdbee9a1f2': 5835, 'windowsuixamlmediaimagebrush': 5836, 'winappswithcsharp': 5837, 'widebackcontent': 5838, 'ioexception': 5839, 'establishing': 5840, 'importantdates': 5841, '0004': 5842, 'publicly': 5843, '3743880': 5844, 'smsreceived': 5845, 'phonereveived': 5846, 'zindex': 5847, 'ablity': 5848, 'cortanan': 5849, 'liveauthclient': 5850, 'liveconnectsessionstatus': 5851, 'liveconnectclient': 5852, 'getasync': 5853, 'medata': 5854, 'liveauthexception': 5855, 'liveconnectexception': 5856, 'recover': 5857, 'hoello': 5858, 'tunes': 5859, 'hastilly': 5860, 'realised': 5861, 'killed': 5862, '6080912': 5863, 'mcd': 5864, 'claims': 5865, 'bolder': 5866, '2c0cbd51': 5867, 'ae37': 5868, '4ab7': 5869, 'a3e4': 5870, '7e1d7cce8643': 5871, 'bold': 5872, 'deceptive': 5873, 'chipset': 5874, 'supremely': 5875, 'sh': 5876, 'usercontrols': 5877, 'settingsflyouts': 5878, 'likewise': 5879, 'measures': 5880, 'achieves': 5881, 'wished': 5882, 'podacasts': 5883, 'inaudibly': 5884, 'flashlight': 5885, 'effortlessly': 5886, 'phonedarkthemevisibility': 5887, 'phonebackgroundbrush': 5888, 'clickable': 5889, '2ebba203': 5890, 'dae1': 5891, '409e': 5892, '940e': 5893, '14e33b422a21': 5894, 'equally': 5895, 'ing': 5896, '37ac0ed7': 5897, '1884': 5898, '4251': 5899, '9914': 5900, '07fae6467b98': 5901, 'wp8libflac': 5902, 'county': 5903, 'indonesia': 5904, 'receipts': 5905, 'deducted': 5906, 'chile': 5907, 'colombia': 5908, 'costa': 5909, 'rica': 5910, 'malaysia': 5911, 'mexico': 5912, 'peru': 5913, 'collaborate': 5914, 'unleash': 5915, 'setsourceasync': 5916, '960x1280': 5917, 'shoud': 5918, '4915200': 5919, 'tuners': 5920, 'extends': 5921, 'selectionmode': 5922, 'isitemclickenabled': 5923, 'csvlist': 5924, 'borderthickness': 5925, 'borderbrush': 5926, 'subheadertextblockstyle': 5927, 'targettype': 5928, 'listviewitem': 5929, 'horizontalcontentalignment': 5930, 'hubsection': 5931, 'acutally': 5932, 'langauge': 5933, \"hub's\": 5934, \"'what's\": 5935, \"new'\": 5936, 'socialintegration': 5937, 'measured': 5938, 'storeapp': 5939, 'appstudio': 5940, 'anycpu': 5941, 'isvisible': 5942, 'killer': 5943, 'picasa': 5944, 'pickers': 5945, 'mentality': 5946, 'increbible': 5947, 'whistle': 5948, 'clap': 5949, 'preseted': 5950, 'tiny': 5951, 'outline': 5952, 'lettering': 5953, 'sideways': 5954, 'isstaggeringenabled': 5955, 'isstaggerelement': 5956, 'commonnavigationinfo': 5957, 'pixelated': 5958, 'pirated': 5959, 'misleading': 5960, 'promotions': 5961, 'misses': 5962, 'stripe': 5963, 'deals': 5964, \"april'\": 5965, \"nokia's\": 5966, 'getfilefromapplicationuriasync': 5967, 'fileio': 5968, 'readbufferasync': 5969, 'cryptographicbuffer': 5970, 'encodetobase64string': 5971, 'importpfxdataasync': 5972, 'exportoption': 5973, 'notexportable': 5974, 'keyprotectionlevel': 5975, 'noconsent': 5976, 'installoptions': 5977, 'omitted': 5978, 'httpclient': 5979, 'wifis': 5980, '610': 5981, 'approaching': 5982, 'payoneer': 5983, 'earnings': 5984, 'nd': 5985, 'grip': 5986, 'lg': 5987, 'g2': 5988, 'xperia': 5989, 'z1': 5990, 'snapdragon': 5991, '4k': 5992, 'id2d1factory': 5993, 'createwicbitmaprendertarget': 5994, 'hq': 5995, 'kmdf': 5996, 'oems': 5997, 'guarding': 5998, 'penetrating': 5999, 'approval': 6000, 'blazing': 6001, 'benchmarked': 6002, 'accountable': 6003, 'frozes': 6004, \"work's\": 6005, '5225': 6006, 'observations': 6007, 'cells': 6008, 'mutes': 6009, 'weirdly': 6010, \"'error\": 6011, 'restores': 6012, 'marginally': 6013, \"mno's\": 6014, 'detecting': 6015, 'tethering': 6016, 'nanosim': 6017, 'reseating': 6018, 'amke': 6019, 'alan': 6020, 'ingest': 6021, 'itunes': 6022, 'languagesutilities': 6023, 'conceptual': 6024, 'itunesconnect': 6025, \"'starter\": 6026, \"template'\": 6027, 'placeholder': 6028, 'filenames': 6029, 'tweak': 6030, 'treatment': 6031, 'dpe': 6032, 'east': 6033, 'favoritism': 6034, 'judging': 6035, 'friendship': 6036, 'merits': 6037, 'nepotistic': 6038, 'urge': 6039, 'hyperlinked': 6040, 'flagged': 6041, 'todays': 6042, 'criminal': 6043, 'spy': 6044, 'flagging': 6045, 'prying': 6046, 'erase': 6047, 'overwriting': 6048, 'bits': 6049, 'enforce': 6050, 'unabstract': 6051, 'coll': 6052, 'sliverlight8': 6053, 'hate': 6054, 'gridviews': 6055, 'integer': 6056, 'maxnumberofcolumns': 6057, 'gridviewitems': 6058, 'bb10': 6059, 'openable': 6060, 'unrolling': 6061, 'notif': 6062, 'webapps': 6063, 'whats': 6064, 'desktopbrowser': 6065, 'voor': 6066, 'retaining': 6067, 'ownership': 6068, 'logistically': 6069, 'transferable': 6070, 'copyfolderasync': 6071, '7aeb4791': 6072, '3f5b': 6073, '4e18': 6074, '93be': 6075, '0b6191cf6b72': 6076, 'storagefoldercopyfolder': 6077, '3051': 6078, '4000': 6079, '1345': 6080, '1003': 6081, '0407': 6082, 'soc': 6083, '8960': 6084, 'amreading': 6085, 'corespondence': 6086, \"all's\": 6087, 'dejan': 6088, 'credibility': 6089, 'applying': 6090, 'thru': 6091, 'firm': 6092, 'copyandreplaceasync': 6093, 'copyasync': 6094, 'namely': 6095, 'grounds': 6096, 'mistakes': 6097, 'mismatch': 6098, 'yard': 6099, 'router': 6100, 'colorful': 6101, 'dialogue': 6102, 'misunderstanding': 6103, 'refuse': 6104, 'unbelievably': 6105, \"officer's\": 6106, 'escalation': 6107, 'refusing': 6108, 'adequate': 6109, 'strike': 6110, 'favourites': 6111, 'rock': 6112, 'pinchin': 6113, 'pinchout': 6114, 'cortina': 6115, 'localizationstring': 6116, 'harness': 6117, 'lazy': 6118, \"device's\": 6119, 'l920': 6120, 'ith': 6121, 'inactivity': 6122, 'terrifying': 6123, 'phenomenon': 6124, 'audios': 6125, 'interpret': 6126, 'numerous': 6127, \"'security'\": 6128, 'variants': 6129, 'locker': 6130, 'honouring': 6131, 'honoured': 6132, 'getpositionasync': 6133, 'gelocator': 6134, 'deliberate': 6135, \"'generating'\": 6136, 'acsending': 6137, 'creationtimestamp': 6138, 'acesending': 6139, 'logical': 6140, 'codebehind': 6141, 'unpopular': 6142, 'accountant': 6143, 'snail': 6144, 'leading': 6145, 'flashsms': 6146, \"how's\": 6147, 'stolen': 6148, 'herself': 6149, 'police': 6150, 'uncut': 6151, 'sometime': 6152, 'menues': 6153, 'denies': 6154, \"stardock's\": 6155, 'deskscapes': 6156, 'waterfall': 6157, 'wind': 6158, 'blowing': 6159, 'river': 6160, 'waterfalls': 6161, 'knowing': 6162, 'freezing': 6163, '200ms': 6164, 'tue': 6165, 'mishauliutin': 6166, 'mupdf': 6167, '625': 6168, 'aplicaci': 6169, 'oficial': 6170, 'telegram': 6171, 'existe': 6172, 'ya': 6173, 'comenzando': 6174, 'mucho': 6175, 'tuviera': 6176, 'oferta': 6177, 'mensajer': 6178, 'herramientas': 6179, 'tan': 6180, 'amplia': 6181, 'dem': 6182, 'seguramente': 6183, 'competencia': 6184, 'est': 6185, 'ingles': 6186, 'muchas': 6187, 'limitan': 6188, 'sus': 6189, 'capacidades': 6190, 'auditing': 6191, 'wpcentral': 6192, '235446': 6193, 'switzerland': 6194, 'austria': 6195, 'celebrate': 6196, 'outstanding': 6197, 'schedulednotification': 6198, 'endofmonth': 6199, 'yearly': 6200, 'quarter': 6201, \"'photos'\": 6202, 'dpf': 6203, 'navigational': 6204, 'combine': 6205, 'skds': 6206, 'misunderstandings': 6207, 'loyal': 6208, 'bepuphysics': 6209, 'worlds': 6210, 'optimal': 6211, 'codebases': 6212, 'suboptimal': 6213, 'denominator': 6214, 'crippling': 6215, 'motivations': 6216, 'sufficiently': 6217, 'justify': 6218, 'fallbacks': 6219, 'cortano': 6220, 'fiddle': 6221, 'compromise': 6222, 'alarmapplicationmanager': 6223, 'disruptive': 6224, 'circle': 6225, 'jj206987': 6226, 'bkmk': 6227, 'uriassociations': 6228, '700x599': 6229, '468kb': 6230, '700x700': 6231, 'transit': 6232, 'lengthy': 6233, \"show's\": 6234, 'forwarded': 6235, 'cod': 6236, 'nofificaiones': 6237, 'meego': 6238, 'guy': 6239, \"coudn't\": 6240, 'windowsphone8': 6241, 'î«\\x95': 6242, \"'reserved\": 6243, \"associations'\": 6244, 'jj207065': 6245, '8gb': 6246, 'stymied': 6247, 'draconian': 6248, 'man': 6249, '17741740': 6250, 'restricting': 6251, 'appliances': 6252, 'manufacturing': 6253, 'insist': 6254, 'spp': 6255, 'comming': 6256, 'shaders': 6257, 'inconvenience': 6258, 'producing': 6259, 'positioning': 6260, 'aera': 6261, 'ibeacon': 6262, 'recieve': 6263, 'meetings': 6264, 'activatedeventargsisapplicationinstancepreserved': 6265, 'disposed': 6266, 'tour': 6267, 'synchronising': 6268, \"uri's\": 6269, 'nabto': 6270, 'iinternetprotocol': 6271, 'batterymanager': 6272, \"'external'\": 6273, 'deadlines': 6274, 'fulfill': 6275, 'indicating': 6276, 'iso14443': 6277, 'smartcards': 6278, 'asides': 6279, 'arsenal': 6280, \"seller's\": 6281, 'instagrams': 6282, 'implied': 6283, 'cas': 6284, 'costatemete': 6285, 'standby': 6286, 'apk': 6287, 'forex': 6288, 'trading': 6289, 'elastic': 6290, \"website's\": 6291, 'lightbox': 6292, 'littlewoods': 6293, 'cluttering': 6294, 'declined': 6295, '2321588': 6296, 'snooze': 6297, 'navigationuri': 6298, 'scientific': 6299, 'proofs': 6300, 'fraction': 6301, '512': 6302, 'ios7': 6303, '800mhz': 6304, 'rom': 6305, '928': 6306, 'textindent': 6307, 'hacking': 6308, 'bulleting': 6309, 'numbering': 6310, 'numberstart': 6311, 'bullet': 6312, 'roman': 6313, 'numberflags': 6314, 'dottedlevels': 6315, 'numberlevel': 6316, 'musician': 6317, 'versioning': 6318, 'winphone': 6319, 'winpho8': 6320, 'stills': 6321, 'vanguardist': 6322, 'webcams': 6323, 'emulation': 6324, 'scalings': 6325, 'photosynth': 6326, 'tl': 6327, 'dr': 6328, 'chicken': 6329, 'egg': 6330, 'circumvented': 6331, 'randomized': 6332, 'dwindles': 6333, 'ten': 6334, 'considerable': 6335, 'rough': 6336, 'mend': 6337, 'flaws': 6338, 'cents': 6339, 'tones': 6340, 'cprog': 6341, 'baml': 6342, 'seller': 6343, 'dissatisfied': 6344, 'refund': 6345, 'examine': 6346, 'techniques': 6347, 'alias': 6348, 'aliases': 6349, 'preferable': 6350, 'certificatio': 6351, 'nprocess': 6352, 'multimedia': 6353, 'copyright': 6354, \"schouldn't\": 6355, \"today's\": 6356, 'identifier': 6357, 'rectangles': 6358, '100px': 6359, '200px': 6360, 'inherits': 6361, 'nicksnettravels': 6362, 'builttoroam': 6363, 'j2me': 6364, 'peerfinder': 6365, 'alternateidentities': 6366, 'gapless': 6367, 'aupport': 6368, 'unnstall': 6369, '3781612': 6370, 'muted': 6371, 'phonefontfamilysemibold': 6372, 'phonefontsizemedium': 6373, 'phonetextnormalstyle': 6374, 'medium': 6375, 'semibold': 6376, 'phonetextnormal': 6377, 'haciendo': 6378, '900': 6379, 'pueda': 6380, 'almacenamiento': 6381, 'masivo': 6382, 'cualquier': 6383, 'otro': 6384, 'devicestatus': 6385, 'accesible': 6386, 'thankful': 6387, 'wasteful': 6388, 'cameracapturetask': 6389, 'indirect': 6390, 'browserhttp': 6391, 'savevideo': 6392, 'uncomfortable': 6393, 'gode': 6394, 'toas': 6395, 'chargers': 6396, 'thick': 6397, 'centering': 6398, 'plate': 6399, 'visbility': 6400, 'inneficiency': 6401, 'throuth': 6402, 'backgroundtransferrequest': 6403, \"review's\": 6404, 'reward': 6405, 'carefully': 6406, 'abuses': 6407, 'scroller': 6408, 'interfere': 6409, 'teethering': 6410, 'conferencing': 6411, \"geolocator's\": 6412, 'statuschanged': 6413, 'cripples': 6414, 'owa': 6415, 'activesync': 6416, 'mailboxes': 6417, 'medical': 6418, 'apliances': 6419, 'innumerable': 6420, 'door': 6421, 'mlmidev': 6422, 'webcastcenter': 6423, 'mlm': 6424, 'idev': 6425, 'isml': 6426, 'aapl': 6427, 'bitgravity': 6428, 'retweet': 6429, 'rediculous': 6430, 'rigid': 6431, 'utilitap': 6432, 'icalendar': 6433, 'aslong': 6434, 'jan': 6435, 'patch': 6436, 'jogging': 6437, 'polyline': 6438, 'implements': 6439, 'inteface': 6440, 'uninstalling': 6441, 'replaces': 6442, 'assistant': 6443, 'theatres': 6444, 'shoe': 6445, 'netherlands': 6446, 'exploiting': 6447, 'stucked': 6448, '160': 6449, 'scalefactor': 6450, 'giant': 6451, 'pita': 6452, 'autoscaling': 6453, 'projector': 6454, 'pesky': 6455, '0x80043001': 6456, 'to17': 6457, 'synchronized': 6458, 'downloadprogress': 6459, 'metrotube': 6460, 'tube': 6461, 'circumstance': 6462, 'dinh': 6463, '47': 6464, '8810000': 6465, '77': 6466, '57': 6467, '62': 6468, '70': 6469, '87': 6470, '88': 6471, '0xffffffff': 6472, 'executing': 6473, 'flowing': 6474, 'weed': 6475, 'adress': 6476, 'kontakts': 6477, 'utorrentideas': 6478, '47263': 6479, 'c2': 6480, 'b5torrent': 6481, '3417415': 6482, 'dx': 6483, 'drawingsurfaces': 6484, 'proves': 6485, 'phonetoolkit': 6486, 'polygons': 6487, 'artistic': 6488, 'gifted': 6489, 'stylish': 6490, 'lat': 6491, 'drawn': 6492, 'mmsi': 6493, 'orange': 6494, 'cog': 6495, 'centerx': 6496, 'centery': 6497, 'illegally': 6498, 'favor': 6499, 'capitalising': 6500, 'corrects': 6501, 'apostrophe': 6502, 'comma': 6503, 'subsequently': 6504, 'recognise': 6505, 'connectionsettingstask': 6506, 'partiendo': 6507, 'nada': 6508, 'conectar': 6509, 'agrees': 6510, 'myownemailclient': 6511, 'rebind': 6512, 'serach': 6513, 'mydomain': 6514, 'smilies': 6515, 'dash': 6516, 'parentheses': 6517, 'retreive': 6518, 'mnc': 6519, 'lac': 6520, 'imsi': 6521, 'jerky': 6522, 'develope': 6523, 'physically': 6524, 'lucky': 6525, 'dies': 6526, 'endroid': 6527, 'pitorque': 6528, 'mistergoodcat': 6529, 'somethings': 6530, 'entend': 6531, 'tracert': 6532, 'inclined': 6533, 'crafted': 6534, 'srvice': 6535, 'thesmstextcodemsg': 6536, 'thesmsservicenumber': 6537, 'hanle': 6538, 'rebrand': 6539, 'purchaser': 6540, 'pushing': 6541, 'acknowledge': 6542, 'worrying': 6543, 'instructing': 6544, 'behaved': 6545, 'mouseleftbuttonup': 6546, 'panned': 6547, 'ro': 6548, 'decisions': 6549, 'drm': 6550, 'deploying': 6551, '26024506': 6552, 'brolen': 6553, 'geotrust': 6554, 'claimed': 6555, 'discouraged': 6556, 'binded': 6557, 'digitally': 6558, 'x509': 6559, 'facilidade': 6560, 'qualquer': 6561, 'toque': 6562, 'ncia': 6563, 'arquivos': 6564, 'necessidade': 6565, 'pois': 6566, 'culo': 6567, 'ter': 6568, 'programa': 6569, 'ruim': 6570, 'coisas': 6571, 'maneira': 6572, 'quero': 6573, 'tramp': 6574, \"wife's\": 6575, 'vagina': 6576, 'meetups': 6577, 'largest': 6578, \"'stocks'\": 6579, 'proving': 6580, 'grantaccountaccesstask': 6581, 'tidy': 6582, 'alphabetized': 6583, 'compensation': 6584, 'interoperability': 6585, 'buttom': 6586, 'gear': 6587, 'ipads': 6588, 'dissappointing': 6589, 'beeing': 6590, 'contemplations': 6591, 'quiten': 6592, 'interfaz': 6593, 'bien': 6594, 'desde': 6595, 'escritorio': 6596, 'pero': 6597, 'vil': 6598, '8107': 6599, 'restarurant': 6600, '1908267': 6601, 'incorrectly': 6602, 'trophy': 6603, 'bedside': 6604, 'darker': 6605, 'validatesonexceptions': 6606, 'deside': 6607, 'encoders': 6608, 'agile': 6609, 'cnet': 6610, '8301': 6611, '10805': 6612, '57429782': 6613, 'soundwave': 6614, 'skips': 6615, 'undesired': 6616, 'myappchooser': 6617, 'myapplauncher': 6618, 'playmusic': 6619, 'showfeed': 6620, 'choosers': 6621, 'owners': 6622, 'naturally': 6623, 'swf': 6624, 'renowned': 6625, 'discount': 6626, 'regulate': 6627, 'saturation': 6628, 'farm7': 6629, 'staticflickr': 6630, '6096': 6631, '7028831993': 6632, '5467feca35': 6633, 'picturehub': 6634, 'joe': 6635, 'impaired': 6636, 'sortable': 6637, 'observable': 6638, \"wan't\": 6639, 'australia': 6640, 'denmark': 6641, '20000': 6642, 'km': 6643, 'visited': 6644, 'sunglasses': 6645, 'town': 6646, 'darn': 6647, 'overlook': 6648, 'cheapest': 6649, 'siamo': 6650, 'indietro': 6651, 'rispetto': 6652, 'bingmapstask': 6653, 'paticular': 6654, 'resumes': 6655, 'irritating': 6656, 'ca': 6657, '613932': 6658, 'uncompilable': 6659, 'korea': 6660, 'agency': 6661, 'masses': 6662, 'dedicate': 6663, 'traded': 6664, 'demonstrations': 6665, 'organizational': 6666, 'nobtification': 6667, 'emerging': 6668, 'bts': 6669, 'rscp': 6670, 'cpich': 6671, 'ecno': 6672, 'pathloss': 6673, 'phonenumbers': 6674, 'jeans': 6675, 'popsup': 6676, 'twittercomposetask': 6677, 'asia': 6678, 'notificaction': 6679, 'listens': 6680, 'choosen': 6681, 'vizualizations': 6682, 'players': 6683, '1908309': 6684, \"'create\": 6685, \"playlist'\": 6686, 'focusatpoint': 6687, 'f12': 6688, 'intalling': 6689, 'flicks': 6690, 'gold': 6691, 'gamer': 6692, 'anytime': 6693, 'respects': 6694, 'innovation': 6695, 'questionable': 6696, 'undiscoverable': 6697, 'expanding': 6698, 'displace': 6699, 'crappy': 6700, '2616': 6701, 'newsgeek': 6702, 'train': 6703, 'hebrew': 6704, 'statuses': 6705, 'tables': 6706, 'equations': 6707, 'surround': 6708, 'pertinent': 6709, 'unknownerror': 6710, 'nameresolutionfailure': 6711, 'sendfailure': 6712, 'trustfailure': 6713, 'woops': 6714, 'protocolerror': 6715, 'repeatably': 6716, 'asci': 6717, 'telephone': 6718, 'voip': 6719, 'fido': 6720, 'stamp': 6721, 'maximumautomaticredirections': 6722, 'failes': 6723, 'nokias': 6724, 'correcting': 6725, 'becuase': 6726, 'hundred': 6727, 'resolves': 6728, 'dissapointing': 6729, 'motivated': 6730, 'ongoing': 6731, 'licensing': 6732, 'french': 6733, 'win7': 6734, 'jeff': 6735, \"wilcox'\": 6736, '4th': 6737, 'afaik': 6738, 'channel9': 6739, 'build2011': 6740, '827t': 6741, 'wpmarketplaceja': 6742, 'ccc0be72': 6743, '9eb9': 6744, '4853': 6745, '9aeb': 6746, 'e4bbdaf3aa87': 6747, '8ben': 6748, 'wp7updates': 6749, 'analyze': 6750, 'numericconstant': 6751, 'elegant': 6752, 'const': 6753, '173': 6754, 'neater': 6755, 'poi': 6756, 'ie9mobile': 6757, 'dull': 6758, 'distributes': 6759, 'arrange': 6760, 'fitt': 6761, 'ib': 6762, 'supposedly': 6763, 'objection': 6764, 'offence': 6765, 'mislead': 6766, 'underhanded': 6767, 'slip': 6768, 'ff941099': 6769, 'buried': 6770, 'lasts': 6771, 'backgroudaudioplayer': 6772, 'backgroundagent': 6773, 'medialibray': 6774, 'bap': 6775, 'predetermined': 6776, 'limitedplaylist': 6777, 'explicitally': 6778, 'smarter': 6779, 'functionallity': 6780, 'ä\\x89\\x8d': 6781, 'scans': 6782, 'significal': 6783, 'yves': 6784, 'vg': 6785, 'testcases': 6786, 'mobi': 6787, '4170587': 6788, '4272293': 6789, 'sbs': 6790, 'gel': 6791, 'demos': 6792, 'prototypes': 6793, 'unintelligibly': 6794, 'custommer': 6795, 'choise': 6796, 'stressing': 6797, 'stpid': 6798, 'keabord': 6799, 'dissapearing': 6800, '3110': 6801, 'sht': 6802, 'hyperlinks': 6803, 'mailto': 6804, 'alienating': 6805, 'triple': 6806, 'des': 6807, 'windows7': 6808, 'smartdevice': 6809, 'lan': 6810, '6000': 6811, '47156': 6812, '282405': 6813, 'xblig': 6814, 'witch': 6815, 'base64': 6816, 'scree': 6817, 'towarda': 6818, 'outer': 6819, 'onve': 6820, 'photograph': 6821, 'sudden': 6822, 'mutitasking': 6823, 'lice': 6824, 'quandp': 6825, 'fai': 6826, 'copia': 6827, 'frase': 6828, 'solito': 6829, 'quando': 6830, 'blocca': 6831, 'perde': 6832, 'memorizzazione': 6833, 'invece': 6834, 'proposta': 6835, 'sarebbe': 6836, 'farlo': 6837, 'memorizzare': 6838, 'anche': 6839, 'telefono': 6840, 'viene': 6841, 'bloccato': 6842, 'wasted': 6843, 'phonetextlargestyle': 6844, 'cryptic': 6845, 'wand': 6846, 'retyping': 6847, 'emailaddress': 6848, 'functinality': 6849, 'splashscreenimage': 6850, 'restaurant': 6851, 'silos': 6852, \"win8's\": 6853, 'charms': 6854, 'tiledata': 6855, 'analyse': 6856, 'wheter': 6857, 'activites': 6858, 'bottleneck': 6859, 'vorrei': 6860, 'collegarmi': 6861, 'mio': 6862, 'allways': 6863, 'gbk': 6864, 'mpeg4': 6865, 'wmv': 6866, 'filesink': 6867, 'redisplay': 6868, 'qas': 6869, 'operate': 6870, 'rendez': 6871, 'vous': 6872, 'engines': 6873, 'kakaotalk': 6874, 'beginjoingroup': 6875, 'onactivated': 6876, 'onnavigated': 6877, 'upgrage': 6878, 'timefull': 6879, 'delta': 6880, 'upgrades': 6881, 'ota': 6882, 'reserve': 6883, 'camare': 6884, 'peak': 6885, 'wp75': 6886, 'ss': 6887, 'livetiles': 6888, 'disclaimer': 6889, 'î\\x8d\\x95': 6890, 'abbility': 6891, \"shoudn't\": 6892, 'thx': 6893, 'filelink': 6894, 'conference': 6895, 'accellerated': 6896, 'conf': 6897, 'broadcaster': 6898, 'streamer': 6899, 'ipad2': 6900, 'acess': 6901, 'rent': 6902, 'uf': 6903, 'resco': 6904, 'spb': 6905, 'sbsh': 6906, 'ninjamp': 6907, 'tricky': 6908, 'finer': 6909, 'postcode': 6910, 'chevronwp7': 6911, 'yall': 6912, 'hardcore': 6913, 'plattforms': 6914, \"bing's\": 6915, 'sampling': 6916, 'mozart': 6917, '16000': 6918, 'hz': 6919, 'callhistory': 6920, 'goto': 6921, 'memo': 6922, 'personalizable': 6923, 'whereas': 6924, 'selectbox': 6925, 'publishment': 6926, 'xmpp': 6927, 'dose': 6928, 'sharedstoragefiles': 6929, 'isolatedstoragefiles': 6930, 'desharrapamientos': 6931, 'activetiles': 6932, 'automaticaly': 6933, 'screnn': 6934, 'nel': 6935, 'chatting': 6936, 'educational': 6937, 'abc': 6938, 'sings': 6939, 'intent': 6940, 'betting': 6941, 'growing': 6942, \"'job'\": 6943, 'advert': 6944, \"'please\": 6945, 'embarrasing': 6946, 'brandon': 6947, 'bloke': 6948, 'writter': 6949, 'touchdevelop': 6950, 'theyre': 6951, 'swamped': 6952, 'paradigms': 6953, 'prone': 6954, 'penny': 6955, 'reactivation': 6956, 'edutainment': 6957, '4u': 6958, \"'get\": 6959, \"page'\": 6960, \"'open\": 6961, \"tab'\": 6962, 'marketplache': 6963, 'fault': 6964, 'æ\\x8f\\x95': 6965, 'playable': 6966, 'beggining': 6967, 'copyrighted': 6968, 'hears': 6969, 'predictive': 6970, 'isheadset': 6971, 'hearing': 6972, 'air': 6973, 'weve': 6974, 'twist': 6975, 'smoedjn': 6976, 'deviantart': 6977, 'xb': 6978, '272670125': 6979, 'film': 6980, 'lense': 6981, 'charm': 6982, 'fuctionality': 6983, 'availlable': 6984, 'costomize': 6985, 'advenced': 6986, 'creat': 6987, 'plat': 6988, 'mirror': 6989, 'dell': 6990, 'venue': 6991, 'entertainment': 6992, 'commandparameter': 6993, 'hansfree': 6994, 'handsfree': 6995, 'serversided': 6996, 'disadvantages': 6997, 'pushpin': 6998, 'isolatedstoragefile': 6999, 'mole': 7000, 'tostrings': 7001, 'altough': 7002, 'acrobet': 7003, 'achieving': 7004, 'embedding': 7005, 'expereince': 7006, 'hugs': 7007, \"360's\": 7008, 'availiable': 7009, 'multiselectlist': 7010, 'destroys': 7011, 'codeproject': 7012, '299409': 7013, '96726': 7014, 'wife': 7015, 'zunes': 7016, 'audible': 7017, 'audiobooks': 7018, 'fold': 7019, 'wlan': 7020, 'wishing': 7021, 'musical': 7022, 'gray': 7023, 'jquerymobile': 7024, 'stifle': 7025, 'burgeoning': 7026, 'colineberhardt': 7027, 'touchstart': 7028, 'cribbs': 7029, \"sound's\": 7030, 'yalla': 7031, 'dubai': 7032, 'costly': 7033, 'commission': 7034, 'traveling': 7035, 'feet': 7036, 'activesong': 7037, 'populates': 7038, 'streamed': 7039, 'cron': 7040, 'jobs': 7041, \"'post'\": 7042, '10min': 7043, 'untangle': 7044, 'subversion': 7045, 'eclipse': 7046, 'netbeans': 7047, 'ide': 7048, 'cookie': 7049, 'resourceintensivetask': 7050, 'absurd': 7051, 'discretion': 7052, 'periods': 7053, 'vehicle': 7054, '2sec': 7055, 'batched': 7056, 'relies': 7057, 'solicitation': 7058, 'solicitor': 7059, 'unicast': 7060, 'archiving': 7061, 'enhancement': 7062, 'ç\\x89': 7063, 'textreadtoend': 7064, 'dictionaries': 7065, \"'freetext'\": 7066, 'rival': 7067, \"sqlite's\": 7068, 'apollo': 7069, 'toolsets': 7070, 'phonecalltask': 7071, 'wether': 7072, 'lab': 7073, 'nr': 7074, 'gifting': 7075, 'dabase': 7076, 'wpdt': 7077, 'vs2010': 7078, 'funny': 7079, 'notate': 7080, 'optin': 7081, 'qemu': 7082, 'mutual': 7083, 'uiwebview': 7084, 'serveral': 7085, 'webbrowsertask': 7086, '88705': 7087, '548248': 7088, 'inexpert': 7089, 'troubles': 7090, 'silverligh': 7091, 'windowsphone7series': 7092, '13665684': 7093, '6618': 7094, '43ed': 7095, 'a370': 7096, '018929d19df7': 7097, 'bs': 7098, 'nowadays': 7099, 'divert': 7100, 'hace': 7101, 'shield': 7102, 'gelolocations': 7103, 'coordinate': 7104, 'cheaply': 7105, 'moto': 7106, 'irs': 7107, 'portfolio': 7108, 'simbols': 7109, 'chunk': 7110, 'blanks': 7111, 'sharelinktask': 7112, 'segments': 7113, 'gradient': 7114, 'retrograde': 7115, 'unholy': 7116, \"system's\": 7117, 'ruthlessly': 7118, 'sticking': 7119, 'smsresult': 7120, 'exhibit': 7121, 'mytranspo': 7122, 'whatnot': 7123, 'rulz': 7124, 'flooding': 7125, 'certifications': 7126, 'curated': 7127, 'approved': 7128, 'consolidate': 7129, 'substantial': 7130, 'instinctively': 7131, 'confuse': 7132, 'unecessary': 7133, 'friction': 7134, 'portrait': 7135, 'viewport': 7136, '74377': 7137, '641068': 7138, 'authority': 7139, 'servicepointmanager': 7140, 'authorities': 7141, 'cacert': 7142, 'recur': 7143, \"site's\": 7144, 'midroll': 7145, 'advertisments': 7146, 'mediaelements': 7147, 'clumsy': 7148, 'aviation': 7149, 'aircraft': 7150, 'illegal': 7151, 'rural': 7152, 'aren': 7153, 'prerogative': 7154, 'steap': 7155, 'quicker': 7156, 'hobbyist': 7157, 'capabilty': 7158, 'vba': 7159, 'brick': 7160, 'webbased': 7161, 'oses': 7162, 'birds': 7163, 'relief': 7164, 'bothering': 7165, 'ideology': 7166, 'distinguish': 7167, 'blacklisting': 7168, 'rankings': 7169, 'addiction': 7170, 'vanished': 7171, 'trickery': 7172, 'prserve': 7173, '84673': 7174, 'defaultitem': 7175, 'rearranging': 7176, 'pano': 7177, 'reorder': 7178, 'unsuccessful': 7179, 'opportunities': 7180, 'sequencers': 7181, 'synths': 7182, 'interrupts': 7183, 'complain': 7184, 'applicationbariconbutton': 7185, \"'content'\": 7186, 'mpns': 7187, 'monotouch': 7188, 'monodroid': 7189, 'rewrite': 7190, 'migration': 7191, 'posibility': 7192, 'partners': 7193, 'leader': 7194, 'boards': 7195, 'splitting': 7196, 'blow': 7197, 'hobbled': 7198, 'oversight': 7199, 'relational': 7200, 'thier': 7201, \"sync'ed\": 7202, 'vnc': 7203, 'writepixels': 7204, \"'all\": 7205, \"'page\": 7206, \"filter'\": 7207, 'fightofthelenegs': 7208, 'visuall': 7209, 'detected': 7210, 'alleviate': 7211, 'affiliates': 7212, \"espn's\": 7213, 'bbc': 7214, 'cnn': 7215, 'fantasy': 7216, 'windowsmobile': 7217, 'h264': 7218, 'explore': 7219, 'tranfer': 7220, 'recipient': 7221, 'featuresuggestion': 7222, 'startet': 7223, 'positive': 7224, \"client's\": 7225, 'disponible': 7226, 'tedious': 7227, 'sandboxes': 7228, 'uac': 7229, 'facilities': 7230, 'referrer': 7231, 'nonexistence': 7232, 'artwork': 7233, 'playbooks': 7234, 'ibooks': 7235, 'inbuilt': 7236, 'onebooks': 7237, 'magazines': 7238, 'possoble': 7239, 'alter': 7240, 'resubmitting': 7241, 'spelling': 7242, 'screeshots': 7243, 'mice': 7244, 'developpers': 7245, 'm4v': 7246, '3gp': 7247, 'unkown': 7248, 'endpoints': 7249, 'inter': 7250, 'palm': 7251, \"pre's\": 7252, 'aid': 7253, '1080p': 7254, 'throug': 7255, 'logout': 7256, 'preferably': 7257, '121579': 7258, '7542181': 7259, 'promoting': 7260, 'solving': 7261, 'tryies': 7262, 'ibackgrountask': 7263, 'youtu': 7264, 'w9s7g': 7265, 'jcqq': 7266, 'cancels': 7267, 'ibacgroundtask': 7268, 'intensively': 7269, 'persian': 7270, 'farsi': 7271, 'et': 7272, 'broad': 7273, 'mt489008': 7274, 's4': 7275, 'x5iou28u5': 7276, 'recomended': 7277, '6tag': 7278, 'instragram': 7279, 'istragram': 7280, 'unofficial': 7281, 'xmlns': 7282, 'declarations': 7283, 'unwieldy': 7284, 'overpan': 7285, \"where's\": 7286, '50ms': 7287, 'extensively': 7288, 'districts': 7289, 'piggyback': 7290, 'probability': 7291, 'district': 7292, 'renderers': 7293, 'duplication': 7294, 'tweaking': 7295, 'isn': 7296, 'resistance': 7297, 'oddly': 7298, 'winappdeploycmd': 7299, '169': 7300, '254': 7301, 'ravichaganti': 7302, 'guest': 7303, 'ce23adc6': 7304, '53a0': 7305, '44c6': 7306, '8e75': 7307, '7b57a33ebe84': 7308, \"'devices'\": 7309, 'puzzles': 7310, 'crosswords': 7311, 'favours': 7312, 'catering': 7313, 'belief': 7314, 'adversely': 7315, 'effecting': 7316, 'intuitively': 7317, 'favouring': 7318, \"'facebook'\": 7319, \"'wordament'\": 7320, \"'crosswords'\": 7321, 'conversely': 7322, 'browses': 7323, '955ce7d3': 7324, '3828': 7325, '408a': 7326, '91ec': 7327, '352708f26f6d': 7328, 'emphasis': 7329, 'aero': 7330, '27fuxtm': 7331, 'diversify': 7332, 'qa': 7333, 'masked': 7334, 'safety': 7335, 'prohibits': 7336, 'semantics': 7337, 'sparingly': 7338, 'hood': 7339, 'psw': 7340, 'intrinsic': 7341, 'speculation': 7342, 'triggering': 7343, 'owned': 7344, 'unfixed': 7345, 'unpublish': 7346, 'logically': 7347, 'motivation': 7348, 'formulate': 7349, 'devoloper': 7350, \"is'nt\": 7351, 'variablesizedwrapgrid': 7352, 'hardwire': 7353, 'adaptable': 7354, 'narrower': 7355, 'clouds': 7356, 'astounding': 7357, 'powers': 7358, 'existence': 7359, 'panels': 7360, 'dn958439': 7361, '768': 7362, 'offical': 7363, 'emit': 7364, 'aaa': 7365, 'typo': 7366, 'patrick': 7367, 'batteryreport': 7368, 'milliwatt': 7369, 'resouces': 7370, 'lanner': 7371, 'baseline': 7372, 'finance': 7373, 'methodologies': 7374, \"ol'\": 7375, 'wins': 7376, 'ironically': 7377, 'differs': 7378, '11539755': 7379, 'recognizes': 7380, 'nonetheless': 7381, 'silverlight5': 7382, 'iprovidevaluetarget': 7383, 'inamescope': 7384, 'lese': 7385, 'handful': 7386, 'repackaged': 7387, 'unfair': 7388, 'cheapens': 7389, 'spammed': 7390, 'maajio': 7391, 'dopeware': 7392, 'labs': 7393, 'yemba': 7394, 'wamba': 7395, 'spamming': 7396, 'extraneous': 7397, 'drainage': 7398, 'smartcardprovisioning': 7399, 'retrieving': 7400, 'getter': 7401, 'modernized': 7402, \"'requestmessage\": 7403, \"transportinformation'\": 7404, 'exclusive': 7405, 'aztec': 7406, 'mediasinks': 7407, \"did'nt\": 7408, '9wzdncrdq7qp': 7409, 'clipbord': 7410, 'gif': 7411, 'basics': 7412, 'bootstrap': 7413, 'quickstart': 7414, 'mva': 7415, 'mile': 7416, 'experts': 7417, 'bluethoot': 7418, 'zoomlevel': 7419, 'tilelayers': 7420, 'firstly': 7421, 'rigorous': 7422, 'burns': 7423, 'thirdly': 7424, 'nightmares': 7425, 'departments': 7426, 'sand': 7427, 'boxed': 7428, 'organizations': 7429, 'stefano': 7430, 'montimoregi': 7431, 'registerreadonly': 7432, 'putlocker': 7433, 'loadfromfileasync': 7434, 'unspecified': 7435, 'diagnosis': 7436, \"pdf's\": 7437, 'commonplace': 7438, 'getdocumentpropertiesasync': 7439, 'documentproperties': 7440, 'dovrebbero': 7441, 'fare': 7442, 'sveglia': 7443, 'spegne': 7444, 'voce': 7445, 'earliest': 7446, 'noticable': 7447, 'dragged': 7448, 'delivering': 7449, 'sloppiness': 7450, 'replicated': 7451, 'disastrously': 7452, 'october': 7453, 'ef6': 7454, 'sqllite': 7455, 'dbs': 7456, 'shall': 7457, 'ef7': 7458, 'batch': 7459, \"provider's\": 7460, 'optimally': 7461, 'lol': 7462, 'i7': 7463, '2600k': 7464, '8g': 7465, '1tb': 7466, '100gb': 7467, '900gb': 7468, 'wsfb': 7469, 'unnecessarily': 7470, 'assemble': 7471, 'messes': 7472, 'threaded': 7473, '1017787': 7474, 'msdia120': 7475, 'zo': 7476, 'dbghlp': 7477, 'addhandler': 7478, 'dig': 7479, 'lays': 7480, \"there'll\": 7481, 'woefully': 7482, 'inadequate': 7483, 'renderings': 7484, 'cttm2rmjn': 7485, 'y27ak710j': 7486, '52cw47ieb': 7487, 'nok': 7488, 'grids': 7489, 'craziest': 7490, 'mismatches': 7491, 'righttoleft': 7492, 'lefttoright': 7493, 'mapcamera': 7494, 'actualcamera': 7495, 'viewprojection': 7496, 'matrix': 7497, 'downgrade': 7498, 'mfts': 7499, 'requestproductpurchaseasync': 7500, '10512': 7501, 'totaly': 7502, \"'suggestedstartlocation'\": 7503, 'saveas': 7504, \"'fileopenpicker\": 7505, \"directory'\": 7506, 'errormessage': 7507, 'nessesary': 7508, 'december': 7509, 'ttps': 7510, 'dn133849': 7511, 'hh974571': 7512, 'chatted': 7513, 'omg': 7514, 'nonsens': 7515, \"'apply\": 7516, \"filters'\": 7517, 'selections': 7518, 'spans': 7519, 'strikethrough': 7520, 'nesting': 7521, 'uicontainers': 7522, 'ruins': 7523, 'alignment': 7524, 'sl': 7525, 'dreamsparks': 7526, 'fees': 7527, 'cute': 7528, 'choosing': 7529, 'utter': 7530, 'thr': 7531, 'carriage': 7532, 'pt': 7533, 'geo': 7534, 'marker': 7535, 'uw': 7536, 'mundane': 7537, 'floodgates': 7538, 'laggy': 7539, 'organise': 7540, 'snapchat': 7541, \"'last\": 7542, \"'more\": 7543, \"from'\": 7544, \"'badges'\": 7545, 'honor': 7546, 'localstorage': 7547, 'bvi': 7548, 'doc': 7549, 'yspoxj': 7550, 'sway': 7551, 'explains': 7552, 'audiences': 7553, 'pcie': 7554, 'petiton': 7555, 'fullname': 7556, 'junk': 7557, 'autocompletebox': 7558, 'energysaverstatus': 7559, 'smth': 7560, 'storagelibrary': 7561, 'throught': 7562, 'mt210951': 7563, 'tvs': 7564, '33615542': 7565, 'lgofilegenerated': 7566, 'atttached': 7567, 'bridges': 7568, 'corecursor': 7569, 'rgba8': 7570, 'toolset': 7571, '523': 7572, 'd2913ad6': 7573, '6130': 7574, '45b6': 7575, '8a7f': 7576, '086ff7f04cff': 7577, 'discl': 7578, 'nowinkey': 7579, 'inhibits': 7580, 'pinvokes': 7581, 'recompile': 7582, 'yrs': 7583, 'screwed': 7584, 'reduction': 7585, 'crapped': 7586, 'ishittestvisible': 7587, 'mapholding': 7588, 'mapelementclick': 7589, 'rawpixelsperviewpixel': 7590, '481': 7591, '635': 7592, 'anoying': 7593, 'getoffsetforlocation': 7594, 'drawingcontext': 7595, 'drawline': 7596, 'fieldofview': 7597, 'radians': 7598, 'hoc': 7599, 'affairs': 7600, 'websql': 7601, 'recieves': 7602, 'translates': 7603, 'shouldbe': 7604, 'caches': 7605, 'validating': 7606, 'storesupport': 7607, '1pk2hvp': 7608, 'jaybo': 7609, 'nomad': 7610, '761009ed': 7611, '975f': 7612, '4995': 7613, 'b218': 7614, '2fca2572ae44': 7615, 'layers': 7616, 'bingmapswindows8': 7617, 'silvelight': 7618, 'xaps': 7619, 'donwloading': 7620, 'binaries': 7621, 'kiddie': 7622, 'decompile': 7623, 'famous': 7624, 'moqthis': 7625, 'nsubstitute': 7626, 'fakeiteasy': 7627, 'telerik': 7628, 'justmock': 7629, 'mocking': 7630, 'nmock3': 7631, 'nodejs': 7632, 'gyp': 7633, 'modules': 7634, '9nblggh0jrp2': 7635, 'appid': 7636, '98be467e': 7637, '47c2': 7638, '4aec': 7639, 'a506': 7640, '814c770d9bdf': 7641, 'foscam': 7642, 'onvif': 7643, 'jawa': 7644, 'autoshape': 7645, 'autoshapes': 7646, 'appbar': 7647, '33321971': 7648, '2681948': 7649, 'accesed': 7650, \"computer's\": 7651, 'suppress': 7652, 'beetwin': 7653, 'jj662932': 7654, 'possbile': 7655, 'variant': 7656, 'misused': 7657, 'httprequestmessage': 7658, 'httpresponsemessage': 7659, 'httpcontent': 7660, 'radialgradientbrush': 7661, 'subusers': 7662, 'earned': 7663, 'ban': 7664, 'banned': 7665, 'counts': 7666, 'quantity': 7667, 'outperform': 7668, '3\\r': 7669, '4\\r': 7670, 'pros': 7671, 'richness': 7672, 'shocked': 7673, 'lows': 7674, 'phonecallhistoryentry': 7675, 'utilization': 7676, 'bindingexpression': 7677, 'updatetarget': 7678, 'mil': 7679, 'relation': 7680, 'neighbors': 7681, 'coverage': 7682, 'dive': 7683, 'redesign': 7684, 'loves': 7685, 'outsourced': 7686, 'cleanness': 7687, 'continually': 7688, 'forgetting': 7689, 'arriving': 7690, 'parents': 7691, 'crossing': 7692, 'geofence': 7693, 'broadband': 7694, 'pavstar': 7695, 'downmixed': 7696, 'ton': 7697, 'throttling': 7698, 'dropouts': 7699, 'emulating': 7700, 'rig': 7701, 'getscheduledtoastnotifications': 7702, 'phonecallmanager': 7703, 'showphonecallui': 7704, 'mehtod': 7705, 'stylingandroid': 7706, 'shadows': 7707, 'shawnoster': 7708, 'dropshadow': 7709, 'ideia': 7710, 'consists': 7711, 'lauch': 7712, 'webcrypto': 7713, 'pkijs': 7714, 'roam': 7715, 'ksecattraccessiblewhenpasscodesetthisdeviceonly': 7716, 'passwordcredential': 7717, 'neighbouring': 7718, 'getfilesasync': 7719, '3500': 7720, 'interactivity': 7721, 'scaled': 7722, 'recoup': 7723, 'safely': 7724, 'lesser': 7725, 'proportionally': 7726, 'spawned': 7727, 'ref': 7728, 'somemessage': 7729, 'sometitle': 7730, 'braking': 7731, 'truth': 7732, 'otg': 7733, 'helpfulness': 7734, 'statistically': 7735, 'usefulness': 7736, 'human': 7737, 'rare': 7738, 'proprietary': 7739, 'willigers': 7740, 'ericwilligers': 7741, 'describe': 7742, 'interchange': 7743, 'lingua': 7744, 'franca': 7745, 'pebble': 7746, 'metawatch': 7747, 'enablement': 7748, 'layouts': 7749, 'swapchainpanel': 7750, 'layering': 7751, 'redeem': 7752, \"account's\": 7753, 'collaborative': 7754, 'intergate': 7755, 'lip': 7756, 'syncing': 7757, 'tou': 7758, 'talikng': 7759, 'westminster': 7760, 'appointmentstore': 7761, 'requeststoreasync': 7762, 'appointmentstoreaccesstype': 7763, 'appcalendarsreadwrite': 7764, 'getappointmentcalendarasync': 7765, 'findappointmentcalendarsasync': 7766, 'study': 7767, '10122': 7768, 'v10122': 7769, 'fbed754c': 7770, '7b40': 7771, '4760': 7772, 'b188': 7773, '487cbbca803c': 7774, 'writers': 7775, 'xen': 7776, 'trailer': 7777, 'plaisant': 7778, 'colorfull': 7779, 'graphically': 7780, 'tuned': 7781, 'geeks': 7782, 'yourselves': 7783, 'launchs': 7784, 'maximise': 7785, 'apologise': 7786, 'grabbing': 7787, 'boarders': 7788, '99999': 7789, 'starred': 7790, 'pubblication': 7791, 'definately': 7792, 'anonomosity': 7793, 'suport': 7794, 'haven': 7795, 'diabling': 7796, 'unpin': 7797, 'unpinned': 7798, \"life's\": 7799, 'mission': 7800, 'picked': 7801, 'reddit': 7802, 'periodical': 7803, 'branded': 7804, 'photoshop': 7805, 'articlecontent': 7806, 'nnw': 7807, 'marsedit': 7808, 'teslaunread': 7809, 'nova': 7810, 'teslacoil': 7811, '1x1': 7812, 'mimicking': 7813, 'ajnasz': 7814, 'hu': 7815, 'unreaded': 7816, '13a376u': 7817, 'tortoise': 7818, 'burt': 7819, 'webapp': 7820, 'bubbles': 7821, 'rudis': 7822, 'fluidapp': 7823, 'painless': 7824, 'mirroring': 7825, 'fazing': 7826, 'photosets': 7827, 'lion': 7828, 'spritzinc': 7829, 'spritzing': 7830, 'brain': 7831, 'spends': 7832, 'yammer': 7833, 'mercury': 7834, 'agreements': 7835, 'bitly': 7836, 'implore': 7837, 'feedreader': 7838, 'disconnect': 7839, 'amongst': 7840, 'mrreaderblog': 7841, 'curioustimes': 7842, '52060909928': 7843, 'seemed': 7844, 'jarring': 7845, 'feeling': 7846, 'getpocket': 7847, 'defaulting': 7848, 'dropdown': 7849, 'itselves': 7850, 'brakes': 7851, 'pushbullet': 7852, \"'share'\": 7853, 'addon': 7854, 'flipbook': 7855, 'unistalled': 7856, 'ohhh': 7857, 'nook': 7858, 'insecure': 7859, 'phished': 7860, 'intervals': 7861, 'soundcloud': 7862, 'externally': 7863, 'convient': 7864, 'suspect': 7865, 'quit': 7866, 'vk': 7867, 'dolphin': 7868, 'explaining': 7869, 'clarified': 7870, '2048': 7871, 'popout': 7872, 'readout': 7873, 'cba': 7874, 'utm': 7875, 'york': 7876, 'magazine': 7877, \"'subscription\": 7878, \"options'\": 7879, 'barriers': 7880, \"'cause\": 7881, 'soul': 7882, 'varying': 7883, 'regard': 7884, 'existed': 7885, 'speaking': 7886, 'trello': 7887, 'transparently': 7888, \"i'ts\": 7889, 'droping': 7890, 'gimme': 7891, \"instapaper's\": 7892, 'premium': 7893, 'sendtoreader': 7894, 'rearranged': 7895, 'rarely': 7896, \"who's\": 7897, 'linus': 7898, 'torvalds': 7899, 'plataform': 7900, 'prevalent': 7901, 'mobilizer': 7902, 'truncation': 7903, 'bloglines': 7904, 'discontinued': 7905, 'subscriber': 7906, 'nutshell': 7907, 'newsletters': 7908, 'newsletter': 7909, 'clog': 7910, 'mailinator': 7911, 'throwaway': 7912, 'strip': 7913, 'attachments': 7914, 'oembed': 7915, 'eagerly': 7916, 'grabs': 7917, 'acting': 7918, \"xkcd's\": 7919, 'googledrive': 7920, 'synology': 7921, 'cloudstation': 7922, 'usenet': 7923, 'newsgroup': 7924, 'comp': 7925, 'danoeh': 7926, 'cloudmagic': 7927, 'iexplore': 7928, 'blogrolls': 7929, 'ecc': 7930, 'reblog': 7931, 'folks': 7932, 'hashtags': 7933, 'tagged': 7934, 'feedpress': 7935, 'laborious': 7936, \"'saved'\": 7937, 'mouseless': 7938, 'vimperator': 7939, 'pentadactyl': 7940, 'emulated': 7941, 'divs': 7942, 'hrefs': 7943, 'distracting': 7944, 'instant': 7945, 'voila': 7946, 'clearest': 7947, 'matches': 7948, 'sender': 7949, \"'mark\": 7950, \"read'\": 7951, 'latex': 7952, 'greek': 7953, 'philosophical': 7954, 'grabbed': 7955, 'webstore': 7956, 'checker': 7957, 'lbmpmiibbncadgagnfcloaeilfhomemb': 7958, 'concert': 7959, 'scholarship': 7960, 'excelent': 7961, 'lodz': 7962, 'naszemiasto': 7963, 'pl': 7964, 'artykuly': 7965, 'prototypish': 7966, \"'donate'\": 7967, 'intransparent': 7968, 'donator': 7969, 'contributors': 7970, 'influencing': 7971, 'invent': 7972, \"safari's\": 7973, 'readling': 7974, 'mod': 7975, 'yonizaf': 7976, 'embeddes': 7977, 'sth': 7978, 'byline': 7979, 'commuters': 7980, 'diigo': 7981, 'slideshows': 7982, \"'watch\": 7983, \"later'\": 7984, 'scrollable': 7985, 'popovers': 7986, 'bubble': 7987, 'relates': 7988, 'formatted': 7989, 'parser': 7990, \"'preferred\": 7991, \"browser'\": 7992, 'newsblur': 7993, 'artificially': 7994, \"reader's\": 7995, \"newsblur's\": 7996, 'tokens': 7997, 'petition': 7998, 'mitigate': 7999, 'pinboard': 8000, 'extrension': 8001, 'annoys': 8002, 'staying': 8003, 'pleasant': 8004, 'rocks': 8005, 'honour': 8006, 'middleman': 8007, \"ain't\": 8008, 'embeds': 8009, 'disclosure': 8010, 'founder': 8011, 'guiding': 8012, 'rl': 8013, 'duckduckgo': 8014, 'redirects': 8015, 'pimpmysafari': 8016, 'unchecked': 8017, 'excerpt': 8018, 'readitlater': 8019, 'relate': 8020, 'bloglovin': 8021, \"ly's\": 8022, 'shortener': 8023, \"browsers'\": 8024, \"pocket's\": 8025, 'gread': 8026, 'batt': 8027, 'digg': 8028, 'mindsky': 8029, 'integrations': 8030, '6301': 8031, 'lookup': 8032, 'categorie': 8033, 'inserts': 8034, 'indigo': 8035, \"evernote's\": 8036, 'sits': 8037, 'movement': 8038, 'intelligently': 8039, 'reflow': 8040, 'googletalk': 8041, 'reactivated': 8042, 'entitled': 8043, 'articlecategories': 8044, 'newsbeuter': 8045, 'canonical': 8046, 'builtin': 8047, 'skim': 8048, 'leisure': 8049, 'lifehacker': 8050, 'spaceyspacelifeisneat': 8051, 'tagline': 8052, 'consistantly': 8053, 'adivertisement': 8054, 'vevo': 8055, '212445198787494': 8056, 'emi': 8057, 'ito': 8058, 'illustration': 8059, 'emiitoillustration': 8060, 'basecamp': 8061, 'huffduffer': 8062, 'audiofiles': 8063, 'depends': 8064, 'permits': 8065, 'cooperate': 8066, 'imo': 8067, 'pandora': 8068, 'dribbble': 8069, 'mechanisms': 8070, 'chroma': 8071, 'summly': 8072, 'wavii': 8073, 'wonderfull': 8074, \"'visit\": 8075, \"website'\": 8076, 'uuispcad': 8077, '6svnxgvivr': 8078, 'syva': 8079, 'europa': 8080, 'universalis': 8081, 'iv': 8082, 'yt': 8083, 'noone': 8084, \"google's\": 8085, 'reminded': 8086, 'aspects': 8087, \"flipboard's\": 8088, 'immensely': 8089, \"mac's\": 8090, 'screensaver': 8091, 'thumbs': 8092, 'thumb': 8093, 'disappointing': 8094, 'seemless': 8095, 'v15': 8096, \"shortcut's\": 8097, 'goldendict': 8098, 'artical': 8099, 'freezes': 8100, 'activating': 8101, 'denim': 8102, 'fan': 8103, 'blasted': 8104, 'alienate': 8105, 'redirecting': 8106, 'prey': 8107, 'thebugcast': 8108, 'plater': 8109, 'overheads': 8110, 'gtweetapp': 8111, 'appspot': 8112, 'techbargain': 8113, 'kara': 8114, 'wiznote': 8115, 'craiglist': 8116, 'awhile': 8117, 'identifies': 8118, 'dc': 8119, 'improving': 8120, \"sync's\": 8121, 'theoldreader': 8122, 'partnership': 8123, 'blogspot': 8124, 'toodledo': 8125, 'ios9': 8126, \"'done'\": 8127, 'hypothesis': 8128, 'prospective': 8129, 'employer': 8130, 'shareable': 8131, 'interview': 8132, \"facebook's\": 8133, 'depositing': 8134, 'perma': 8135, 'guestimate': 8136, 'devoted': 8137, \"adobe's\": 8138, 'pointemy': 8139, 'visitors': 8140, 'rockmelt': 8141, 'rockmel': 8142, 'invasion': 8143, \"'connect'\": 8144, 'reinstalled': 8145, 'outsidethenest': 8146, 'v16': 8147, 'v14': 8148, 'ziner': 8149, 'feedy': 8150, 'winning': 8151, 'battle': 8152, 'imports': 8153, 'flips': 8154, 'webages': 8155, 'advise': 8156, 'threw': 8157, 'gradually': 8158, \"tyson's\": 8159, 'ucdtnjowfqpgvk0fyoelyzrg': 8160, 'satisfaction': 8161, 'flows': 8162, 'bummer': 8163, 'announcement': 8164, 'vacuum': 8165, '1350': 8166, '10517': 8167, 'frameset': 8168, 'framesets': 8169, 'javadoc': 8170, 'oracle': 8171, 'javase': 8172, 'applet': 8173, 'appletcontext': 8174, 'getapplet': 8175, 'natural': 8176, 'countdown': 8177, 'thinks': 8178, 'radar': 8179, 'drone': 8180, 'expire': 8181, 'autorotation': 8182, 'degrades': 8183, 'hopeless': 8184, 'prefixes': 8185, 'antutu': 8186, 'minion': 8187, 'rush': 8188, 'kuenna': 8189, 'participation': 8190, 'coloured': 8191, 'loudspeaker': 8192, 'backgroundaudioplayer': 8193, 'longlistselector': 8194, 'lls': 8195, 'dimensional': 8196, 'guardar': 8197, 'funci': 8198, 'nica': 8199, 'pesar': 8200, 'tener': 8201, 'conexi': 8202, 'preserve': 8203, 'usages': 8204, 'parallel': 8205, 'linq': 8206, 'ssh': 8207, 'tuneling': 8208, 'diffused': 8209, 'ussd': 8210, 'avoir': 8211, 'restoration': 8212, 'finishing': 8213, 'talked': 8214, 'promotional': 8215, 'sceenshot': 8216, 'pngs': 8217, 'reasonably': 8218, 'wednesday': 8219, 'invariably': 8220, 'blurb': 8221, 'techs': 8222, 'subclass': 8223, 'absolutepositioning': 8224, 'honours': 8225, 'imposed': 8226, '1320': 8227, '80072f30': 8228, 'applr': 8229, 'earpods': 8230, 'collegue': 8231, 'lx': 8232, 'launcher8': 8233, 'summa': 8234, 'sumarum': 8235, 'geofences': 8236, '10328': 8237, 'level1': 8238, 'level2': 8239, 'estas': 8240, 'pantallas': 8241, 'mover': 8242, 'dedo': 8243, 'izquierda': 8244, 'derecha': 8245, 'tel': 8246, 'fono': 8247, 'actualmente': 8248, 'deslizar': 8249, 'otra': 8250, 'donde': 8251, 'lo': 8252, 'tenemos': 8253, 'pendiente': 8254, 'por': 8255, 'ejemplo': 8256, 'publicar': 8257, 'feliz': 8258, 'cumplea': 8259, 'cosas': 8260, 'nuestras': 8261, 'notificaciones': 8262, 'pubcentre': 8263, 'demonstrate': 8264, 'adversting': 8265, 'csp': 8266, 'anroid': 8267, 'coversion': 8268, 'checkout': 8269, 'companyapp': 8270, 'foo': 8271, 'pwd': 8272, 'connects': 8273, 'pkcs12': 8274, 'unhappy': 8275, 'unhide': 8276, \"manager's\": 8277, 'overhaul': 8278, 'outdoors': 8279, 'proven': 8280, 'ssrs': 8281, 'quest': 8282, 'avarage': 8283, 'firmly': 8284, 'rage': 8285, 'snapshot': 8286, 'countryside': 8287, 'cities': 8288, 'elaborate': 8289, 'imperative': 8290, 'wastes': 8291, 'believes': 8292, 'disallowed': 8293, 'gzipstream': 8294, 'decompress': 8295, 'shuffle': 8296, 'webos': 8297, 'stilted': 8298, 'blacklist': 8299, 'looping': 8300, 'expiring': 8301, \"'re\": 8302, \"initialized'\": 8303, 'expiry': 8304, 'gdr3': 8305, 'pitch': 8306, 'jj681688': 8307, 'xe5': 8308, 'embarcadero': 8309, 'lure': 8310, 'domains': 8311, 'andorid': 8312, 'captue': 8313, 'byod': 8314, 'begintime': 8315, 'distinct': 8316, 'billed': 8317, 'regroup': 8318, 'astronomy': 8319, 'biology': 8320, 'physics': 8321, 'bottle': 8322, 'chemistry': 8323, 'installations': 8324, 'prominently': 8325, 'trash': 8326, 'presentations': 8327, 'touchshow': 8328, 'rank': 8329, 'judge': 8330, 'effectiveness': 8331, 'dismiss': 8332, 'kid': 8333, 'ite': 8334, 'supposes': 8335, 'harm': 8336, 'xxx': 8337, 'thirdparty': 8338, 'capitol': 8339, 'capitols': 8340, 'soo': 8341, 'nerves': 8342, \"emulator'\": 8343, 'workspace': 8344, 'uv': 8345, '4328935': 8346, 'toggles': 8347, 'unmute': 8348, 'triaged': 8349, 'responded': 8350, 'commenters': 8351, 'professionals': 8352, 'pho': 8353, 'vista': 8354, 'ultimately': 8355, 'viber': 8356, 'oovoo': 8357, 'mixradio': 8358, 'pauses': 8359, 'clue': 8360, 'tilt': 8361, 'aggregation': 8362, 'supervisor': 8363, 'actively': 8364, 'simultaneously': 8365, 'dunaway': 8366, 'agreed': 8367, 'misreading': 8368, 'bachelors': 8369, 'offense': 8370, 'devicenetworkinformation': 8371, 'iswifienabled': 8372, 'independently': 8373, '096675a1': 8374, '1759': 8375, '4125': 8376, '9cd0': 8377, '0ac4e2eeb146': 8378, 'outdor': 8379, '27m': 8380, 'disiredaccuray': 8381, 'desiredaccuracyinmeters': 8382, 'daki': 8383, 'soccer': 8384, 'getirin': 8385, 'candy': 8386, 'crush': 8387, 'faithfully': 8388, 'clobbering': 8389, 'neon': 8390, 'sdk8': 8391, 'dominated': 8392, 'wp71': 8393, 'diacritics': 8394, 'multilanguage': 8395, '3652fab4': 8396, '1662': 8397, '42c8': 8398, '9d1e': 8399, 'bd8255083647': 8400, 'authorization': 8401, 'slate': 8402, 'norton': 8403, 'proceeded': 8404, 'operable': 8405, 'aplications': 8406, 'obstacle': 8407, 'expensive': 8408, '4p3ucr7o91uw0h5': 8409, 'pptx': 8410, '64bit': 8411, '4679540': 8412, 'transfering': 8413, 'delaying': 8414, 'win8phone': 8415, 'win8sharedsdktools': 8416, 'd715ca81': 8417, '7d15': 8418, '4de7': 8419, '8544': 8420, '3d6d79e318f1': 8421, 'win8sharedsdktoolsmsi': 8422, 'dup': 8423, 'vs2012': 8424, 'banking': 8425, 'suntrust': 8426, 'hepls': 8427, \"usa's\": 8428, 'expires': 8429, 'contributing': 8430, 'shortcuts': 8431, 'bright': 8432, 'caret': 8433, 'imprecise': 8434, 'confuses': 8435, \"he's\": 8436, 'glitch': 8437, 'perticuler': 8438, 'appslock': 8439, 'indefinitely': 8440, 'pager': 8441, 'alerting': 8442, 'chore': 8443, 'windowsshare': 8444, 'samba': 8445, 'frees': 8446, 'superior': 8447, 'hf': 8448, 'slk': 8449, 'transmitter': 8450, 'mx': 8451, 'aplicativos': 8452, 'em': 8453, 'portugu': 8454, 'bloqueio': 8455, 'chamadas': 8456, 'i44': 8457, 'tinypic': 8458, '2n0iy6s': 8459, 'f2': 8460, 'f7': 8461, 'weapon': 8462, 'f3': 8463, 'weapons': 8464, 'f4': 8465, 'fingerprint': 8466, 'customizing': 8467, 'larg': 8468, 'compleatly': 8469, 'awailable': 8470, 'zip64': 8471, 'normative': 8472, 'appnotes': 8473, 'pkware': 8474, 'interoperate': 8475, 'factors': 8476, 'measurements': 8477, 'packets': 8478, 'stopwatch': 8479, 'printercontroller': 8480, 'bixby': 8481, 'internationally': 8482, 'pd': 8483, 'doubletapped': 8484, 'rowdoubletapped': 8485, 'animatedheaderedtextbox': 8486, 'offiline': 8487, 'colorpicker': 8488, 'shutdown': 8489, 'importantly': 8490, 'proof': 8491, 'imho': 8492, 'isselected': 8493, 'selectnode': 8494, 'behaver': 8495, 'combines': 8496, 'nugut': 8497, \"store's\": 8498, \"'app\": 8499, \"review'\": 8500, \"'report\": 8501, \"developers'\": 8502, 'divided': 8503, 'iotcore': 8504, 'serialuart': 8505, 'breakpoint': 8506, 'readasync': 8507, 'pclcrypto': 8508, 'bin': 8509, '147': 8510, '53150': 8511, 'ã¨': 8512, 'fullpath': 8513, 'heightlines': 8514, 'acceptsreturn': 8515, 'weirld': 8516, 'scrollbars': 8517, 'auotmatically': 8518, 'exceeding': 8519, 'lineheight': 8520, 'fontsize': 8521, 'onward': 8522, 'instating': 8523, 'pinching': 8524, 'opensource': 8525, 'edits': 8526, 'preventkeyboarddisplayonprogrammaticfocus': 8527, 'volumetric': 8528, 'spatial': 8529, 'exclusion': 8530, \"50's\": 8531, 'iam': 8532, 'mother': 8533, 'unplug': 8534, '30s': 8535, 'folddown': 8536, 'webb': 8537, 'initialize': 8538, 'loginhint': 8539, 'param': 8540, 'plumb': 8541, 'getusertokenv2async': 8542, 'vendors': 8543, 'obtained': 8544, 'possiblity': 8545, 'readonlyspan': 8546, 'allocations': 8547, 'rename': 8548, 'winmm': 8549, 'prioritize': 8550, 'proportion': 8551, 'captureelement': 8552, 'assoc': 8553, 'appext': 8554, 'preferance': 8555, 'composed': 8556, 'pieces': 8557, 'stringent': 8558, 'hurting': 8559, 'draft': 8560, 'trysetwallpaperimageasync': 8561, \"'switch'\": 8562, 'contribut': 8563, 'schools': 8564, 'cloudbook': 8565, 'sketchup': 8566, 'heat': 8567, 'sensing': 8568, 'cope': 8569, 'communicates': 8570, 'hamstring': 8571, 'hooks': 8572, 'contol': 8573, 'disposing': 8574, 'asynchronous': 8575, 'expander': 8576, 'rtpmidi': 8577, 'achievable': 8578, 'virtualize': 8579, 'admirable': 8580, 'installâ\\x80¦': 8581, 'adapting': 8582, 'dgram': 8583, 'revocation': 8584, 'systempolicy': 8585, 'applicationclosing': 8586, 'applicationsuspended': 8587, 'build16299': 8588, 'outcomes': 8589, 'lookups': 8590, 'lcow': 8591, 'improvment': 8592, 'itemclick': 8593, 'markdowntextclock': 8594, 'linkcommand': 8595, 'linkclicked': 8596, 'textboxregex': 8597, 'letters': 8598, 'textboxmask': 8599, 'validationmode': 8600, 'overload': 8601, 'textproperty': 8602, 'aforementioned': 8603, 'participate': 8604, 'accessviolationexception': 8605, 'posible': 8606, 'keyframeanimations': 8607, 'scalarkeyframeanimations': 8608, 'makte': 8609, 'pausable': 8610, 'resumable': 8611, 'specialized': 8612, 'applicationcontenturirules': 8613, 'amlcurran': 8614, 'smilar': 8615, 'coreml': 8616, 'simlar': 8617, 'arkit': 8618, 'pivotitems': 8619, 'esent': 8620, 'jet': 8621, 'multiples': 8622, 'allaccountsreadwrite': 8623, 'userdataaccountstoreaccesstype': 8624, 'troubled': 8625, 'cvs': 8626, 'excell': 8627, 'interrogate': 8628, 'flippdfviewercontrol': 8629, 'toggled': 8630, \"dev's\": 8631, 'cr80': 8632, \"wasn't\": 8633, 'implicationsâ\\x80¦': 8634, 'msal': 8635, 'personalization': 8636, 'bitmapimage': 8637, 'elevate': 8638, 'reflecting': 8639, \"controls'\": 8640, 'areaâ\\x80¦': 8641, 'discoverability': 8642, 'allocated': 8643, 'overloaded': 8644, 'skipping': 8645, 'occluded': 8646, 'particle': 8647, 'setexceptionmode': 8648, 'introducing': 8649, 'sacrificing': 8650, 'keyframe': 8651, \"cam'on\": 8652, 'listviewex': 8653, 'eyedropper': 8654, 'expedited': 8655, 'maximised': 8656, 'directmanipulationcompleting': 8657, 'die': 8658, 'installationtask': 8659, 'tickoffset': 8660, 'withdrawal': 8661, 'lingual': 8662, 'imagesource': 8663, 'pixelformat': 8664, 'app1': 8665, 'kpi': 8666, 'selecte': 8667, 'wikipage': 8668, 'datetimepicker': 8669, 'referringtitle': 8670, 'headeredcontentcontrol': 8671, 'getpercentage': 8672, 'compleated': 8673, 'progessbar': 8674, 'newitems': 8675, 'interstitialad': 8676, 'listviewitems': 8677, 'viewstate': 8678, 'unselected': 8679, 'populated': 8680, 'xps': 8681, 'bthproco': 8682, 'l2cap': 8683, 'planschedule': 8684, 'sharedusercertificates': 8685, 'superscrollrama': 8686, 'deepzoom': 8687, 'installationupdate': 8688, 'obfuscated': 8689, 'boxthus': 8690, 'linuxwindows': 8691, 'onwards': 8692, 'createfolder': 8693, 'remotesystems': 8694, 'remotesystem': 8695, 'getcapabilitysupportedasync': 8696, 'statusfilter': 8697, 'remotelauncher': 8698, 'compressed': 8699, '4gb': 8700, 'conforming': 8701, 'softwares': 8702, \"'unzip'\": 8703, 'libarchive': 8704, 'libzip': 8705, '17711': 8706, 'appserviceconnection': 8707, 'openasync': 8708, \"'unknown\": 8709, '17713': 8710, 'thrones': 8711, 'frontal': 8712, 'seated': 8713, 'incompatibilities': 8714, 'coax': 8715, 'redstone': 8716, 'iterates': 8717, 'bundled': 8718, 'referenced': 8719, 'manipulationdelta': 8720, 'mdns': 8721, 'responds': 8722, 'previewing': 8723, 'offcourse': 8724, 'commandnotfoundexception': 8725, 'unavailable': 8726, 'israel': 8727, 'compliment': 8728, 'charactercasing': 8729, 'defaultbindmode': 8730, 'pursue': 8731, 'canâ\\x80\\x99t': 8732, '1458': 8733, 'exclamation': 8734, 'chains': 8735, 'functioning': 8736, 'asus': 8737, 'alexa': 8738, 'servicing': 8739, 'textblockviewhelpers': 8740, 'adjustpositionbycharactercount': 8741, 'curinlinelength': 8742, 'hastebin': 8743, 'legulilabu': 8744, 'oss': 8745, 'laptops': 8746, 'applicationviewmode': 8747, 'compactoverlay': 8748, \"datagridrows'\": 8749, '22790181': 8750, 'itemclicked': 8751, 'misbehaving': 8752, 'monkeyed': 8753, 'av': 8754, 'unsucceesful': 8755, 'cleaning': 8756, 'keeplastiteminview': 8757, 'odd': 8758, \"networks'\": 8759, \"devices'\": 8760, 'struggled': 8761, 'aims': 8762, 'zeroconf': 8763, '6763': 8764, 'ietf': 8765, 'rfc6763': 8766, 'avahi': 8767, \"i'veâ\\x80¦\": 8768, 'reflect': 8769, 'inadvertently': 8770, 'eats': 8771, 'srx1418420784id': 8772, 'srx1428283722id': 8773, 'flighting': 8774, 'segmentation': 8775, 'unused': 8776, 'eat': 8777, '4544c68c': 8778, '6026': 8779, '433b': 8780, 'be71': 8781, 'e662dd2f88e4': 8782, 'screws': 8783, 'blasts': 8784, 'metric': 8785, 'irritant': 8786, 'death': 8787, 'cuts': 8788, 'violates': 8789, 'expectations': 8790, 'doubling': 8791, '17120': 8792, 'cs1061': 8793, 'meg': 8794, 'gigs': 8795, 'humanity': 8796, '9ncbcszsjrsb': 8797, 'â\\x80\\x9c10': 8798, 'freezeâ\\x80\\x9d': 8799, 'appxbundleâ\\x80\\x9d': 8800, 'â\\x80\\x93': 8801, 'extracted': 8802, 'cer': 8803, 'contained': 8804, 'apppackages': 8805, 'appname': 8806, 'unter': 8807, 'roots': 8808, 'â\\x80\\x9d': 8809, 'appxuploadâ\\x80\\x9d': 8810, 'â\\x80\\x9cformatmessageâ\\x80\\x9d': 8811, 'releases': 8812, 'â\\x80\\x9cc': 8813, 'xmlâ\\x80\\x9d': 8814, 'formatmessage': 8815, 'testâ\\x80¦': 8816, \"'c\": 8817, 'stockmonitor': 8818, \"db'\": 8819, 'yury': 8820, 'shetov': 8821, 'yuryastv': 8822, 'havingâ\\x80¦': 8823, 'custommaptiledatasource': 8824, 'backgroundreplacement': 8825, 'flat': 8826, 'int32': 8827, \"'functions\": 8828, \"parameters'\": 8829, 'meâ\\x80¦': 8830, 'lands': 8831, 'asn': 8832, 'ipinfo': 8833, 'akami': 8834, 'ips': 8835, '5â\\x80¦': 8836, 'deviceâ\\x80¦': 8837, 'permitted': 8838, 'ancillary': 8839, 'mmap': 8840, 'thenâ\\x80¦': 8841, 'd3ddevice': 8842, 'admins': 8843, 'primaryâ\\x80¦': 8844, 'failsthe': 8845, 'desktopappconverter': 8846, 'insiderpreview': 8847, 'wim': 8848, 'rtm150715111607': 8849, 'locationglobber': 8850, 'ischildnameamatch': 8851, 'psobject': 8852, 'childobject': 8853, 'c6386': 8854, \"psacl'\": 8855, \"'psacl\": 8856, 'clippingâ\\x80¦': 8857, 'publicâ\\x80¦': 8858, 'supportedâ\\x80\\x9d': 8859, 'iniative': 8860, 'toâ\\x80¦': 8861, 'glad': 8862, 'recognised': 8863, 'standardâ\\x80¦': 8864, 'consumes': 8865, 'riverar': 8866, 'dragdropwobblyrepro': 8867, 'visuals': 8868, 'â\\x80\\x9cclean': 8869, 'uninstallâ\\x80\\x9d': 8870, 'wpfâ\\x80¦': 8871, 'whichâ\\x80¦': 8872, 'noâ\\x80¦': 8873, 'testsâ\\x80¦': 8874, 'orâ\\x80¦': 8875, 'forâ\\x80¦': 8876, 'skstorereviewcontroller': 8877, 'dock': 8878, 'golden': 8879, 'goldentao': 8880, 'rafael': 8881, 'rivera': 8882, 'helloï¼\\x8c': 8883, 'emailï¼\\x8c': 8884, 'acceptance': 8885, 'namespaces': 8886, 'qyplayer': 8887, 'schemas': 8888, 'restrictedcapabilities': 8889, 'isâ\\x80¦': 8890, 'donâ\\x80\\x98t': 8891, 'appbarbuttonrevealstyle': 8892, 'whit': 8893, 'defaultlabelposition': 8894, '15232': 8895, 'developercommunity': 8896, '76453': 8897, 'backgroun': 8898, 'pseudo': 8899, 'demonstrated': 8900, 'requestedtheme': 8901, 'explicity': 8902, 'grayish': 8903, 'makesâ\\x80¦': 8904, 'neglectedâ\\x80¦': 8905, 'blob': 8906, '8e11fda46dccb487787dc955a79b194c26ac15e0': 8907, 'l438': 8908, 'actionsâ\\x80¦': 8909, 'dialogâ\\x80¦': 8910, 'speechrecognizer': 8911, 'statechanged': 8912, 'â\\x80\\x9csoundendedâ\\x80\\x9d': 8913, 'resultgenerated': 8914, 'ispaneopen': 8915, 'calenderview': 8916, 'applicationview': 8917, 'tryenterfullscreenmode': 8918, 'prevented': 8919, 'matters': 8920, 'vod': 8921, 'directionalblureffect': 8922, 'nocomposition': 8923, 'uncompressed': 8924, 'maintaining': 8925, 'develpement': 8926, 'applciations': 8927, 'differnce': 8928, 'gonnabe': 8929, 'shoudl': 8930, 'bitmapicon': 8931, 'urisource': 8932, 'databinding': 8933, 'drew': 8934, 'rectangle': 8935, 'velocities': 8936, 'r8g8b8a8': 8937, 'timepicker': 8938, 'timepickerflyout': 8939, 'pm': 8940, 'contenttemplateselector': 8941, 'reproduction': 8942, 'direct3d': 8943, 'vulkan': 8944, 'metal': 8945, 'animator': 8946, 'svgs': 8947, 'playes': 8948, 'multitracks': 8949, 'backgroundtasks': 8950, 'mspoweruser': 8951, 'artice': 8952, 'streetnumber': 8953, 'maplocationfinder': 8954, 'findlocationsasync': 8955, 'formattedaddress': 8956, 'sine': 8957, 'briliantly': 8958, 'awfully': 8959, 'bmp': 8960, 'onfilesdropped': 8961, \"'file\": 8962, \"names'\": 8963, 'xy': 8964, 'myâ\\x80¦': 8965, 'tegration': 8966, 'slows': 8967, 'geforce': 8968, '650m': 8969, 'gt': 8970, 'april': 8971, 'backbuffer': 8972, 'fps': 8973, 'directx12': 8974, 'bc7': 8975, 'bc1': 8976, 'textures': 8977, 'astc': 8978, 'scrapped': 8979, 'relocated': 8980, 'storageapplicationpermissions': 8981, 'waves': 8982, 'compelling': 8983, '08': 8984, 'announcing': 8985, 'hql7ibqtugyzrufw': 8986, 'mappolygons': 8987, 'jagged': 8988, 'mappolylines': 8989, 'shifting': 8990, 'misplaced': 8991, 'cu': 8992, 'regsvr32': 8993, 'â\\x80\\x9cregister': 8994, 'outputâ\\x80\\x9d': 8995, 'desktopbridgetouwp': 8996, 'beforehand': 8997, 'justsystems': 8998, 'atok': 8999, 'goggle': 9000, 'scope': 9001, 'stringformatconverter': 9002, 'formatstingconverter': 9003, 'fashion': 9004, 'rep': 9005, 'insane': 9006, 'webproxy': 9007, 'launchfileasync': 9008, 'fledged': 9009, 'docking': 9010, 'mdi': 9011, 'colliding': 9012, 'guidance': 9013, 'guaranteed': 9014, 'mapelementcollisionbehavior': 9015, 'remainvisible': 9016, 'skeleton': 9017, 'mediaframesourcekind': 9018, 'exposurecontrol': 9019, 'dearly': 9020, 'setdata': 9021, 'delayed': 9022, 'setdataprovider': 9023, 'led': 9024, 'sg0002': 9025, \"'methodname'\": 9026, 'knowntypeattribute': 9027, \"'objectmodel\": 9028, \"basething'\": 9029, 'reloaded': 9030, 'relaunched': 9031, 'radial': 9032, 'networkinformation': 9033, 'contactfieldtypes': 9034, 'pictureslibrary': 9035, 'remembers': 9036, 'adapted': 9037, 'imageex': 9038, 'faded': 9039, 'redefine': 9040, 'iksjackdescription': 9041, 'getjackdescription': 9042, 'ofcourse': 9043, 'windwos': 9044, 'fulltrustprocess': 9045, 'python': 9046, 'mentioning': 9047, 'handicap': 9048, 'func': 9049, 'conversions': 9050, 'campaign': 9051, 'wasapi': 9052, 'mkv': 9053, 'raises': 9054, 'sourcenotsupported': 9055, 'highlighting': 9056, 'separation': 9057, 'byâ\\x80¦': 9058, 'clearing': 9059, 'getopenfilename': 9060, 'observables': 9061, 'angular2': 9062, 'al3891': 9063, 'observabledatabinding': 9064, '50443': 9065, 'smile': 9066, 'lacked': 9067, '0xe72d': 9068, 'enumerated': 9069, '953': 9070, 'resign': 9071, 'pervious': 9072, '13364760': 9073, 'selectrange': 9074, 'remainder': 9075, 'sakes': 9076, 'formulas': 9077, '15043': 9078, 'logmessage': 9079, 'stringmessage': 9080, 'payload': 9081, 'xperf': 9082, 'eventdata': 9083, '2831450': 9084, 'thomasclaudiushuber': 9085, 'tabbed': 9086, 'databound': 9087, \"backgrounddownloader's\": 9088, 'setheader': 9089, 'heder': 9090, 'concatenated': 9091, 'combo': 9092, 'printhelper': 9093, 'subgroups': 9094, 'necessarily': 9095, 'browsed': 9096, 'outlined': 9097, 'massively': 9098, 'profit': 9099, 'createâ\\x80¦': 9100, 'sections': 9101, 'subcategory': 9102, 'japf': 9103, 'central': 9104, 'iâ\\x80\\x99ve': 9105, 'prototype': 9106, 'impressed': 9107, 'didnâ\\x80\\x99t': 9108, 'entrance': 9109, 'â\\x80\\x9cslide': 9110, 'leftâ\\x80\\x9d': 9111, 'backlog': 9112, 'xamltreeview': 9113, 'filetarget': 9114, 'seacchresults': 9115, 'enterprises': 9116, 'rdlc': 9117, 'virtualizing': 9118, 'february': 9119, '9th': 9120, 'spash': 9121, 'stubbornly': 9122, 'resisting': 9123, 'increasingly': 9124, 'eartrumpet': 9125, 'pri': 9126, 'unencrypted': 9127, 'genuine': 9128, 'transmits': 9129, 'terminated': 9130, '821': 9131, 'systemtriggertype': 9132, 'powerstatechange': 9133, 'toastnotification': 9134, 'expirationtime': 9135, 'dismisses': 9136, 'toastnotofcation': 9137, 'scracth': 9138, 'crowded': 9139, 'outdated': 9140, 'refreshed': 9141, 'crasy': 9142, 'staff': 9143, 'redrawing': 9144, 'visble': 9145, 'donâ\\x80\\x99t': 9146, 'sicked': 9147, 'cipher': 9148, 'sqlcipher': 9149, '899': 9150, 'surprisingly': 9151, 'tiredâ\\x80¦': 9152, 'rd': 9153, 'hardcode': 9154, 'engeneered': 9155, 'withing': 9156, 'af38910b': 9157, 'e097': 9158, '484a': 9159, 'a76a': 9160, '94fb7880da6b': 9161, 'uwpwinjslistview': 9162, '1654': 9163, 'teste': 9164, 'xamlanimatedgif': 9165, 'vey': 9166, 'hurdle': 9167, 'onscreen': 9168, 'hotkeys': 9169, 'docked': 9170, 'aids': 9171, 'anticipation': 9172, 'forgive': 9173, 'ifâ\\x80¦': 9174, 'wisible': 9175, \"can'tâ\\x80¦\": 9176, 'cold': 9177, 'warm': 9178, 'iso7816': 9179, 'istestproperty': 9180, 'nameof': 9181, 'istest': 9182, 'typeof': 9183, 'mixes': 9184, 'addonlicenses': 9185, 'extendedjsondata': 9186, 'accesskeydisplaydismissed': 9187, 'tooltips': 9188, 'unprofessional': 9189, 'doâ\\x80¦': 9190, 'mediatranscoder': 9191, 'codecnotfound': 9192, 'privateobject': 9193, 'privatetype': 9194, 'testplatform': 9195, 'unittestframework': 9196, 'md5': 9197, 'checksums': 9198, 'tremendously': 9199, 'convertible': 9200, 'pursuit': 9201, 'intersection': 9202, 'forefront': 9203, 'acquire': 9204, 'complicating': 9205, 'downloaders': 9206, 'shifted': 9207, 'volumes': 9208, \"scrollviewer's\": 9209, 'overpanned': 9210, 'subpar': 9211, 'sqlclient': 9212, 'irrelevant': 9213, 'startactivityforresult': 9214, 'backstack': 9215, 'forwardstack': 9216, 'pruned': 9217, 'navigations': 9218, 'reached': 9219, 'underlying': 9220, 'prohibited': 9221, 'overridding': 9222, 'versus': 9223, 'miliseconds': 9224, 'imfsourcereader': 9225, 'setcurrentposition': 9226, 'initialization': 9227, 'kexp': 9228, '93': 9229, 'station': 9230, 'alt': 9231, 'oh': 9232, 'stupidest': 9233, 'callbacks': 9234, 'midioutport': 9235, 'getdeviceselector': 9236, 'ymidi': 9237, 'heâ\\x80\\x99s': 9238, 'tobias': 9239, 'erichsen': 9240, '4668': 9241, '27': 9242, 'winioctl': 9243, '6513': 9244, 'c4668': 9245, 'winnt': 9246, \"th2'\": 9247, 'preprocessor': 9248, 'macro': 9249, \"'0'\": 9250, \"elif'\": 9251, 'appinsightswin10': 9252, '7761381': 9253, 'unity3d': 9254, 'subscribes': 9255, 'unsubscribe': 9256, 'terminate': 9257, 'tweaked': 9258, 'complains': 9259, 'keydown': 9260, 'keyroutedeventargs': 9261, 'ibm': 9262, 'annoyance': 9263, 'lotsâ\\x80¦': 9264, 'addons': 9265, 'dlcs': 9266, 'zh': 9267, 'tw': 9268, 'indi': 9269, '3820213': 9270, 'maintenance': 9271, 'simulatenously': 9272, 'madi': 9273, 'dante': 9274, 'soundcard': 9275, 'downloadoperation': 9276, 'backgroundtransfer': 9277, 'resumed': 9278, 'bytesreceived': 9279, 'totalbytestoreceive': 9280, 'startasync': 9281, 'swift': 9282, 'env': 9283, '0x80070003': 9284, 'myapp': 9285, 'knownfolderdump': 9286, 'ps': 9287, 'innosetup': 9288, 'extracting': 9289, 'produced': 9290, 'avneet': 9291, 'singh': 9292, 'tepper': 9293, '1607': 9294, 'advice': 9295, 'folderâ\\x80¦': 9296, 'mobilebroadband': 9297, 'drawer': 9298, 'drudge': 9299, '9wzdncrdm04m': 9300, 'grief': 9301, 'accommodation': 9302, 'apiinformation': 9303, 'gracefully': 9304, 'degrading': 9305, 'donationware': 9306, 'anecdotal': 9307, 'literatureput': 9308, 'dependencies': 9309, 'strategic': 9310, 'indigent': 9311, 'li': 9312, 'wns': 9313, 'equivalents': 9314, 'iterating': 9315, 'xplat': 9316, 'cohesive': 9317, 'story': 9318, 'teamsâ\\x80¦': 9319, 'componentmodel': 9320, \"wpf's\": 9321, 'operators': 9322, 'researches': 9323, 'aesthetics': 9324, 'visualfeedback': 9325, 'framerate': 9326, 'drops': 9327, 'ironic': 9328, 'dispatcher': 9329, 'pointervisualizationsettings': 9330, 'getforcurrentview': 9331, 'dispacher': 9332, 'trydisablewindowsvisualfeedback': 9333, '27550373': 9334, 'getactivewindow': 9335, 'getproccessid': 9336, 'enumwindows': 9337, 'couse': 9338, 'relatedâ\\x80¦': 9339, 'razor': 9340, 'verbosity': 9341, 'dockpanels': 9342, 'adorners': 9343, 'capitalized': 9344, 'meaningless': 9345, '15px': 9346, 'workâ\\x80¦': 9347, 'equipped': 9348, 'portfolios': 9349, 'â\\x80\\x98in': 9350, 'progressâ\\x80\\x99': 9351, 'theyâ\\x80¦': 9352, 'sys': 9353, 'serves': 9354, 'iis': 9355, 'rejecting': 9356, 'handing': 9357, 'callers': 9358, 'counters': 9359, 'audioframe': 9360, 'quantumsizeselectionmode': 9361, 'closesttodesired': 9362, 'initiating': 9363, 'limitless': 9364, '38': 9365, 'technician': 9366, 'distressed': 9367, 'needlessly': 9368, 'reservation': 9369, 'destruction': 9370, \"ox's\": 9371, 'primitive': 9372, 'definetely': 9373, 'spike': 9374, 'spammers': 9375, 'scraping': 9376, 'recenlty': 9377, 'hacked': 9378, '9nblggh6850j': 9379, \"'great\": 9380, \"tool'\": 9381, \"'i\": 9382, 'admit': 9383, 'ordeal': 9384, 'lancelot': 9385, 'exporter': 9386, 'r10g10b10a2': 9387, 'consumed': 9388, 'lovers': 9389, 'facilitates': 9390, 'timetriggers': 9391, 'architectures': 9392, 'attracting': 9393, 'classical': 9394, 'counterparts': 9395, 'benefitting': 9396, 'ffmpeg': 9397, 'visualstate': 9398, 'setters': 9399, 'xamlbehaviors': 9400, 'delegate': 9401, 'propertymetadata': 9402, 'fadein': 9403, 'fadeout': 9404, 'crossfade': 9405, 'counterclockwise': 9406, 'dilemma': 9407, 'fears': 9408, 'actualstartlocation': 9409, 'uap3': 9410, 'appexecutionalias': 9411, 'enablepulltorefresh': 9412, 'textcanvas': 9413, 'quota': 9414, '100kb': 9415, 'fragile': 9416, 'dependencyobject': 9417, 'setcurrentvalue': 9418, 'viseme': 9419, 'sythesis': 9420, 'selectranges': 9421, 'ienumerabel': 9422, 'itemindexranges': 9423, 'awaitng': 9424, 'packet': 9425, 'retransmission': 9426, 'acknowledgment': 9427, 'harvest': 9428, 'thos': 9429, 'renewal': 9430, 'ons': 9431, 'repurchase': 9432, 'bindable': 9433, 'headerstyle': 9434, 'completley': 9435, 'filesytem': 9436, 'userchoice': 9437, 'accessexception': 9438, 'folderrelativeid': 9439, 'minimised': 9440, 'createframeoutputnode': 9441, 'eliminated': 9442, 'unload': 9443, 'terminating': 9444, 'annually': 9445, 'refreshing': 9446, 'templated': 9447, 'magnified': 9448, 'signals': 9449, 'intention': 9450, 'useâ\\x80¦': 9451, 'revoke': 9452, 'revoked': 9453, 'sibling': 9454, 'itemsstackpanel': 9455, 'mediasourcestreams': 9456, 'vorbis': 9457, 'dockpanel': 9458, 'fulltrustprocesslauncher': 9459, 'launchfulltrustprocessforcurrentappasync': 9460, 'overpanning': 9461, 'evidently': 9462, 'saveasync': 9463, 'rds': 9464, 'apperciate': 9465, 'haptic': 9466, '5kg': 9467, 'gdi': 9468, 'layered': 9469, 'guarantee': 9470, 'relying': 9471, 'partys': 9472, 'granularly': 9473, 'louder': 9474, 'spit': 9475, 'anaglyph': 9476, 'ldap': 9477, 'autonomous': 9478, 'codedui': 9479, 'uitestactionlog': 9480, 'jj159363': 9481, 'cifs': 9482, 'backgroundnetwork': 9483, 'backgroundmediaplayback': 9484, \"'pro'\": 9485, 'channelcount': 9486, 'xsltsettings': 9487, 'enabledocumentfunction': 9488, 'feasible': 9489, 'scrolled': 9490, 'dropper': 9491, 'monitored': 9492, 'someday': 9493, 'webcam': 9494, 'simplistic': 9495, 'inputs': 9496, 'omit': 9497, 'controlling': 9498, 'lift': 9499, 'adjacenttotopdisplayedge': 9500, 'adjacenttobottomdisplayedge': 9501, 'usernotificationchangedtriggerdetails': 9502, 'usernotificationchangedtrigger': 9503, 'extremly': 9504, 'subpixel': 9505, 'listenfor': 9506, '2000': 9507, 'phraselists': 9508, 'titlebar': 9509, 'tabtip': 9510, 'buttonsespecially': 9511, 'ngening': 9512, 'mediacontrol': 9513, 'webm': 9514, 'analyzers': 9515, 'disposable': 9516, 'streamsocketcontrol': 9517, 'entrypoint': 9518, 'dx12': 9519, 'segregate': 9520, 'vms': 9521, '0xe7d': 9522, 'transmissions': 9523, 'spikes': 9524, 'cycling': 9525, 'afterwards': 9526, 'flowdocumentreader': 9527, 'flowdocumentscrollviewer': 9528, 'excelê': 9529, 'fieldsê': 9530, 'guides': 9531, 'precise': 9532, 'delivered': 9533, 'scolling': 9534, 'trough': 9535, 'autosuggestbox': 9536, 'automationproperties': 9537, 'automations': 9538, 'splashscreen': 9539, 'collectionviewsource': 9540, 'changer': 9541, 'createrequestasync': 9542, 'usercertificateenrollmentmanager': 9543, 'certificatepropertiescollection': 9544, 'oids': 9545, '311': 9546, 'entity': 9547, 'rfc822': 9548, 'ds': 9549, \"compatibility's\": 9550, 'sake': 9551, 'semantically': 9552, 'revise': 9553, '12px': 9554, 'connectable': 9555, 'hardwired': 9556, 'zipping': 9557, 'unzipping': 9558, \"desktop's\": 9559, 'happier': 9560, 'defining': 9561, 'macros': 9562, 'pedestrianfeaturesvisible': 9563, 'aerialwithroads': 9564, 'aerial3dwithroads': 9565, 'refined': 9566, \"ngen'd\": 9567, 'refreshes': 9568, 'istorageitem': 9569, \"executable's\": 9570, 'andê': 9571, 'servicesê': 9572, 'likeê': 9573, 'copyê': 9574, \"'native\": 9575, 'busness': 9576, 'ribbon': 9577, 'scales': 9578, 'ada': 9579, 'erroneous': 9580, '0x80072f8f': 9581, '0x800f0906': 9582, '0xc004f074': 9583, 'mediation': 9584, 'restfull': 9585, 'startersê': 9586, 'relativepanel': 9587, 'conventions': 9588, 'stacklayout': 9589, 'beautifully': 9590, '6gb': 9591, 'uninteresting': 9592, 'leg': 9593, 'esri': 9594, 'createelementsfromshapefile': 9595, 'currency': 9596, 'trademark': 9597, 'engagement': 9598, 'commenting': 9599, 'tweaks': 9600, 'requestverificationasync': 9601, 'msft': 9602, 'reschedule': 9603, 'withé': 9604, 'whiteboard': 9605, 'resizes': 9606, 'registers': 9607, \"windows'\": 9608, 'dolphins': 9609, 'membership': 9610, 'directdraw': 9611, 'broader': 9612, 'prove': 9613, 'competitor': 9614, \"datagrid's\": 9615, 'showgridlines': 9616, 'removes': 9617, 'unregistered': 9618, '1809': 9619, 'adopter': 9620, 'dirtbags': 9621, 'asdfasdfasdf': 9622, 'exploration': 9623, 'chrashing': 9624, 'mapper': 9625, 'joyxoff': 9626, 'killing': 9627, 'dwm': 9628, 'rotated': 9629, 'oom': 9630, 'exempt': 9631, 'exemple': 9632, 'bluethooth': 9633, '4d': 9634, 'cummulative': 9635, 'ceirtain': 9636, 'charmap': 9637, '…': 9638, '500x500': 9639, 'serialcommunication': 9640, '“10': 9641, 'freeze”': 9642, '“': 9643, 'appxupload”': 9644, 'aarnott': 9645, 'commit': 9646, '2843cb918562050fd4e6df1f3fca0c72f4812eb4': 9647, '“c': 9648, 'mybutton': 9649, 'mistyped': 9650, 'neck': 9651, 'windowsml': 9652, 'machinelearning': 9653, 'specificly': 9654, 'ai': 9655, 'setttings': 9656, 'shortened': 9657, 'a2dp': 9658, 'citing': 9659, 'rfcomm': 9660, '0x110a': 9661, '0x110b': 9662, 'on…': 9663, 'mom': 9664, 'dad': 9665, 'inputbox': 9666, 'migrating': 9667, 'dongle': 9668, 'hci': 9669, 'conncetion': 9670, 'explicitly': 9671, 'lsof': 9672, 'precedent': 9673, 'isalnum': 9674, 'codepages': 9675, 'abo': 9676, 'printerextensionlibrary': 9677, 'hereby': 9678, 'reccomends': 9679, 'me…': 9680, 'begging': 9681, 'hates': 9682, 'recommends': 9683, 'mmsecurevirtualmemoryagainstwrites': 9684, 'idealy': 9685, 'propertyname': 9686, 'investigate': 9687, 'unintentionally': 9688, 'organic': 9689, 'overs': 9690, 'wherver': 9691, 'accordingly': 9692, 'successes': 9693, '214': 9694, 'ı': 9695, 'seee': 9696, 'otler': 9697, 'ore': 9698, 'ıts': 9699, 'gona': 9700, 'handfull': 9701, 'inverse': 9702, 'posix': 9703, 'pipes': 9704, \"'feature'\": 9705, 'convention': 9706, 'sha2': 9707, 'guidelines': 9708, 'authenticodesignature': 9709, 'carryover': 9710, 'w95': 9711, 'w98': 9712, 'gridswitcher': 9713, 'visualizes': 9714, 'visualizing': 9715, 'accelerated': 9716, 'shortcoming': 9717, 'unusual': 9718, \"get's\": 9719, 'throwing': 9720, 'multiplatform': 9721, '5o': 9722, 'chips': 9723, '125': 9724, 'keyborad': 9725, 'gujarati': 9726, \"'દ્વિ'\": 9727, 'timings': 9728, 'badges': 9729, 'textalignment': 9730, 'diagonally': 9731, 'horizontally': 9732, 'danish': 9733, 'compound': 9734, 'hyphenation': 9735, 'already…': 9736, 'silent': 9737, 'publisher’s': 9738, 'w3c': 9739, 'appmanifest': 9740, 'ditch': 9741, 'starter': 9742, 'gigabytes': 9743, 'sensorsdk': 9744, 'grunt': 9745, 'replacements': 9746, 'op': 9747, 'pins': 9748, \"studio's\": 9749, 'assigns': 9750, 'clearer': 9751, 'individuals': 9752, 'streamings': 9753, \"'email\": 9754, \"signature'\": 9755, 'embeded': 9756, 'extensión': 9757, 'abcd': 9758, 'bcd': 9759, 'smartphones': 9760, 'nhibernate': 9761, 'entityframework': 9762, 'instead…': 9763, 'prediction': 9764, 'contentchanged': 9765, 'webp': 9766, 'tima': 9767, 'showdeletebutton': 9768, 'quantitative': 9769, 'profiling': 9770, 'capturephototostoragefileasync': 9771, 'allocates': 9772, 'unauthorizedexception': 9773, 'ambiguous': 9774, 'ensuring': 9775, 'signups': 9776, 'deterrent': 9777, 'maliciously': 9778, 'yemen': 9779, 'advertisement': 9780, 'dayvisible': 9781, 'spinner': 9782, 'negates': 9783, 'todos': 9784, 'elsewhere': 9785, 'ibeacons': 9786, 'wordflow': 9787, 'showforasyncaction': 9788, 'cleanup': 9789, 'gamepad': 9790, 'undelete': 9791, 'testcase': 9792, 'wtl': 9793, 'aging': 9794, 'parsed': 9795, 'nlp': 9796, 'pronouns': 9797, 'grammatical': 9798, 'contact´s': 9799, 'relay': 9800, 'unlucky': 9801, 'ipx': 9802, 'spx': 9803, 'owns': 9804, 'ressizing': 9805, 'screenspace': 9806, 'the…': 9807, 'brands': 9808, 'amd': 9809, 'spec': 9810, 'dashboardthe': 9811, 'tune': 9812, 'aso': 9813, 'remaining': 9814, 'xliff': 9815, \"companies'\": 9816, 'emailing': 9817, 'correspond': 9818, 'stats': 9819, 'removal': 9820, 'whoever': 9821, 'findings': 9822, 'easingfunctionbase': 9823, 'wisdom': 9824, 'easing': 9825, 'prefetchvirtualmemory': 9826, 'hh780543': 9827, '49': 9828, 'wildly': 9829, 'peerffinder': 9830, 'authorize': 9831, 'egomotion': 9832, 'beeping': 9833, 'smartglass': 9834, 'programmiatic': 9835, 'printdocument': 9836, 'guests': 9837, 'compositionsurface': 9838, 'regulated': 9839, 'activates': 9840, 'technically': 9841, 'deviceextendedproperties': 9842, 'anid2': 9843, 'serialize': 9844, 'traversing': 9845, 'id3': 9846, 'storageitem': 9847, 'admob': 9848, 'adsense': 9849, 'updation': 9850, 'accomplished': 9851, 'dimensions': 9852, 'brokers': 9853, 'broker': 9854, 'balanced': 9855, 'indications': 9856, 'liek': 9857, 'impacted': 9858, 'permanently': 9859, 'lowercase': 9860, 'texttransform': 9861, 'proceeding': 9862, 'winsock': 9863, 'plesae': 9864, 'suspendingdeferral': 9865, 'isuspendingdeferral': 9866, 'inputting': 9867, 'earthwind': 9868, 'blowingriver': 9869, 'streamingwaterfallsetc': 9870, 'manipulations': 9871, 'nokiaurischemes': 9872, 'surrounded': 9873, 'handsets': 9874, 'challenging': 9875, 'diferent': 9876, 'virtualizable': 9877, 'applets': 9878, 'wm8': 9879, 'greatest': 9880, 'splitted': 9881, 'horizontalplacement': 9882, 'verticalplacement': 9883, 'holly': 9884, 'engineer': 9885, 'thougt': 9886, 'goot': 9887, 'sideloaded': 9888, 'pressure': 9889, 'webviewexecutionmode': 9890, 'separatethread': 9891, 'foregrounds': 9892, 'committed': 9893, 'voodoo': 9894, '992px': 9895, '700px': 9896, \"'files'\": 9897, \"'vfs'\": 9898, '30505': 9899, 'wildcardpatternexception': 9900, 'vfsops': 9901, 'ps1': 9902, '138': 9903, 'escape': 9904, 'writeable': 9905, 'atl': 9906, 'minimally': 9907, 'atlcom': 9908, 'orbit': 9909, 'plane': 9910, 'dimension': 9911, \"'exists'\": 9912, 'tesar': 9913, 'mediaplayerframemoveinconsistentbehavior': 9914, 'viewpoint': 9915, 'challenges': 9916, 'overcome': 9917, 'investment': 9918, 'worh': 9919, 'doubt': 9920, 'involvement': 9921, 'budget': 9922, 'apppinmanager': 9923, 'fuunction': 9924, 'takecare': 9925, 'startmenu': 9926, 'clarify': 9927, 'inspection': 9928, 'implications': 9929, 'actable': 9930, 'datapackageoperation': 9931, '“clean': 9932, 'uninstall”': 9933, 'desiredboundsmode': 9934, 'controlpanelgrid': 9935, '4804827': 9936, \"element's\": 9937, 'ffmpeginterop': 9938, 'unviersally': 9939, 'primitives': 9940, '110': 9941, 'stub': 9942, 'vb6': 9943, 'itemtemplates': 9944, 'groupstyleselector': 9945, 'possiblte': 9946, 'itemtemplateselector': 9947, 'performace': 9948, 'innovative': 9949, 'communicating': 9950, '608': 9951, 'gles3': 9952, 'webgl2': 9953, 'fbo': 9954, 'tests…': 9955, 'conntact': 9956, 'asynchronously': 9957, 'impediments': 9958, 'incrementalloading': 9959, 'automating': 9960, 'minus': 9961, 'trade': 9962, 'immovable': 9963, 'drap': 9964, 'contenttype': 9965, 'helloo': 9966, 'urgency': 9967, 'needing': 9968, 'evaluate': 9969, 'clang': 9970, 'undisclosed': 9971, 'doubles': 9972, 'tickfrequency': 9973, 'highlighted': 9974, 'rewriting': 9975, 'meaning': 9976, 'semitransparent': 9977, 'fromargb': 9978, '85255255': 9979, 'bgra8': 9980, 'control’s': 9981, 'bitmappixelformat': 9982, 'don‘t': 9983, 'buildings': 9984, 'knew': 9985, 'neglected': 9986, 'prioritized': 9987, '995': 9988, 'suspend': 9989, 'gatt': 9990, 'hid': 9991, 'hidinjector': 9992, 'injects': 9993, 'radialcontroller': 9994, 'annotation': 9995, 'appiumfielddecorator': 9996, 'annotated': 9997, 'datepickerflyout': 9998, 'richtextbox': 9999, 'connecteddevices': 10000, 'loadasync': 10001}\n"
     ]
    }
   ],
   "source": [
    "word_index=[]\n",
    "num_words = 10000\n",
    "tokenizer = Tokenizer(num_words=num_words, filters='!\"#$%&()*+,-./:;<=>?@[\\\\]^_`{|}~\\t\\n',lower=True,split=' ')\n",
    "tokenizer.fit_on_texts(x_train.values)\n",
    "X = tokenizer.texts_to_sequences(x_train.values)\n",
    "word_index = tokenizer.word_index\n",
    "print('Found %s unique tokens.' % len(word_index))\n",
    "\n",
    "max_length_of_text = 200\n",
    "X = pad_sequences(X, maxlen=max_length_of_text)\n",
    "\n",
    "print(word_index)\n"
   ]
  },
  {
   "cell_type": "code",
   "execution_count": 0,
   "metadata": {
    "colab": {},
    "colab_type": "code",
    "id": "gSkwt1ZQ9P_J"
   },
   "outputs": [],
   "source": [
    "embedding_matrix = np.zeros((len(word_index) + 1, 200))\n",
    "for word, i in word_index.items():\n",
    "    embedding_vector = embeddings_index.get(word)\n",
    "    if embedding_vector is not None:\n",
    "        # words not found in embedding index will be all-zeros.\n",
    "        embedding_matrix[i] = embedding_vector"
   ]
  },
  {
   "cell_type": "code",
   "execution_count": 0,
   "metadata": {
    "colab": {},
    "colab_type": "code",
    "id": "GjdVh-dE9P_P"
   },
   "outputs": [],
   "source": [
    "X_train,X_test, y_train, y_test = train_test_split(X,y_train, test_size = 0.05, random_state = 42)\n",
    "# print(X_train.shape,y_train.shape)\n",
    "# X_train\n",
    "# print(X_test.shape,y_test.shape)"
   ]
  },
  {
   "cell_type": "code",
   "execution_count": 30,
   "metadata": {
    "colab": {
     "base_uri": "https://localhost:8080/",
     "height": 34
    },
    "colab_type": "code",
    "id": "ZdHX0FPt9P_V",
    "outputId": "db851713-9784-4f28-a038-39cf118fdb4f"
   },
   "outputs": [
    {
     "data": {
      "text/plain": [
       "(425, 200)"
      ]
     },
     "execution_count": 30,
     "metadata": {
      "tags": []
     },
     "output_type": "execute_result"
    }
   ],
   "source": [
    "X_test.shape"
   ]
  },
  {
   "cell_type": "markdown",
   "metadata": {
    "colab": {},
    "colab_type": "code",
    "id": "EOfCWw_G9P_a"
   },
   "source": [
    "### Creating Model"
   ]
  },
  {
   "cell_type": "code",
   "execution_count": 54,
   "metadata": {
    "colab": {
     "base_uri": "https://localhost:8080/",
     "height": 676
    },
    "colab_type": "code",
    "id": "lANR3PP39P_f",
    "outputId": "df067c3e-ab94-4493-af46-a1f7b1d716c9"
   },
   "outputs": [
    {
     "name": "stdout",
     "output_type": "stream",
     "text": [
      "(?, ?)\n",
      "Model: \"model_4\"\n",
      "_________________________________________________________________\n",
      "Layer (type)                 Output Shape              Param #   \n",
      "=================================================================\n",
      "input_4 (InputLayer)         (None, 200)               0         \n",
      "_________________________________________________________________\n",
      "embedding_4 (Embedding)      (None, 200, 200)          2000400   \n",
      "_________________________________________________________________\n",
      "conv1d_12 (Conv1D)           (None, 196, 512)          512512    \n",
      "_________________________________________________________________\n",
      "conv1d_13 (Conv1D)           (None, 192, 256)          655616    \n",
      "_________________________________________________________________\n",
      "max_pooling1d_7 (MaxPooling1 (None, 38, 256)           0         \n",
      "_________________________________________________________________\n",
      "conv1d_14 (Conv1D)           (None, 34, 256)           327936    \n",
      "_________________________________________________________________\n",
      "conv1d_15 (Conv1D)           (None, 30, 128)           163968    \n",
      "_________________________________________________________________\n",
      "max_pooling1d_8 (MaxPooling1 (None, 6, 128)            0         \n",
      "_________________________________________________________________\n",
      "conv1d_16 (Conv1D)           (None, 2, 128)            82048     \n",
      "_________________________________________________________________\n",
      "flatten_4 (Flatten)          (None, 256)               0         \n",
      "_________________________________________________________________\n",
      "dense_8 (Dense)              (None, 128)               32896     \n",
      "_________________________________________________________________\n",
      "dropout_2 (Dropout)          (None, 128)               0         \n",
      "_________________________________________________________________\n",
      "dense_9 (Dense)              (None, 128)               16512     \n",
      "_________________________________________________________________\n",
      "dense_10 (Dense)             (None, 1)                 129       \n",
      "=================================================================\n",
      "Total params: 3,792,017\n",
      "Trainable params: 3,792,017\n",
      "Non-trainable params: 0\n",
      "_________________________________________________________________\n",
      "None\n"
     ]
    }
   ],
   "source": [
    "import keras\n",
    "from keras.layers import Convolution1D as Conv1D\n",
    "from  keras.layers import MaxPooling1D as MaxPooling1D\n",
    "\n",
    "embed_dim = 200 #Change to observe effects\n",
    "lstm_out = 512 #Change to observe effects\n",
    "batch_size = 32\n",
    "\n",
    "\n",
    "input1 = keras.layers.Input(shape=(200,))\n",
    "\n",
    "x = Embedding(10002, embed_dim,weights=[embedding_matrix])(input1)  \n",
    "x = Conv1D(512, 5, activation='relu')(x)\n",
    "x = Conv1D(256, 5, activation='relu')(x)\n",
    "x = MaxPooling1D(5)(x)\n",
    "x = Conv1D(256, 5, activation='relu')(x)\n",
    "\n",
    "x = Conv1D(128, 5, activation='relu')(x)\n",
    "x = MaxPooling1D(5)(x)\n",
    "x = Conv1D(128, 5, activation='relu')(x)\n",
    "# x = MaxPooling1D(5)(x)  # global max pooling\n",
    "x = Flatten()(x)\n",
    "print(x.shape)\n",
    "x = Dense(128, activation='relu')(x)\n",
    "x=Dropout(0.3)(x)\n",
    "x = Dense(128, activation='relu')(x)\n",
    "preds = Dense(1, activation='sigmoid')(x)\n",
    "\n",
    "model = Model(input1, preds)\n",
    "print(model.summary())\n",
    "import keras\n",
    "\n",
    "# input1 = keras.layers.Input(shape=(16,))\n",
    "# x1 = keras.layers.Dense(8, activation='relu')(input1)\n",
    "# input2 = keras.layers.Input(shape=(32,))\n",
    "# x2 = keras.layers.Dense(8, activation='relu')(input2)\n",
    "# # equivalent to added = keras.layers.add([x1, x2])\n",
    "# added = keras.layers.Add()([x1, x2])\n",
    "\n",
    "# out = keras.layers.Dense(4)(added)\n",
    "# model = keras.models.Model(inputs=[input1, input2], outputs=out)\n"
   ]
  },
  {
   "cell_type": "code",
   "execution_count": 0,
   "metadata": {
    "colab": {},
    "colab_type": "code",
    "id": "I3IFixyj9P_k"
   },
   "outputs": [],
   "source": [
    "# embed_dim = 128\n",
    "# lstm_out = 196\n",
    "# from keras.layers import Dense, Embedding, LSTM, SpatialDropout1D\n",
    "\n",
    "# model = Sequential()\n",
    "# model.add(Embedding(2000, embed_dim,input_length = X_train.shape[1]))\n",
    "# model.add(SpatialDropout1D(0.3))\n",
    "# model.add(LSTM(lstm_out, dropout=0.2, recurrent_dropout=0.2))\n",
    "# model.add(Dense(512,activation='relu'))\n",
    "# model.add(Dense(128,activation='relu'))\n",
    "# model.add(Dense(64,activation='relu'))\n",
    "# model.add(Dense(10,activation='softmax'))\n",
    "\n",
    "# # model.compile(loss = 'categorical_crossentropy', optimizer='adam',metrics = ['accuracy'])\n",
    "# print(model.summary())"
   ]
  },
  {
   "cell_type": "code",
   "execution_count": 0,
   "metadata": {
    "colab": {},
    "colab_type": "code",
    "id": "eHuYW17l9P_q"
   },
   "outputs": [],
   "source": [
    "import keras\n",
    "model.compile(loss = 'binary_crossentropy', optimizer='adam',metrics = ['accuracy'])\n"
   ]
  },
  {
   "cell_type": "code",
   "execution_count": 0,
   "metadata": {
    "colab": {},
    "colab_type": "code",
    "id": "1DgV95wC9P_v"
   },
   "outputs": [],
   "source": [
    "\n"
   ]
  },
  {
   "cell_type": "code",
   "execution_count": 58,
   "metadata": {
    "colab": {
     "base_uri": "https://localhost:8080/",
     "height": 606
    },
    "colab_type": "code",
    "id": "DzDkvtRy9P_0",
    "outputId": "b24c2e9f-2eaf-4b18-9a5c-e7e8f85e6593"
   },
   "outputs": [
    {
     "name": "stdout",
     "output_type": "stream",
     "text": [
      "Train on 8075 samples, validate on 425 samples\n",
      "Epoch 1/8\n",
      "8075/8075 [==============================] - 9s 1ms/step - loss: 0.8403 - acc: 0.6996 - val_loss: 0.3677 - val_acc: 0.8894\n",
      "\n",
      "Epoch 00001: val_acc improved from -inf to 0.88941, saving model to weights-improvement.hdf5\n",
      "Epoch 2/8\n",
      "8075/8075 [==============================] - 7s 890us/step - loss: 0.5358 - acc: 0.8510 - val_loss: 0.3665 - val_acc: 0.8659\n",
      "\n",
      "Epoch 00002: val_acc did not improve from 0.88941\n",
      "Epoch 3/8\n",
      "8075/8075 [==============================] - 7s 885us/step - loss: 0.3864 - acc: 0.8941 - val_loss: 0.2969 - val_acc: 0.8894\n",
      "\n",
      "Epoch 00003: val_acc improved from 0.88941 to 0.88941, saving model to weights-improvement.hdf5\n",
      "Epoch 4/8\n",
      "8075/8075 [==============================] - 7s 894us/step - loss: 0.2856 - acc: 0.9226 - val_loss: 0.3422 - val_acc: 0.8753\n",
      "\n",
      "Epoch 00004: val_acc did not improve from 0.88941\n",
      "Epoch 5/8\n",
      "8075/8075 [==============================] - 7s 892us/step - loss: 0.2101 - acc: 0.9516 - val_loss: 0.3335 - val_acc: 0.8871\n",
      "\n",
      "Epoch 00005: val_acc did not improve from 0.88941\n",
      "Epoch 6/8\n",
      "8075/8075 [==============================] - 7s 888us/step - loss: 0.1775 - acc: 0.9553 - val_loss: 0.4248 - val_acc: 0.8682\n",
      "\n",
      "Epoch 00006: val_acc did not improve from 0.88941\n",
      "Epoch 7/8\n",
      "8075/8075 [==============================] - 7s 896us/step - loss: 0.1543 - acc: 0.9611 - val_loss: 0.6141 - val_acc: 0.8400\n",
      "\n",
      "Epoch 00007: val_acc did not improve from 0.88941\n",
      "Epoch 8/8\n",
      "8075/8075 [==============================] - 7s 884us/step - loss: 0.1404 - acc: 0.9593 - val_loss: 0.4722 - val_acc: 0.8400\n",
      "\n",
      "Epoch 00008: val_acc did not improve from 0.88941\n"
     ]
    },
    {
     "data": {
      "text/plain": [
       "<keras.callbacks.History at 0x7faa7bf87eb8>"
      ]
     },
     "execution_count": 58,
     "metadata": {
      "tags": []
     },
     "output_type": "execute_result"
    }
   ],
   "source": [
    "from keras.callbacks import ModelCheckpoint\n",
    "filepath=\"weights-improvement.hdf5\"\n",
    "\n",
    "checkpoint = ModelCheckpoint(filepath, monitor='val_acc', verbose=1, save_best_only=True, mode='max')\n",
    "callbacks_list = [checkpoint]\n",
    "# X_train,X_test, X_train_class, X_test_class, y_train, y_test =\n",
    "model.fit(x=[X_train], y=y_train, batch_size=100, epochs=8,callbacks=callbacks_list, verbose=1,validation_data=([X_test],y_test),class_weight= {0:1,1:3})"
   ]
  },
  {
   "cell_type": "code",
   "execution_count": 0,
   "metadata": {
    "colab": {},
    "colab_type": "code",
    "id": "OYx23fsG9P_5"
   },
   "outputs": [],
   "source": []
  },
  {
   "cell_type": "code",
   "execution_count": 0,
   "metadata": {
    "colab": {},
    "colab_type": "code",
    "id": "VX18e6TJ9P_-"
   },
   "outputs": [],
   "source": [
    "Y=tokenizer.texts_to_sequences(test['Text'].values)\n",
    "\n",
    "\n",
    "testing_input = pad_sequences(Y, maxlen=max_length_of_text)\n"
   ]
  },
  {
   "cell_type": "code",
   "execution_count": 0,
   "metadata": {
    "colab": {},
    "colab_type": "code",
    "id": "7IcHwFBd9QAb"
   },
   "outputs": [],
   "source": [
    "model.load_weights(\"weights-improvement.hdf5\")"
   ]
  },
  {
   "cell_type": "code",
   "execution_count": 0,
   "metadata": {
    "colab": {},
    "colab_type": "code",
    "id": "z6y1YQ0X9QAg"
   },
   "outputs": [],
   "source": [
    "predict=model.predict([testing_input])"
   ]
  },
  {
   "cell_type": "code",
   "execution_count": 62,
   "metadata": {
    "colab": {
     "base_uri": "https://localhost:8080/",
     "height": 884
    },
    "colab_type": "code",
    "id": "U_bugCdU9QAl",
    "outputId": "796e10da-537b-44e0-f3f5-f35c3b53dbdc"
   },
   "outputs": [
    {
     "name": "stdout",
     "output_type": "stream",
     "text": [
      "[[0.06487566]\n",
      " [0.92742074]\n",
      " [0.8962215 ]\n",
      " [0.9716372 ]\n",
      " [0.916628  ]\n",
      " [0.5963221 ]\n",
      " [0.91474485]\n",
      " [0.8623058 ]\n",
      " [0.7037799 ]\n",
      " [0.99176997]\n",
      " [0.91463184]\n",
      " [0.9234885 ]\n",
      " [0.99008954]\n",
      " [0.56387305]\n",
      " [0.97391677]\n",
      " [0.9758331 ]\n",
      " [0.9560262 ]\n",
      " [0.0670805 ]\n",
      " [0.44240755]\n",
      " [0.96319425]\n",
      " [0.02692831]\n",
      " [0.937729  ]\n",
      " [0.86354506]\n",
      " [0.01504403]\n",
      " [0.04906622]\n",
      " [0.99029875]\n",
      " [0.5713516 ]\n",
      " [0.8511274 ]\n",
      " [0.99631214]\n",
      " [0.07691628]\n",
      " [0.83048564]\n",
      " [0.02593523]\n",
      " [0.39140117]\n",
      " [0.943929  ]\n",
      " [0.06730264]\n",
      " [0.03902078]\n",
      " [0.7741159 ]\n",
      " [0.6641135 ]\n",
      " [0.39668465]\n",
      " [0.06953809]\n",
      " [0.03221014]\n",
      " [0.6831061 ]\n",
      " [0.989115  ]\n",
      " [0.08116323]\n",
      " [0.93918675]\n",
      " [0.9935678 ]\n",
      " [0.94193065]\n",
      " [0.44040483]\n",
      " [0.9446311 ]\n",
      " [0.8925314 ]]\n"
     ]
    }
   ],
   "source": [
    "print(predict[0:50])"
   ]
  },
  {
   "cell_type": "code",
   "execution_count": 0,
   "metadata": {
    "colab": {},
    "colab_type": "code",
    "id": "zLJRu9Ze9QAr"
   },
   "outputs": [],
   "source": [
    "id=np.array(test['ID'])\n",
    "\n"
   ]
  },
  {
   "cell_type": "markdown",
   "metadata": {
    "colab": {
     "base_uri": "https://localhost:8080/",
     "height": 34
    },
    "colab_type": "code",
    "id": "fvP-b-uzhPuC",
    "outputId": "003c5cc8-ce2d-41b6-a4a7-0842801a088a"
   },
   "source": [
    "### Creating Submission files"
   ]
  },
  {
   "cell_type": "code",
   "execution_count": 0,
   "metadata": {
    "colab": {},
    "colab_type": "code",
    "id": "K1XcvBwL9QAx"
   },
   "outputs": [],
   "source": [
    "\n",
    "for i in range(len(id)):\n",
    "    if predict[i]>0.5:\n",
    "        predict[i]=1\n",
    "    else:\n",
    "        predict[i]=0\n",
    "predict=predict.reshape(-1)\n",
    "import csv\n",
    "sub=open(\"sub1.csv\",\"w\")\n",
    "writer=csv.writer(sub)\n",
    "\n",
    "writer.writerow(['ID','Class'])\n",
    "for i in range(len(id)):\n",
    "    writer.writerow([id[i],int(predict[i])])\n",
    "sub.close()\n"
   ]
  },
  {
   "cell_type": "markdown",
   "metadata": {
    "colab_type": "text",
    "id": "azXg6uFx9QA2"
   },
   "source": [
    "<a href=\"sub1.csv\">subA</a>"
   ]
  },
  {
   "cell_type": "markdown",
   "metadata": {
    "colab_type": "text",
    "id": "HNY0E0gX9QA3"
   },
   "source": [
    "* <a href=\"/content/weights-improvement.hdf5\">download</a>"
   ]
  },
  {
   "cell_type": "code",
   "execution_count": 0,
   "metadata": {
    "colab": {},
    "colab_type": "code",
    "id": "sRMEHCuQ9QA5"
   },
   "outputs": [],
   "source": [
    "# predictB=predictB\n",
    "predictB*=10\n",
    "for i in range(53175):\n",
    "    if predictB[i]>10:\n",
    "        predictB[i]=10.0\n",
    "    elif predictB[i]<1:\n",
    "        predictB[i]=1.0\n",
    "    else:\n",
    "        pass\n",
    "temp=np.ceil(predictB)\n",
    "temp.reshape(53175)\n",
    "import csv\n",
    "sub=open(\"sub2.csv\",\"w\")\n",
    "writer=csv.writer(sub)\n",
    "writer.writerow([\"Id\",\"rating\"])\n",
    "for i in range(0,53175):\n",
    "    writer.writerow([i,temp[i]])\n",
    "sub.close()\n"
   ]
  },
  {
   "cell_type": "markdown",
   "metadata": {
    "colab_type": "text",
    "id": "k5vXgE-H9QA9"
   },
   "source": [
    "<a href=\"sub2.csv\">subB</a>"
   ]
  },
  {
   "cell_type": "code",
   "execution_count": 0,
   "metadata": {
    "colab": {},
    "colab_type": "code",
    "id": "5JmPETB69QA_"
   },
   "outputs": [],
   "source": [
    "predictC=predictC/np.max(predictC)\n",
    "predictC*=10\n",
    "# predictC=predictC)\n",
    "for i in range(53175):\n",
    "    if predictC[i]>10:\n",
    "        predictC[i]=10.0\n",
    "    elif predictC[i]<1:\n",
    "        predictC[i]=1.0\n",
    "    else:\n",
    "        pass\n",
    "# y_test=np.ceil(predictB)\n",
    "temp=predictC.reshape(-1)\n",
    "import csv\n",
    "sub=open(\"sub3.csv\",\"w\")\n",
    "writer=csv.writer(sub)\n",
    "writer.writerow([\"Id\",\"rating\"])\n",
    "for i in range(0,53175):\n",
    "    writer.writerow([i,temp[i]])\n",
    "sub.close()\n"
   ]
  },
  {
   "cell_type": "markdown",
   "metadata": {
    "colab_type": "text",
    "id": "Mzb5yVBc9QBD"
   },
   "source": [
    "<a href=\"sub3.csv\">subC</a>"
   ]
  },
  {
   "cell_type": "code",
   "execution_count": 0,
   "metadata": {
    "colab": {},
    "colab_type": "code",
    "id": "7Sjs9-e09QBF",
    "outputId": "fc65e06c-1fbf-40ff-bade-ec5868fcdd2b"
   },
   "outputs": [
    {
     "name": "stdout",
     "output_type": "stream",
     "text": [
      "done\n"
     ]
    }
   ],
   "source": [
    "print('done')"
   ]
  },
  {
   "cell_type": "code",
   "execution_count": 0,
   "metadata": {
    "colab": {},
    "colab_type": "code",
    "id": "E5NHpcQl9QBN"
   },
   "outputs": [],
   "source": [
    "model.save('weights-best.hdf5')"
   ]
  },
  {
   "cell_type": "code",
   "execution_count": 0,
   "metadata": {
    "colab": {
     "base_uri": "https://localhost:8080/",
     "height": 34
    },
    "colab_type": "code",
    "id": "o9OqFyf49QBV",
    "outputId": "32a22ed6-053f-41ac-cf52-7a1242927412"
   },
   "outputs": [
    {
     "name": "stdout",
     "output_type": "stream",
     "text": [
      "drive  sample_data  sub1.csv  test.csv\ttrain.csv  weights-improvement.hdf5\n"
     ]
    }
   ],
   "source": [
    "!ls"
   ]
  },
  {
   "cell_type": "code",
   "execution_count": 0,
   "metadata": {
    "colab": {},
    "colab_type": "code",
    "id": "OBqpdnl99QBZ"
   },
   "outputs": [],
   "source": [
    "!mv /content/weights-improvement.hdf5 /content/drive/My\\ Drive/"
   ]
  },
  {
   "cell_type": "markdown",
   "metadata": {
    "colab_type": "text",
    "id": "WORa8iSw9QBe"
   },
   "source": [
    "* <a href=\"weights-best.hdf5\">download</a>"
   ]
  },
  {
   "cell_type": "markdown",
   "metadata": {
    "colab_type": "text",
    "id": "gapXvH50ze-h"
   },
   "source": []
  },
  {
   "cell_type": "code",
   "execution_count": 0,
   "metadata": {
    "colab": {},
    "colab_type": "code",
    "id": "9vG7LFYS9QBf"
   },
   "outputs": [],
   "source": []
  }
 ],
 "metadata": {
  "accelerator": "GPU",
  "colab": {
   "collapsed_sections": [],
   "name": "nnfl_assignment_3_With_Conv1d (1).ipynb",
   "provenance": []
  },
  "kernelspec": {
   "display_name": "Python 3",
   "language": "python",
   "name": "python3"
  },
  "language_info": {
   "codemirror_mode": {
    "name": "ipython",
    "version": 3
   },
   "file_extension": ".py",
   "mimetype": "text/x-python",
   "name": "python",
   "nbconvert_exporter": "python",
   "pygments_lexer": "ipython3",
   "version": "3.7.3"
  }
 },
 "nbformat": 4,
 "nbformat_minor": 1
}
